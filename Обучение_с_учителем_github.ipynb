{
  "nbformat": 4,
  "nbformat_minor": 0,
  "metadata": {
    "ExecuteTimeLog": [
      {
        "duration": 1107,
        "start_time": "2021-11-06T17:43:28.350Z"
      },
      {
        "duration": 30,
        "start_time": "2021-11-06T17:44:33.680Z"
      },
      {
        "duration": 32,
        "start_time": "2021-11-06T17:47:29.560Z"
      },
      {
        "duration": 6831,
        "start_time": "2021-11-06T17:47:39.321Z"
      },
      {
        "duration": 390,
        "start_time": "2021-11-06T19:59:29.332Z"
      },
      {
        "duration": 1091,
        "start_time": "2021-11-06T19:59:33.695Z"
      },
      {
        "duration": 37,
        "start_time": "2021-11-06T19:59:37.236Z"
      },
      {
        "duration": 23,
        "start_time": "2021-11-06T19:59:40.346Z"
      },
      {
        "duration": 10,
        "start_time": "2021-11-06T20:03:29.323Z"
      },
      {
        "duration": 9,
        "start_time": "2021-11-06T20:10:53.571Z"
      },
      {
        "duration": 4,
        "start_time": "2021-11-06T20:11:14.875Z"
      },
      {
        "duration": 6,
        "start_time": "2021-11-06T20:11:21.624Z"
      },
      {
        "duration": 6,
        "start_time": "2021-11-06T20:11:49.971Z"
      },
      {
        "duration": 13,
        "start_time": "2021-11-06T20:12:08.963Z"
      },
      {
        "duration": 4,
        "start_time": "2021-11-06T20:12:23.353Z"
      },
      {
        "duration": 9,
        "start_time": "2021-11-06T20:12:25.973Z"
      },
      {
        "duration": 1122,
        "start_time": "2021-11-06T20:13:00.366Z"
      },
      {
        "duration": 29,
        "start_time": "2021-11-06T20:13:01.490Z"
      },
      {
        "duration": 22,
        "start_time": "2021-11-06T20:13:01.521Z"
      },
      {
        "duration": 3,
        "start_time": "2021-11-06T20:13:01.544Z"
      },
      {
        "duration": 27,
        "start_time": "2021-11-06T20:13:01.548Z"
      },
      {
        "duration": 14,
        "start_time": "2021-11-06T20:13:01.578Z"
      },
      {
        "duration": 8,
        "start_time": "2021-11-06T20:13:25.472Z"
      },
      {
        "duration": 8,
        "start_time": "2021-11-06T20:13:46.601Z"
      },
      {
        "duration": 9,
        "start_time": "2021-11-06T20:13:57.111Z"
      },
      {
        "duration": 9,
        "start_time": "2021-11-06T20:14:01.102Z"
      },
      {
        "duration": 1122,
        "start_time": "2021-11-06T20:14:20.762Z"
      },
      {
        "duration": 29,
        "start_time": "2021-11-06T20:14:21.886Z"
      },
      {
        "duration": 21,
        "start_time": "2021-11-06T20:14:21.917Z"
      },
      {
        "duration": 9,
        "start_time": "2021-11-06T20:14:21.940Z"
      },
      {
        "duration": 25,
        "start_time": "2021-11-06T20:14:21.950Z"
      },
      {
        "duration": 17,
        "start_time": "2021-11-06T20:14:21.977Z"
      },
      {
        "duration": 2,
        "start_time": "2021-11-06T20:14:38.841Z"
      },
      {
        "duration": 6,
        "start_time": "2021-11-06T20:14:53.263Z"
      },
      {
        "duration": 5,
        "start_time": "2021-11-06T20:15:07.031Z"
      },
      {
        "duration": 5,
        "start_time": "2021-11-06T20:15:23.040Z"
      },
      {
        "duration": 9,
        "start_time": "2021-11-06T20:15:24.692Z"
      },
      {
        "duration": 10,
        "start_time": "2021-11-06T20:15:56.083Z"
      },
      {
        "duration": 24788,
        "start_time": "2021-11-06T20:18:25.790Z"
      },
      {
        "duration": 13,
        "start_time": "2021-11-06T20:25:23.062Z"
      },
      {
        "duration": 9,
        "start_time": "2021-11-06T20:25:25.680Z"
      },
      {
        "duration": 5,
        "start_time": "2021-11-06T20:25:27.611Z"
      },
      {
        "duration": 4,
        "start_time": "2021-11-06T20:25:29.261Z"
      },
      {
        "duration": 4,
        "start_time": "2021-11-06T20:25:30.461Z"
      },
      {
        "duration": 12,
        "start_time": "2021-11-06T20:25:41.401Z"
      },
      {
        "duration": 9,
        "start_time": "2021-11-06T20:25:42.702Z"
      },
      {
        "duration": 5,
        "start_time": "2021-11-06T20:25:43.971Z"
      },
      {
        "duration": 4,
        "start_time": "2021-11-06T20:25:45.121Z"
      },
      {
        "duration": 4,
        "start_time": "2021-11-06T20:25:46.361Z"
      },
      {
        "duration": 16,
        "start_time": "2021-11-06T20:28:11.802Z"
      },
      {
        "duration": 342,
        "start_time": "2021-11-06T20:28:17.282Z"
      },
      {
        "duration": 259,
        "start_time": "2021-11-06T20:30:23.984Z"
      },
      {
        "duration": 22,
        "start_time": "2021-11-06T20:31:37.391Z"
      },
      {
        "duration": 251,
        "start_time": "2021-11-06T20:32:33.281Z"
      },
      {
        "duration": 256,
        "start_time": "2021-11-06T20:32:49.649Z"
      },
      {
        "duration": 3,
        "start_time": "2021-11-06T20:32:59.591Z"
      },
      {
        "duration": 3,
        "start_time": "2021-11-06T20:33:05.541Z"
      },
      {
        "duration": 240,
        "start_time": "2021-11-06T20:33:15.900Z"
      },
      {
        "duration": 258,
        "start_time": "2021-11-06T20:33:21.939Z"
      },
      {
        "duration": 239,
        "start_time": "2021-11-06T20:35:10.364Z"
      },
      {
        "duration": 15,
        "start_time": "2021-11-06T20:36:31.519Z"
      },
      {
        "duration": 15,
        "start_time": "2021-11-06T20:37:06.102Z"
      },
      {
        "duration": 9,
        "start_time": "2021-11-06T20:37:08.005Z"
      },
      {
        "duration": 10,
        "start_time": "2021-11-06T20:37:09.381Z"
      },
      {
        "duration": 275,
        "start_time": "2021-11-06T20:37:13.109Z"
      },
      {
        "duration": 13,
        "start_time": "2021-11-06T20:37:33.234Z"
      },
      {
        "duration": 9,
        "start_time": "2021-11-06T20:37:35.034Z"
      },
      {
        "duration": 8,
        "start_time": "2021-11-06T20:37:36.401Z"
      },
      {
        "duration": 101,
        "start_time": "2021-11-06T20:37:39.761Z"
      },
      {
        "duration": 253,
        "start_time": "2021-11-06T20:43:40.621Z"
      },
      {
        "duration": 265,
        "start_time": "2021-11-06T20:43:51.041Z"
      },
      {
        "duration": 24,
        "start_time": "2021-11-06T20:45:18.309Z"
      },
      {
        "duration": 138,
        "start_time": "2021-11-06T20:45:23.649Z"
      },
      {
        "duration": 19569,
        "start_time": "2021-11-06T20:45:26.794Z"
      },
      {
        "duration": 24880,
        "start_time": "2021-11-06T20:46:43.618Z"
      },
      {
        "duration": 326,
        "start_time": "2021-11-09T06:03:26.519Z"
      },
      {
        "duration": 1623,
        "start_time": "2021-11-09T06:03:36.687Z"
      },
      {
        "duration": 36,
        "start_time": "2021-11-09T06:03:38.313Z"
      },
      {
        "duration": 39,
        "start_time": "2021-11-09T06:03:38.352Z"
      },
      {
        "duration": 7,
        "start_time": "2021-11-09T06:03:38.394Z"
      },
      {
        "duration": 13,
        "start_time": "2021-11-09T06:03:38.430Z"
      },
      {
        "duration": 63,
        "start_time": "2021-11-09T06:03:38.446Z"
      },
      {
        "duration": 35212,
        "start_time": "2021-11-09T06:03:38.511Z"
      },
      {
        "duration": 21,
        "start_time": "2021-11-09T06:04:13.728Z"
      },
      {
        "duration": 14,
        "start_time": "2021-11-09T06:04:13.754Z"
      },
      {
        "duration": 11,
        "start_time": "2021-11-09T06:04:13.771Z"
      },
      {
        "duration": 47,
        "start_time": "2021-11-09T06:04:13.784Z"
      },
      {
        "duration": 29,
        "start_time": "2021-11-09T06:04:13.833Z"
      },
      {
        "duration": 25,
        "start_time": "2021-11-09T06:04:13.865Z"
      },
      {
        "duration": 596,
        "start_time": "2021-11-09T06:04:13.892Z"
      },
      {
        "duration": 6363,
        "start_time": "2021-11-09T06:04:08.128Z"
      },
      {
        "duration": 6362,
        "start_time": "2021-11-09T06:04:08.130Z"
      },
      {
        "duration": 64,
        "start_time": "2021-11-09T06:04:57.869Z"
      },
      {
        "duration": 5,
        "start_time": "2021-11-09T06:05:53.012Z"
      },
      {
        "duration": 127,
        "start_time": "2021-11-09T06:06:03.209Z"
      },
      {
        "duration": 299,
        "start_time": "2021-11-09T06:09:49.811Z"
      },
      {
        "duration": 210,
        "start_time": "2021-11-09T06:10:04.542Z"
      },
      {
        "duration": 212,
        "start_time": "2021-11-09T06:15:34.768Z"
      },
      {
        "duration": 16114,
        "start_time": "2021-11-09T06:15:58.676Z"
      },
      {
        "duration": 40490,
        "start_time": "2021-11-09T06:16:18.042Z"
      },
      {
        "duration": 19483,
        "start_time": "2021-11-09T06:18:18.336Z"
      },
      {
        "duration": 40518,
        "start_time": "2021-11-09T06:18:41.682Z"
      },
      {
        "duration": 39023,
        "start_time": "2021-11-09T06:20:39.206Z"
      },
      {
        "duration": 39203,
        "start_time": "2021-11-09T07:35:26.333Z"
      },
      {
        "duration": 378,
        "start_time": "2021-11-09T07:49:35.989Z"
      },
      {
        "duration": 7202,
        "start_time": "2021-11-09T07:49:58.348Z"
      },
      {
        "duration": 8,
        "start_time": "2021-11-09T07:50:18.819Z"
      },
      {
        "duration": 9,
        "start_time": "2021-11-09T07:50:59.309Z"
      },
      {
        "duration": 263,
        "start_time": "2021-11-09T07:51:25.394Z"
      },
      {
        "duration": 14,
        "start_time": "2021-11-09T07:51:31.394Z"
      },
      {
        "duration": 53,
        "start_time": "2021-11-09T07:55:37.924Z"
      },
      {
        "duration": 271,
        "start_time": "2021-11-09T07:56:09.484Z"
      },
      {
        "duration": 6,
        "start_time": "2021-11-09T07:56:13.977Z"
      },
      {
        "duration": 50,
        "start_time": "2021-11-09T07:56:20.714Z"
      },
      {
        "duration": 236,
        "start_time": "2021-11-09T07:57:41.829Z"
      },
      {
        "duration": 212,
        "start_time": "2021-11-09T07:58:26.511Z"
      },
      {
        "duration": 39790,
        "start_time": "2021-11-09T07:58:57.555Z"
      },
      {
        "duration": 107,
        "start_time": "2021-11-09T10:02:37.395Z"
      },
      {
        "duration": 1414,
        "start_time": "2021-11-09T10:10:32.946Z"
      },
      {
        "duration": 34,
        "start_time": "2021-11-09T10:10:34.363Z"
      },
      {
        "duration": 42,
        "start_time": "2021-11-09T10:10:34.400Z"
      },
      {
        "duration": 4,
        "start_time": "2021-11-09T10:10:34.445Z"
      },
      {
        "duration": 18,
        "start_time": "2021-11-09T10:10:34.452Z"
      },
      {
        "duration": 31,
        "start_time": "2021-11-09T10:10:34.473Z"
      },
      {
        "duration": 37731,
        "start_time": "2021-11-09T10:10:34.530Z"
      },
      {
        "duration": 19,
        "start_time": "2021-11-09T10:11:12.264Z"
      },
      {
        "duration": 49,
        "start_time": "2021-11-09T10:11:12.287Z"
      },
      {
        "duration": 10,
        "start_time": "2021-11-09T10:11:12.340Z"
      },
      {
        "duration": 7,
        "start_time": "2021-11-09T10:11:12.353Z"
      },
      {
        "duration": 10,
        "start_time": "2021-11-09T10:11:12.363Z"
      },
      {
        "duration": 7,
        "start_time": "2021-11-09T10:11:12.375Z"
      },
      {
        "duration": 80,
        "start_time": "2021-11-09T10:11:12.384Z"
      },
      {
        "duration": 74,
        "start_time": "2021-11-09T10:11:12.467Z"
      },
      {
        "duration": 374,
        "start_time": "2021-11-09T10:11:12.544Z"
      },
      {
        "duration": 40437,
        "start_time": "2021-11-09T10:11:12.930Z"
      },
      {
        "duration": 5,
        "start_time": "2021-11-09T10:11:53.370Z"
      },
      {
        "duration": 730,
        "start_time": "2021-11-09T10:11:53.378Z"
      },
      {
        "duration": -220,
        "start_time": "2021-11-09T10:11:54.330Z"
      },
      {
        "duration": -240,
        "start_time": "2021-11-09T10:11:54.352Z"
      },
      {
        "duration": -274,
        "start_time": "2021-11-09T10:11:54.387Z"
      },
      {
        "duration": -278,
        "start_time": "2021-11-09T10:11:54.393Z"
      },
      {
        "duration": -284,
        "start_time": "2021-11-09T10:11:54.400Z"
      },
      {
        "duration": -287,
        "start_time": "2021-11-09T10:11:54.404Z"
      },
      {
        "duration": -291,
        "start_time": "2021-11-09T10:11:54.409Z"
      },
      {
        "duration": -299,
        "start_time": "2021-11-09T10:11:54.419Z"
      },
      {
        "duration": 6,
        "start_time": "2021-11-09T10:12:53.204Z"
      },
      {
        "duration": 680,
        "start_time": "2021-11-09T10:12:57.406Z"
      },
      {
        "duration": 5,
        "start_time": "2021-11-09T10:14:03.935Z"
      },
      {
        "duration": 18,
        "start_time": "2021-11-09T10:14:13.470Z"
      },
      {
        "duration": 9,
        "start_time": "2021-11-09T10:14:16.330Z"
      },
      {
        "duration": 5,
        "start_time": "2021-11-09T10:14:17.885Z"
      },
      {
        "duration": 6,
        "start_time": "2021-11-09T10:14:19.405Z"
      },
      {
        "duration": 6,
        "start_time": "2021-11-09T10:14:25.622Z"
      },
      {
        "duration": 14,
        "start_time": "2021-11-09T10:14:28.632Z"
      },
      {
        "duration": 9,
        "start_time": "2021-11-09T10:14:30.186Z"
      },
      {
        "duration": 5,
        "start_time": "2021-11-09T10:14:31.587Z"
      },
      {
        "duration": 5,
        "start_time": "2021-11-09T10:14:33.630Z"
      },
      {
        "duration": 1454,
        "start_time": "2021-11-09T10:32:35.710Z"
      },
      {
        "duration": 35,
        "start_time": "2021-11-09T10:32:37.167Z"
      },
      {
        "duration": 38,
        "start_time": "2021-11-09T10:32:37.205Z"
      },
      {
        "duration": 5,
        "start_time": "2021-11-09T10:32:37.246Z"
      },
      {
        "duration": 17,
        "start_time": "2021-11-09T10:32:37.253Z"
      },
      {
        "duration": 60,
        "start_time": "2021-11-09T10:32:37.272Z"
      },
      {
        "duration": 36493,
        "start_time": "2021-11-09T10:32:37.334Z"
      },
      {
        "duration": 18,
        "start_time": "2021-11-09T10:33:13.831Z"
      },
      {
        "duration": 12,
        "start_time": "2021-11-09T10:33:13.853Z"
      },
      {
        "duration": 11,
        "start_time": "2021-11-09T10:33:13.867Z"
      },
      {
        "duration": 49,
        "start_time": "2021-11-09T10:33:13.880Z"
      },
      {
        "duration": 5,
        "start_time": "2021-11-09T10:33:13.932Z"
      },
      {
        "duration": 17,
        "start_time": "2021-11-09T10:33:13.940Z"
      },
      {
        "duration": 69,
        "start_time": "2021-11-09T10:33:13.959Z"
      },
      {
        "duration": 99,
        "start_time": "2021-11-09T10:33:14.031Z"
      },
      {
        "duration": 323,
        "start_time": "2021-11-09T10:33:14.137Z"
      },
      {
        "duration": 39375,
        "start_time": "2021-11-09T10:33:14.463Z"
      },
      {
        "duration": 6,
        "start_time": "2021-11-09T10:33:53.840Z"
      },
      {
        "duration": 40,
        "start_time": "2021-11-09T10:33:53.848Z"
      },
      {
        "duration": 10,
        "start_time": "2021-11-09T10:33:53.890Z"
      },
      {
        "duration": 21,
        "start_time": "2021-11-09T10:33:53.903Z"
      },
      {
        "duration": 8,
        "start_time": "2021-11-09T10:33:53.928Z"
      },
      {
        "duration": 10,
        "start_time": "2021-11-09T10:33:53.940Z"
      },
      {
        "duration": 19,
        "start_time": "2021-11-09T10:33:53.953Z"
      },
      {
        "duration": 9,
        "start_time": "2021-11-09T10:33:53.975Z"
      },
      {
        "duration": 9,
        "start_time": "2021-11-09T10:33:53.987Z"
      },
      {
        "duration": 35,
        "start_time": "2021-11-09T10:33:53.999Z"
      },
      {
        "duration": 104,
        "start_time": "2021-11-09T10:34:32.229Z"
      },
      {
        "duration": 226,
        "start_time": "2021-11-09T10:38:26.181Z"
      },
      {
        "duration": 228,
        "start_time": "2021-11-09T10:38:36.890Z"
      },
      {
        "duration": 40183,
        "start_time": "2021-11-09T10:40:44.497Z"
      },
      {
        "duration": 256,
        "start_time": "2021-11-09T10:42:07.767Z"
      },
      {
        "duration": 42514,
        "start_time": "2021-11-09T11:11:16.841Z"
      },
      {
        "duration": 230169,
        "start_time": "2021-11-09T11:13:50.695Z"
      },
      {
        "duration": 103733,
        "start_time": "2021-11-09T11:22:51.662Z"
      },
      {
        "duration": 347,
        "start_time": "2021-11-09T11:24:56.015Z"
      },
      {
        "duration": 1026,
        "start_time": "2021-11-09T11:25:26.795Z"
      },
      {
        "duration": 141,
        "start_time": "2021-11-09T11:26:55.583Z"
      },
      {
        "duration": 310,
        "start_time": "2021-11-09T11:28:53.282Z"
      },
      {
        "duration": 73,
        "start_time": "2021-11-09T11:30:11.256Z"
      },
      {
        "duration": 121,
        "start_time": "2021-11-09T11:30:13.111Z"
      },
      {
        "duration": 736485,
        "start_time": "2021-11-09T11:31:09.712Z"
      },
      {
        "duration": 13,
        "start_time": "2021-11-09T12:07:15.824Z"
      },
      {
        "duration": 11,
        "start_time": "2021-11-09T12:07:17.065Z"
      },
      {
        "duration": 5,
        "start_time": "2021-11-09T12:07:17.969Z"
      },
      {
        "duration": 5,
        "start_time": "2021-11-09T12:07:18.924Z"
      },
      {
        "duration": 5,
        "start_time": "2021-11-09T12:07:21.091Z"
      },
      {
        "duration": 1431,
        "start_time": "2021-11-09T12:07:29.248Z"
      },
      {
        "duration": 36,
        "start_time": "2021-11-09T12:07:30.682Z"
      },
      {
        "duration": 36,
        "start_time": "2021-11-09T12:07:30.721Z"
      },
      {
        "duration": 82,
        "start_time": "2021-11-09T12:07:30.760Z"
      },
      {
        "duration": 85,
        "start_time": "2021-11-09T12:07:30.845Z"
      },
      {
        "duration": 33,
        "start_time": "2021-11-09T12:07:30.933Z"
      },
      {
        "duration": 37062,
        "start_time": "2021-11-09T12:07:30.968Z"
      },
      {
        "duration": 18,
        "start_time": "2021-11-09T12:08:08.034Z"
      },
      {
        "duration": 14,
        "start_time": "2021-11-09T12:08:08.055Z"
      },
      {
        "duration": 11,
        "start_time": "2021-11-09T12:08:08.072Z"
      },
      {
        "duration": 45,
        "start_time": "2021-11-09T12:08:08.086Z"
      },
      {
        "duration": 7,
        "start_time": "2021-11-09T12:08:08.134Z"
      },
      {
        "duration": 13,
        "start_time": "2021-11-09T12:08:08.144Z"
      },
      {
        "duration": 73,
        "start_time": "2021-11-09T12:08:08.159Z"
      },
      {
        "duration": 103,
        "start_time": "2021-11-09T12:08:08.234Z"
      },
      {
        "duration": 309,
        "start_time": "2021-11-09T12:08:08.435Z"
      },
      {
        "duration": 46536,
        "start_time": "2021-11-09T12:08:08.746Z"
      },
      {
        "duration": 5,
        "start_time": "2021-11-09T12:08:55.285Z"
      },
      {
        "duration": 41,
        "start_time": "2021-11-09T12:08:55.292Z"
      },
      {
        "duration": 9,
        "start_time": "2021-11-09T12:08:55.336Z"
      },
      {
        "duration": 5,
        "start_time": "2021-11-09T12:08:55.347Z"
      },
      {
        "duration": 9,
        "start_time": "2021-11-09T12:08:55.354Z"
      },
      {
        "duration": 6,
        "start_time": "2021-11-09T12:08:55.369Z"
      },
      {
        "duration": 19,
        "start_time": "2021-11-09T12:08:55.378Z"
      },
      {
        "duration": 10,
        "start_time": "2021-11-09T12:08:55.430Z"
      },
      {
        "duration": 6,
        "start_time": "2021-11-09T12:08:55.442Z"
      },
      {
        "duration": 9,
        "start_time": "2021-11-09T12:08:55.451Z"
      },
      {
        "duration": 167,
        "start_time": "2021-11-09T12:08:55.462Z"
      },
      {
        "duration": 295,
        "start_time": "2021-11-09T12:08:55.633Z"
      },
      {
        "duration": 169,
        "start_time": "2021-11-09T12:08:55.933Z"
      },
      {
        "duration": 337,
        "start_time": "2021-11-09T12:08:56.106Z"
      },
      {
        "duration": 98220,
        "start_time": "2021-11-09T12:08:56.445Z"
      },
      {
        "duration": 262295,
        "start_time": "2021-11-09T12:10:34.668Z"
      },
      {
        "duration": 602361,
        "start_time": "2021-11-09T12:14:56.966Z"
      },
      {
        "duration": 9463,
        "start_time": "2021-11-09T12:29:53.215Z"
      },
      {
        "duration": 158709,
        "start_time": "2021-11-09T12:30:12.550Z"
      },
      {
        "duration": 1403,
        "start_time": "2021-11-09T18:59:34.866Z"
      },
      {
        "duration": 34,
        "start_time": "2021-11-09T18:59:36.272Z"
      },
      {
        "duration": 34,
        "start_time": "2021-11-09T18:59:36.310Z"
      },
      {
        "duration": 4,
        "start_time": "2021-11-09T18:59:36.347Z"
      },
      {
        "duration": 13,
        "start_time": "2021-11-09T18:59:36.353Z"
      },
      {
        "duration": 31,
        "start_time": "2021-11-09T18:59:36.368Z"
      },
      {
        "duration": 37783,
        "start_time": "2021-11-09T18:59:36.429Z"
      },
      {
        "duration": 28,
        "start_time": "2021-11-09T19:00:14.215Z"
      },
      {
        "duration": 12,
        "start_time": "2021-11-09T19:00:14.247Z"
      },
      {
        "duration": 16,
        "start_time": "2021-11-09T19:00:14.261Z"
      },
      {
        "duration": 4,
        "start_time": "2021-11-09T19:00:14.280Z"
      },
      {
        "duration": 44,
        "start_time": "2021-11-09T19:00:14.286Z"
      },
      {
        "duration": 5,
        "start_time": "2021-11-09T19:00:14.332Z"
      },
      {
        "duration": 51,
        "start_time": "2021-11-09T19:00:14.339Z"
      },
      {
        "duration": 144,
        "start_time": "2021-11-09T19:00:14.392Z"
      },
      {
        "duration": 352,
        "start_time": "2021-11-09T19:00:14.539Z"
      },
      {
        "duration": 45747,
        "start_time": "2021-11-09T19:00:14.893Z"
      },
      {
        "duration": 6,
        "start_time": "2021-11-09T19:01:00.642Z"
      },
      {
        "duration": 44,
        "start_time": "2021-11-09T19:01:00.650Z"
      },
      {
        "duration": 27,
        "start_time": "2021-11-09T19:01:00.696Z"
      },
      {
        "duration": 33,
        "start_time": "2021-11-09T19:01:00.726Z"
      },
      {
        "duration": 27,
        "start_time": "2021-11-09T19:01:00.762Z"
      },
      {
        "duration": 28,
        "start_time": "2021-11-09T19:01:00.792Z"
      },
      {
        "duration": 43,
        "start_time": "2021-11-09T19:01:00.823Z"
      },
      {
        "duration": 25,
        "start_time": "2021-11-09T19:01:00.869Z"
      },
      {
        "duration": 30,
        "start_time": "2021-11-09T19:01:00.897Z"
      },
      {
        "duration": 30,
        "start_time": "2021-11-09T19:01:00.934Z"
      },
      {
        "duration": 66,
        "start_time": "2021-11-09T19:01:00.968Z"
      },
      {
        "duration": 391,
        "start_time": "2021-11-09T19:01:01.038Z"
      },
      {
        "duration": 203,
        "start_time": "2021-11-09T19:01:01.432Z"
      },
      {
        "duration": 343,
        "start_time": "2021-11-09T19:01:01.637Z"
      },
      {
        "duration": 98207,
        "start_time": "2021-11-09T19:01:01.982Z"
      },
      {
        "duration": 253142,
        "start_time": "2021-11-09T19:02:40.191Z"
      },
      {
        "duration": 150429,
        "start_time": "2021-11-09T19:06:53.335Z"
      },
      {
        "duration": 430,
        "start_time": "2021-11-09T19:24:05.191Z"
      },
      {
        "duration": 4,
        "start_time": "2021-11-09T19:24:32.158Z"
      },
      {
        "duration": 7,
        "start_time": "2021-11-09T19:24:37.098Z"
      },
      {
        "duration": 91,
        "start_time": "2021-11-09T19:28:46.731Z"
      },
      {
        "duration": 331,
        "start_time": "2021-11-09T19:28:52.820Z"
      },
      {
        "duration": 13,
        "start_time": "2021-11-09T19:29:14.646Z"
      },
      {
        "duration": 105,
        "start_time": "2021-11-09T19:32:24.865Z"
      },
      {
        "duration": 275,
        "start_time": "2021-11-09T19:35:42.088Z"
      },
      {
        "duration": 890,
        "start_time": "2021-11-09T19:41:28.625Z"
      },
      {
        "duration": 4,
        "start_time": "2021-11-09T19:41:48.976Z"
      },
      {
        "duration": 471,
        "start_time": "2021-11-09T19:41:53.870Z"
      },
      {
        "duration": 466,
        "start_time": "2021-11-09T19:42:52.195Z"
      },
      {
        "duration": 9,
        "start_time": "2021-11-09T19:46:44.651Z"
      },
      {
        "duration": 7,
        "start_time": "2021-11-09T19:47:07.256Z"
      },
      {
        "duration": 10,
        "start_time": "2021-11-09T19:50:09.908Z"
      },
      {
        "duration": 7,
        "start_time": "2021-11-09T19:50:19.151Z"
      },
      {
        "duration": 330,
        "start_time": "2021-11-10T07:05:11.860Z"
      },
      {
        "duration": 1182,
        "start_time": "2021-11-10T07:05:18.742Z"
      },
      {
        "duration": 31,
        "start_time": "2021-11-10T07:05:19.925Z"
      },
      {
        "duration": 23,
        "start_time": "2021-11-10T07:05:19.958Z"
      },
      {
        "duration": 3,
        "start_time": "2021-11-10T07:05:19.983Z"
      },
      {
        "duration": 12,
        "start_time": "2021-11-10T07:05:19.988Z"
      },
      {
        "duration": 22,
        "start_time": "2021-11-10T07:05:20.002Z"
      },
      {
        "duration": 22791,
        "start_time": "2021-11-10T07:05:20.026Z"
      },
      {
        "duration": 13,
        "start_time": "2021-11-10T07:05:42.820Z"
      },
      {
        "duration": 29,
        "start_time": "2021-11-10T07:05:42.835Z"
      },
      {
        "duration": 9,
        "start_time": "2021-11-10T07:05:42.865Z"
      },
      {
        "duration": 4,
        "start_time": "2021-11-10T07:05:42.875Z"
      },
      {
        "duration": 6,
        "start_time": "2021-11-10T07:05:42.881Z"
      },
      {
        "duration": 5,
        "start_time": "2021-11-10T07:05:42.888Z"
      },
      {
        "duration": 32,
        "start_time": "2021-11-10T07:05:42.895Z"
      },
      {
        "duration": 61,
        "start_time": "2021-11-10T07:05:42.929Z"
      },
      {
        "duration": 268,
        "start_time": "2021-11-10T07:05:43.067Z"
      },
      {
        "duration": 29677,
        "start_time": "2021-11-10T07:05:43.337Z"
      },
      {
        "duration": 4,
        "start_time": "2021-11-10T07:06:13.015Z"
      },
      {
        "duration": 17,
        "start_time": "2021-11-10T07:06:13.021Z"
      },
      {
        "duration": 24,
        "start_time": "2021-11-10T07:06:13.039Z"
      },
      {
        "duration": 5,
        "start_time": "2021-11-10T07:06:13.065Z"
      },
      {
        "duration": 9,
        "start_time": "2021-11-10T07:06:13.071Z"
      },
      {
        "duration": 5,
        "start_time": "2021-11-10T07:06:13.084Z"
      },
      {
        "duration": 17,
        "start_time": "2021-11-10T07:06:13.092Z"
      },
      {
        "duration": 8,
        "start_time": "2021-11-10T07:06:13.111Z"
      },
      {
        "duration": 7,
        "start_time": "2021-11-10T07:06:13.121Z"
      },
      {
        "duration": 38,
        "start_time": "2021-11-10T07:06:13.131Z"
      },
      {
        "duration": 97,
        "start_time": "2021-11-10T07:06:13.171Z"
      },
      {
        "duration": 206,
        "start_time": "2021-11-10T07:06:13.270Z"
      },
      {
        "duration": 291,
        "start_time": "2021-11-10T07:06:13.478Z"
      },
      {
        "duration": 229,
        "start_time": "2021-11-10T07:06:13.771Z"
      },
      {
        "duration": 64434,
        "start_time": "2021-11-10T07:06:14.002Z"
      },
      {
        "duration": 162092,
        "start_time": "2021-11-10T07:07:18.438Z"
      },
      {
        "duration": 502,
        "start_time": "2021-11-10T07:10:00.532Z"
      },
      {
        "duration": 8,
        "start_time": "2021-11-10T07:10:01.036Z"
      },
      {
        "duration": 181,
        "start_time": "2021-11-10T07:10:01.045Z"
      },
      {
        "duration": 293,
        "start_time": "2021-11-10T07:10:01.228Z"
      },
      {
        "duration": 4,
        "start_time": "2021-11-10T07:10:01.523Z"
      },
      {
        "duration": 748,
        "start_time": "2021-11-10T08:16:23.018Z"
      },
      {
        "duration": 192,
        "start_time": "2021-11-10T08:16:28.959Z"
      },
      {
        "duration": 701,
        "start_time": "2021-11-10T08:16:45.029Z"
      },
      {
        "duration": 795,
        "start_time": "2021-11-10T08:17:10.032Z"
      },
      {
        "duration": 871,
        "start_time": "2021-11-10T08:17:16.797Z"
      },
      {
        "duration": 185,
        "start_time": "2021-11-10T08:17:24.187Z"
      },
      {
        "duration": 799,
        "start_time": "2021-11-10T08:17:31.987Z"
      },
      {
        "duration": 182,
        "start_time": "2021-11-10T08:32:49.488Z"
      },
      {
        "duration": 783,
        "start_time": "2021-11-10T08:32:56.671Z"
      },
      {
        "duration": 1228,
        "start_time": "2021-11-10T08:34:03.066Z"
      },
      {
        "duration": 32,
        "start_time": "2021-11-10T08:34:04.296Z"
      },
      {
        "duration": 24,
        "start_time": "2021-11-10T08:34:04.330Z"
      },
      {
        "duration": 4,
        "start_time": "2021-11-10T08:34:04.364Z"
      },
      {
        "duration": 12,
        "start_time": "2021-11-10T08:34:04.370Z"
      },
      {
        "duration": 25,
        "start_time": "2021-11-10T08:34:04.385Z"
      },
      {
        "duration": 22963,
        "start_time": "2021-11-10T08:34:04.412Z"
      },
      {
        "duration": 13,
        "start_time": "2021-11-10T08:34:27.378Z"
      },
      {
        "duration": 10,
        "start_time": "2021-11-10T08:34:27.394Z"
      },
      {
        "duration": 9,
        "start_time": "2021-11-10T08:34:27.405Z"
      },
      {
        "duration": 9,
        "start_time": "2021-11-10T08:34:27.415Z"
      },
      {
        "duration": 39,
        "start_time": "2021-11-10T08:34:27.426Z"
      },
      {
        "duration": 8,
        "start_time": "2021-11-10T08:34:27.466Z"
      },
      {
        "duration": 40,
        "start_time": "2021-11-10T08:34:27.476Z"
      },
      {
        "duration": 54,
        "start_time": "2021-11-10T08:34:27.518Z"
      },
      {
        "duration": 281,
        "start_time": "2021-11-10T08:34:27.670Z"
      },
      {
        "duration": 30795,
        "start_time": "2021-11-10T08:34:27.954Z"
      },
      {
        "duration": 12,
        "start_time": "2021-11-10T08:34:58.751Z"
      },
      {
        "duration": 21,
        "start_time": "2021-11-10T08:34:58.765Z"
      },
      {
        "duration": 9,
        "start_time": "2021-11-10T08:34:58.788Z"
      },
      {
        "duration": 5,
        "start_time": "2021-11-10T08:34:58.799Z"
      },
      {
        "duration": 5,
        "start_time": "2021-11-10T08:34:58.806Z"
      },
      {
        "duration": 6,
        "start_time": "2021-11-10T08:34:58.815Z"
      },
      {
        "duration": 43,
        "start_time": "2021-11-10T08:34:58.823Z"
      },
      {
        "duration": 8,
        "start_time": "2021-11-10T08:34:58.868Z"
      },
      {
        "duration": 4,
        "start_time": "2021-11-10T08:34:58.878Z"
      },
      {
        "duration": 8,
        "start_time": "2021-11-10T08:34:58.884Z"
      },
      {
        "duration": 78,
        "start_time": "2021-11-10T08:34:58.894Z"
      },
      {
        "duration": 108,
        "start_time": "2021-11-10T08:34:59.064Z"
      },
      {
        "duration": 289,
        "start_time": "2021-11-10T08:34:59.175Z"
      },
      {
        "duration": 237,
        "start_time": "2021-11-10T08:34:59.466Z"
      },
      {
        "duration": 65540,
        "start_time": "2021-11-10T08:34:59.705Z"
      },
      {
        "duration": 42761,
        "start_time": "2021-11-10T08:36:05.246Z"
      },
      {
        "duration": -212,
        "start_time": "2021-11-10T08:36:48.221Z"
      },
      {
        "duration": -214,
        "start_time": "2021-11-10T08:36:48.224Z"
      },
      {
        "duration": -215,
        "start_time": "2021-11-10T08:36:48.226Z"
      },
      {
        "duration": -216,
        "start_time": "2021-11-10T08:36:48.228Z"
      },
      {
        "duration": -219,
        "start_time": "2021-11-10T08:36:48.232Z"
      },
      {
        "duration": 384453,
        "start_time": "2021-11-10T08:36:59.061Z"
      },
      {
        "duration": 863,
        "start_time": "2021-11-10T08:43:31.789Z"
      },
      {
        "duration": 10,
        "start_time": "2021-11-10T08:43:35.781Z"
      },
      {
        "duration": 175,
        "start_time": "2021-11-10T08:43:37.989Z"
      },
      {
        "duration": 288,
        "start_time": "2021-11-10T08:43:39.659Z"
      },
      {
        "duration": 5,
        "start_time": "2021-11-10T08:43:42.081Z"
      }
    ],
    "kernelspec": {
      "display_name": "Python 3",
      "language": "python",
      "name": "python3"
    },
    "language_info": {
      "codemirror_mode": {
        "name": "ipython",
        "version": 3
      },
      "file_extension": ".py",
      "mimetype": "text/x-python",
      "name": "python",
      "nbconvert_exporter": "python",
      "pygments_lexer": "ipython3",
      "version": "3.7.8"
    },
    "toc": {
      "base_numbering": 1,
      "nav_menu": {},
      "number_sections": true,
      "sideBar": true,
      "skip_h1_title": true,
      "title_cell": "Содержание",
      "title_sidebar": "Contents",
      "toc_cell": true,
      "toc_position": {},
      "toc_section_display": true,
      "toc_window_display": false
    },
    "colab": {
      "name": "Обучение с учителем_v2_final.ipynb",
      "provenance": []
    }
  },
  "cells": [
    {
      "cell_type": "markdown",
      "metadata": {
        "toc": true,
        "id": "f1NFwWcO3uIU"
      },
      "source": [
        "<h1>Содержание<span class=\"tocSkip\"></span></h1>\n",
        "<div class=\"toc\"><ul class=\"toc-item\"><li><ul class=\"toc-item\"><li><span><a href=\"#Общее-впечатление\" data-toc-modified-id=\"Общее-впечатление-0.1\"><span class=\"toc-item-num\">0.1&nbsp;&nbsp;</span><font color=\"orange\">Общее впечатление</font></a></span></li><li><span><a href=\"#Общее-впечатление-(ревью-2)\" data-toc-modified-id=\"Общее-впечатление-(ревью-2)-0.2\"><span class=\"toc-item-num\">0.2&nbsp;&nbsp;</span><font color=\"orange\">Общее впечатление (ревью 2)</font></a></span></li></ul></li><li><span><a href=\"#Подготовка-данных\" data-toc-modified-id=\"Подготовка-данных-1\"><span class=\"toc-item-num\">1&nbsp;&nbsp;</span>Подготовка данных</a></span></li><li><span><a href=\"#Исследование-задачи\" data-toc-modified-id=\"Исследование-задачи-2\"><span class=\"toc-item-num\">2&nbsp;&nbsp;</span>Исследование задачи</a></span></li><li><span><a href=\"#Борьба-с-дисбалансом\" data-toc-modified-id=\"Борьба-с-дисбалансом-3\"><span class=\"toc-item-num\">3&nbsp;&nbsp;</span>Борьба с дисбалансом</a></span></li><li><span><a href=\"#Тестирование-модели\" data-toc-modified-id=\"Тестирование-модели-4\"><span class=\"toc-item-num\">4&nbsp;&nbsp;</span>Тестирование модели</a></span></li><li><span><a href=\"#Чек-лист-готовности-проекта\" data-toc-modified-id=\"Чек-лист-готовности-проекта-5\"><span class=\"toc-item-num\">5&nbsp;&nbsp;</span>Чек-лист готовности проекта</a></span></li></ul></div>"
      ]
    },
    {
      "cell_type": "markdown",
      "metadata": {
        "id": "0cnP17ZD3uIV"
      },
      "source": [
        "# Отток клиентов"
      ]
    },
    {
      "cell_type": "markdown",
      "metadata": {
        "id": "S4dmGISH3uIV"
      },
      "source": [
        "Из «Бета-Банка» стали уходить клиенты. Каждый месяц. Немного, но заметно. Банковские маркетологи посчитали: сохранять текущих клиентов дешевле, чем привлекать новых.\n",
        "\n",
        "Нужно спрогнозировать, уйдёт клиент из банка в ближайшее время или нет. Вам предоставлены исторические данные о поведении клиентов и расторжении договоров с банком. \n",
        "\n",
        "Постройте модель с предельно большим значением *F1*-меры. Чтобы сдать проект успешно, нужно довести метрику до 0.59. Проверьте *F1*-меру на тестовой выборке самостоятельно.\n",
        "\n",
        "Дополнительно измеряйте *AUC-ROC*, сравнивайте её значение с *F1*-мерой.\n",
        "\n",
        "Источник данных: [https://www.kaggle.com/barelydedicated/bank-customer-churn-modeling](https://www.kaggle.com/barelydedicated/bank-customer-churn-modeling)"
      ]
    },
    {
      "cell_type": "markdown",
      "metadata": {
        "id": "0lz6i4Ad3uIW"
      },
      "source": [
        "## Подготовка данных"
      ]
    },
    {
      "cell_type": "code",
      "metadata": {
        "id": "3rLN4jIW3uIY"
      },
      "source": [
        "import pandas as pd\n",
        "import matplotlib.pyplot as plt\n",
        "from sklearn.model_selection import train_test_split\n",
        "from sklearn.linear_model import LogisticRegression\n",
        "from sklearn.ensemble import RandomForestClassifier\n",
        "from sklearn.tree import DecisionTreeClassifier\n",
        "from sklearn.metrics import f1_score\n",
        "from sklearn.metrics import roc_auc_score\n",
        "from sklearn.metrics import roc_curve\n",
        "from sklearn.utils import shuffle\n",
        "from sklearn.dummy import DummyClassifier"
      ],
      "execution_count": 1,
      "outputs": []
    },
    {
      "cell_type": "code",
      "metadata": {
        "id": "MzEQRtUW3uIb",
        "colab": {
          "base_uri": "https://localhost:8080/",
          "height": 311
        },
        "outputId": "84314213-9943-4d4c-962d-22bed11dcb21"
      },
      "source": [
        "data = pd.read_csv('/datasets/Churn.csv')"
      ],
      "execution_count": 2,
      "outputs": [
        {
          "output_type": "error",
          "ename": "FileNotFoundError",
          "evalue": "ignored",
          "traceback": [
            "\u001b[0;31m---------------------------------------------------------------------------\u001b[0m",
            "\u001b[0;31mFileNotFoundError\u001b[0m                         Traceback (most recent call last)",
            "\u001b[0;32m<ipython-input-2-8cec7c41068b>\u001b[0m in \u001b[0;36m<module>\u001b[0;34m()\u001b[0m\n\u001b[0;32m----> 1\u001b[0;31m \u001b[0mdata\u001b[0m \u001b[0;34m=\u001b[0m \u001b[0mpd\u001b[0m\u001b[0;34m.\u001b[0m\u001b[0mread_csv\u001b[0m\u001b[0;34m(\u001b[0m\u001b[0;34m'/datasets/Churn.csv'\u001b[0m\u001b[0;34m)\u001b[0m\u001b[0;34m\u001b[0m\u001b[0;34m\u001b[0m\u001b[0m\n\u001b[0m",
            "\u001b[0;32m/usr/local/lib/python3.7/dist-packages/pandas/util/_decorators.py\u001b[0m in \u001b[0;36mwrapper\u001b[0;34m(*args, **kwargs)\u001b[0m\n\u001b[1;32m    309\u001b[0m                     \u001b[0mstacklevel\u001b[0m\u001b[0;34m=\u001b[0m\u001b[0mstacklevel\u001b[0m\u001b[0;34m,\u001b[0m\u001b[0;34m\u001b[0m\u001b[0;34m\u001b[0m\u001b[0m\n\u001b[1;32m    310\u001b[0m                 )\n\u001b[0;32m--> 311\u001b[0;31m             \u001b[0;32mreturn\u001b[0m \u001b[0mfunc\u001b[0m\u001b[0;34m(\u001b[0m\u001b[0;34m*\u001b[0m\u001b[0margs\u001b[0m\u001b[0;34m,\u001b[0m \u001b[0;34m**\u001b[0m\u001b[0mkwargs\u001b[0m\u001b[0;34m)\u001b[0m\u001b[0;34m\u001b[0m\u001b[0;34m\u001b[0m\u001b[0m\n\u001b[0m\u001b[1;32m    312\u001b[0m \u001b[0;34m\u001b[0m\u001b[0m\n\u001b[1;32m    313\u001b[0m         \u001b[0;32mreturn\u001b[0m \u001b[0mwrapper\u001b[0m\u001b[0;34m\u001b[0m\u001b[0;34m\u001b[0m\u001b[0m\n",
            "\u001b[0;32m/usr/local/lib/python3.7/dist-packages/pandas/io/parsers/readers.py\u001b[0m in \u001b[0;36mread_csv\u001b[0;34m(filepath_or_buffer, sep, delimiter, header, names, index_col, usecols, squeeze, prefix, mangle_dupe_cols, dtype, engine, converters, true_values, false_values, skipinitialspace, skiprows, skipfooter, nrows, na_values, keep_default_na, na_filter, verbose, skip_blank_lines, parse_dates, infer_datetime_format, keep_date_col, date_parser, dayfirst, cache_dates, iterator, chunksize, compression, thousands, decimal, lineterminator, quotechar, quoting, doublequote, escapechar, comment, encoding, encoding_errors, dialect, error_bad_lines, warn_bad_lines, on_bad_lines, delim_whitespace, low_memory, memory_map, float_precision, storage_options)\u001b[0m\n\u001b[1;32m    584\u001b[0m     \u001b[0mkwds\u001b[0m\u001b[0;34m.\u001b[0m\u001b[0mupdate\u001b[0m\u001b[0;34m(\u001b[0m\u001b[0mkwds_defaults\u001b[0m\u001b[0;34m)\u001b[0m\u001b[0;34m\u001b[0m\u001b[0;34m\u001b[0m\u001b[0m\n\u001b[1;32m    585\u001b[0m \u001b[0;34m\u001b[0m\u001b[0m\n\u001b[0;32m--> 586\u001b[0;31m     \u001b[0;32mreturn\u001b[0m \u001b[0m_read\u001b[0m\u001b[0;34m(\u001b[0m\u001b[0mfilepath_or_buffer\u001b[0m\u001b[0;34m,\u001b[0m \u001b[0mkwds\u001b[0m\u001b[0;34m)\u001b[0m\u001b[0;34m\u001b[0m\u001b[0;34m\u001b[0m\u001b[0m\n\u001b[0m\u001b[1;32m    587\u001b[0m \u001b[0;34m\u001b[0m\u001b[0m\n\u001b[1;32m    588\u001b[0m \u001b[0;34m\u001b[0m\u001b[0m\n",
            "\u001b[0;32m/usr/local/lib/python3.7/dist-packages/pandas/io/parsers/readers.py\u001b[0m in \u001b[0;36m_read\u001b[0;34m(filepath_or_buffer, kwds)\u001b[0m\n\u001b[1;32m    480\u001b[0m \u001b[0;34m\u001b[0m\u001b[0m\n\u001b[1;32m    481\u001b[0m     \u001b[0;31m# Create the parser.\u001b[0m\u001b[0;34m\u001b[0m\u001b[0;34m\u001b[0m\u001b[0;34m\u001b[0m\u001b[0m\n\u001b[0;32m--> 482\u001b[0;31m     \u001b[0mparser\u001b[0m \u001b[0;34m=\u001b[0m \u001b[0mTextFileReader\u001b[0m\u001b[0;34m(\u001b[0m\u001b[0mfilepath_or_buffer\u001b[0m\u001b[0;34m,\u001b[0m \u001b[0;34m**\u001b[0m\u001b[0mkwds\u001b[0m\u001b[0;34m)\u001b[0m\u001b[0;34m\u001b[0m\u001b[0;34m\u001b[0m\u001b[0m\n\u001b[0m\u001b[1;32m    483\u001b[0m \u001b[0;34m\u001b[0m\u001b[0m\n\u001b[1;32m    484\u001b[0m     \u001b[0;32mif\u001b[0m \u001b[0mchunksize\u001b[0m \u001b[0;32mor\u001b[0m \u001b[0miterator\u001b[0m\u001b[0;34m:\u001b[0m\u001b[0;34m\u001b[0m\u001b[0;34m\u001b[0m\u001b[0m\n",
            "\u001b[0;32m/usr/local/lib/python3.7/dist-packages/pandas/io/parsers/readers.py\u001b[0m in \u001b[0;36m__init__\u001b[0;34m(self, f, engine, **kwds)\u001b[0m\n\u001b[1;32m    809\u001b[0m             \u001b[0mself\u001b[0m\u001b[0;34m.\u001b[0m\u001b[0moptions\u001b[0m\u001b[0;34m[\u001b[0m\u001b[0;34m\"has_index_names\"\u001b[0m\u001b[0;34m]\u001b[0m \u001b[0;34m=\u001b[0m \u001b[0mkwds\u001b[0m\u001b[0;34m[\u001b[0m\u001b[0;34m\"has_index_names\"\u001b[0m\u001b[0;34m]\u001b[0m\u001b[0;34m\u001b[0m\u001b[0;34m\u001b[0m\u001b[0m\n\u001b[1;32m    810\u001b[0m \u001b[0;34m\u001b[0m\u001b[0m\n\u001b[0;32m--> 811\u001b[0;31m         \u001b[0mself\u001b[0m\u001b[0;34m.\u001b[0m\u001b[0m_engine\u001b[0m \u001b[0;34m=\u001b[0m \u001b[0mself\u001b[0m\u001b[0;34m.\u001b[0m\u001b[0m_make_engine\u001b[0m\u001b[0;34m(\u001b[0m\u001b[0mself\u001b[0m\u001b[0;34m.\u001b[0m\u001b[0mengine\u001b[0m\u001b[0;34m)\u001b[0m\u001b[0;34m\u001b[0m\u001b[0;34m\u001b[0m\u001b[0m\n\u001b[0m\u001b[1;32m    812\u001b[0m \u001b[0;34m\u001b[0m\u001b[0m\n\u001b[1;32m    813\u001b[0m     \u001b[0;32mdef\u001b[0m \u001b[0mclose\u001b[0m\u001b[0;34m(\u001b[0m\u001b[0mself\u001b[0m\u001b[0;34m)\u001b[0m\u001b[0;34m:\u001b[0m\u001b[0;34m\u001b[0m\u001b[0;34m\u001b[0m\u001b[0m\n",
            "\u001b[0;32m/usr/local/lib/python3.7/dist-packages/pandas/io/parsers/readers.py\u001b[0m in \u001b[0;36m_make_engine\u001b[0;34m(self, engine)\u001b[0m\n\u001b[1;32m   1038\u001b[0m             )\n\u001b[1;32m   1039\u001b[0m         \u001b[0;31m# error: Too many arguments for \"ParserBase\"\u001b[0m\u001b[0;34m\u001b[0m\u001b[0;34m\u001b[0m\u001b[0;34m\u001b[0m\u001b[0m\n\u001b[0;32m-> 1040\u001b[0;31m         \u001b[0;32mreturn\u001b[0m \u001b[0mmapping\u001b[0m\u001b[0;34m[\u001b[0m\u001b[0mengine\u001b[0m\u001b[0;34m]\u001b[0m\u001b[0;34m(\u001b[0m\u001b[0mself\u001b[0m\u001b[0;34m.\u001b[0m\u001b[0mf\u001b[0m\u001b[0;34m,\u001b[0m \u001b[0;34m**\u001b[0m\u001b[0mself\u001b[0m\u001b[0;34m.\u001b[0m\u001b[0moptions\u001b[0m\u001b[0;34m)\u001b[0m  \u001b[0;31m# type: ignore[call-arg]\u001b[0m\u001b[0;34m\u001b[0m\u001b[0;34m\u001b[0m\u001b[0m\n\u001b[0m\u001b[1;32m   1041\u001b[0m \u001b[0;34m\u001b[0m\u001b[0m\n\u001b[1;32m   1042\u001b[0m     \u001b[0;32mdef\u001b[0m \u001b[0m_failover_to_python\u001b[0m\u001b[0;34m(\u001b[0m\u001b[0mself\u001b[0m\u001b[0;34m)\u001b[0m\u001b[0;34m:\u001b[0m\u001b[0;34m\u001b[0m\u001b[0;34m\u001b[0m\u001b[0m\n",
            "\u001b[0;32m/usr/local/lib/python3.7/dist-packages/pandas/io/parsers/c_parser_wrapper.py\u001b[0m in \u001b[0;36m__init__\u001b[0;34m(self, src, **kwds)\u001b[0m\n\u001b[1;32m     49\u001b[0m \u001b[0;34m\u001b[0m\u001b[0m\n\u001b[1;32m     50\u001b[0m         \u001b[0;31m# open handles\u001b[0m\u001b[0;34m\u001b[0m\u001b[0;34m\u001b[0m\u001b[0;34m\u001b[0m\u001b[0m\n\u001b[0;32m---> 51\u001b[0;31m         \u001b[0mself\u001b[0m\u001b[0;34m.\u001b[0m\u001b[0m_open_handles\u001b[0m\u001b[0;34m(\u001b[0m\u001b[0msrc\u001b[0m\u001b[0;34m,\u001b[0m \u001b[0mkwds\u001b[0m\u001b[0;34m)\u001b[0m\u001b[0;34m\u001b[0m\u001b[0;34m\u001b[0m\u001b[0m\n\u001b[0m\u001b[1;32m     52\u001b[0m         \u001b[0;32massert\u001b[0m \u001b[0mself\u001b[0m\u001b[0;34m.\u001b[0m\u001b[0mhandles\u001b[0m \u001b[0;32mis\u001b[0m \u001b[0;32mnot\u001b[0m \u001b[0;32mNone\u001b[0m\u001b[0;34m\u001b[0m\u001b[0;34m\u001b[0m\u001b[0m\n\u001b[1;32m     53\u001b[0m \u001b[0;34m\u001b[0m\u001b[0m\n",
            "\u001b[0;32m/usr/local/lib/python3.7/dist-packages/pandas/io/parsers/base_parser.py\u001b[0m in \u001b[0;36m_open_handles\u001b[0;34m(self, src, kwds)\u001b[0m\n\u001b[1;32m    227\u001b[0m             \u001b[0mmemory_map\u001b[0m\u001b[0;34m=\u001b[0m\u001b[0mkwds\u001b[0m\u001b[0;34m.\u001b[0m\u001b[0mget\u001b[0m\u001b[0;34m(\u001b[0m\u001b[0;34m\"memory_map\"\u001b[0m\u001b[0;34m,\u001b[0m \u001b[0;32mFalse\u001b[0m\u001b[0;34m)\u001b[0m\u001b[0;34m,\u001b[0m\u001b[0;34m\u001b[0m\u001b[0;34m\u001b[0m\u001b[0m\n\u001b[1;32m    228\u001b[0m             \u001b[0mstorage_options\u001b[0m\u001b[0;34m=\u001b[0m\u001b[0mkwds\u001b[0m\u001b[0;34m.\u001b[0m\u001b[0mget\u001b[0m\u001b[0;34m(\u001b[0m\u001b[0;34m\"storage_options\"\u001b[0m\u001b[0;34m,\u001b[0m \u001b[0;32mNone\u001b[0m\u001b[0;34m)\u001b[0m\u001b[0;34m,\u001b[0m\u001b[0;34m\u001b[0m\u001b[0;34m\u001b[0m\u001b[0m\n\u001b[0;32m--> 229\u001b[0;31m             \u001b[0merrors\u001b[0m\u001b[0;34m=\u001b[0m\u001b[0mkwds\u001b[0m\u001b[0;34m.\u001b[0m\u001b[0mget\u001b[0m\u001b[0;34m(\u001b[0m\u001b[0;34m\"encoding_errors\"\u001b[0m\u001b[0;34m,\u001b[0m \u001b[0;34m\"strict\"\u001b[0m\u001b[0;34m)\u001b[0m\u001b[0;34m,\u001b[0m\u001b[0;34m\u001b[0m\u001b[0;34m\u001b[0m\u001b[0m\n\u001b[0m\u001b[1;32m    230\u001b[0m         )\n\u001b[1;32m    231\u001b[0m \u001b[0;34m\u001b[0m\u001b[0m\n",
            "\u001b[0;32m/usr/local/lib/python3.7/dist-packages/pandas/io/common.py\u001b[0m in \u001b[0;36mget_handle\u001b[0;34m(path_or_buf, mode, encoding, compression, memory_map, is_text, errors, storage_options)\u001b[0m\n\u001b[1;32m    705\u001b[0m                 \u001b[0mencoding\u001b[0m\u001b[0;34m=\u001b[0m\u001b[0mioargs\u001b[0m\u001b[0;34m.\u001b[0m\u001b[0mencoding\u001b[0m\u001b[0;34m,\u001b[0m\u001b[0;34m\u001b[0m\u001b[0;34m\u001b[0m\u001b[0m\n\u001b[1;32m    706\u001b[0m                 \u001b[0merrors\u001b[0m\u001b[0;34m=\u001b[0m\u001b[0merrors\u001b[0m\u001b[0;34m,\u001b[0m\u001b[0;34m\u001b[0m\u001b[0;34m\u001b[0m\u001b[0m\n\u001b[0;32m--> 707\u001b[0;31m                 \u001b[0mnewline\u001b[0m\u001b[0;34m=\u001b[0m\u001b[0;34m\"\"\u001b[0m\u001b[0;34m,\u001b[0m\u001b[0;34m\u001b[0m\u001b[0;34m\u001b[0m\u001b[0m\n\u001b[0m\u001b[1;32m    708\u001b[0m             )\n\u001b[1;32m    709\u001b[0m         \u001b[0;32melse\u001b[0m\u001b[0;34m:\u001b[0m\u001b[0;34m\u001b[0m\u001b[0;34m\u001b[0m\u001b[0m\n",
            "\u001b[0;31mFileNotFoundError\u001b[0m: [Errno 2] No such file or directory: '/datasets/Churn.csv'"
          ]
        }
      ]
    },
    {
      "cell_type": "code",
      "metadata": {
        "scrolled": false,
        "id": "z_QysKYy3uIc"
      },
      "source": [
        "display(data.info())\n",
        "display(data.head())"
      ],
      "execution_count": null,
      "outputs": []
    },
    {
      "cell_type": "markdown",
      "metadata": {
        "id": "KA7lgIpk3uIe"
      },
      "source": [
        "**Заполним пропуски в столбце Tenure (сколько лет человек является клиентом банка) - если нет значения, то скорее всего человек является клиентом банка менее года - значит, значение может быть равно \"0\"**"
      ]
    },
    {
      "cell_type": "code",
      "metadata": {
        "id": "pjR3nPW53uIf"
      },
      "source": [
        "data['Tenure'] = data['Tenure'].fillna(0)"
      ],
      "execution_count": null,
      "outputs": []
    },
    {
      "cell_type": "code",
      "metadata": {
        "scrolled": false,
        "id": "-jHoGRbi3uIg"
      },
      "source": [
        "data.info()"
      ],
      "execution_count": null,
      "outputs": []
    },
    {
      "cell_type": "markdown",
      "metadata": {
        "id": "-Uh76j4L3uIi"
      },
      "source": [
        "**Определим категорийные столбцы методом nunique**"
      ]
    },
    {
      "cell_type": "code",
      "metadata": {
        "id": "684sXfaq3uIj"
      },
      "source": [
        "data.nunique()"
      ],
      "execution_count": null,
      "outputs": []
    },
    {
      "cell_type": "markdown",
      "metadata": {
        "id": "8ndCO90w3uIk"
      },
      "source": [
        "**Проверим данные на мультиколлинерность построением графика scatter_matrix**"
      ]
    },
    {
      "cell_type": "code",
      "metadata": {
        "id": "DzXnYhLf3uIk"
      },
      "source": [
        "pd.plotting.scatter_matrix(data,figsize=(12,12))\n",
        "plt.show"
      ],
      "execution_count": null,
      "outputs": []
    },
    {
      "cell_type": "markdown",
      "metadata": {
        "id": "qkW-RAmK3uIl"
      },
      "source": [
        "**На диаграммах не зафиксированна мультиколлинерность данных, поэтому используем все интересующие нас столбцы**"
      ]
    },
    {
      "cell_type": "code",
      "metadata": {
        "id": "zKDVfZLV3uIl"
      },
      "source": [
        "target = data['Exited']\n",
        "features = data.drop(['Exited', 'RowNumber', 'CustomerId', 'Gender', 'Surname', 'Geography'], axis=1)\n",
        "display(target.head())\n",
        "display(features.head())"
      ],
      "execution_count": null,
      "outputs": []
    },
    {
      "cell_type": "code",
      "metadata": {
        "id": "-0DHaRUC3uIm"
      },
      "source": [
        "features_train, features_test, target_train, target_test = (\n",
        "    train_test_split(\n",
        "        features, target, test_size=0.2, random_state=12345, stratify=target\n",
        "    )\n",
        ")"
      ],
      "execution_count": null,
      "outputs": []
    },
    {
      "cell_type": "code",
      "metadata": {
        "id": "ITUo8KJC3uIo"
      },
      "source": [
        "features_train, features_valid, target_train, target_valid = (\n",
        "    train_test_split(\n",
        "        features_train, target_train, test_size=0.2, random_state=12345, stratify=target_train\n",
        "    )\n",
        ")"
      ],
      "execution_count": null,
      "outputs": []
    },
    {
      "cell_type": "markdown",
      "metadata": {
        "id": "1C7VRks53uIo"
      },
      "source": [
        "**Проверим разбивку по их длине**"
      ]
    },
    {
      "cell_type": "code",
      "metadata": {
        "id": "lphIlbiP3uIo"
      },
      "source": [
        "len(features_train)"
      ],
      "execution_count": null,
      "outputs": []
    },
    {
      "cell_type": "code",
      "metadata": {
        "id": "ReHXNQ0U3uIp"
      },
      "source": [
        "len(features_test)"
      ],
      "execution_count": null,
      "outputs": []
    },
    {
      "cell_type": "code",
      "metadata": {
        "id": "LLj-JiQc3uIp"
      },
      "source": [
        "len(features_valid)"
      ],
      "execution_count": null,
      "outputs": []
    },
    {
      "cell_type": "markdown",
      "metadata": {
        "id": "UF5lsq983uIq"
      },
      "source": [
        "## Исследование задачи"
      ]
    },
    {
      "cell_type": "markdown",
      "metadata": {
        "id": "jg2ig3Tf3uIq"
      },
      "source": [
        "**Проверим полученную выборку на дисбаланс классов, для этого выведем на экран крайние значения столбцов методом describe**"
      ]
    },
    {
      "cell_type": "code",
      "metadata": {
        "id": "rm8kTSRj3uIq"
      },
      "source": [
        "features.describe()"
      ],
      "execution_count": null,
      "outputs": []
    },
    {
      "cell_type": "markdown",
      "metadata": {
        "id": "ZLlVNTCQ3uIr"
      },
      "source": [
        "**Как видно из полученной таблицы - у нас наблюдается дисбаланс классов.**\n",
        "\n",
        "**Для начала посчитаем метрики на несбалансированных классах.**"
      ]
    },
    {
      "cell_type": "code",
      "metadata": {
        "id": "rTfTTVOk3uIr"
      },
      "source": [
        "model = LogisticRegression(random_state=12345, solver='liblinear', class_weight='balanced')\n",
        "model.fit(features_train, target_train)\n",
        "predicted_valid = model.predict(features_valid)\n",
        "probabilities_valid = model.predict_proba(features_valid)\n",
        "probabilities_one_valid = probabilities_valid[:, 1]\n",
        "print(\"F1:\", f1_score(target_valid, predicted_valid),'\\n',\n",
        "      \"AUC-ROC:\", roc_auc_score(target_valid, probabilities_one_valid, average=\"macro\", sample_weight=None))"
      ],
      "execution_count": null,
      "outputs": []
    },
    {
      "cell_type": "code",
      "metadata": {
        "id": "BrUe_Xhj3uIs"
      },
      "source": [
        "best_model_f1 = None\n",
        "best_model_roc_auc = None\n",
        "best_result_f1 = 0\n",
        "best_result_roc_auc = 0\n",
        "for depth in range(1, 11):\n",
        "    model_tree = DecisionTreeClassifier(random_state=12345, max_depth=depth)\n",
        "    model_tree.fit(features_train, target_train) \n",
        "    predictions_valid = model_tree.predict(features_valid)\n",
        "    result_f1 = f1_score(target_valid, predictions_valid)\n",
        "    if result_f1 > best_result_f1:\n",
        "        best_model_f1 = model_tree\n",
        "        best_result_f1 = result_f1\n",
        "        best_depth_f1 = depth\n",
        "    probabilities_valid = model_tree.predict_proba(features_valid)\n",
        "    probabilities_one_valid = probabilities_valid[:, 1]\n",
        "    result_roc_auc = roc_auc_score(target_valid, probabilities_one_valid, average=\"macro\", sample_weight=None)\n",
        "    if result_roc_auc > best_result_roc_auc:\n",
        "        best_model_roc_auc = model_tree\n",
        "        best_result_roc_auc = result_roc_auc\n",
        "        best_depth_roc_auc = depth\n",
        "print(\n",
        "    \"F1 лучшей модели:\", best_result_f1, '\\n',\n",
        "    \"Глубина дерева:\", best_depth_f1, '\\n',\n",
        "    \"AUC-ROC лучшей модели:\", best_result_roc_auc, '\\n',\n",
        "    \"Глубина дерева:\", best_depth_roc_auc,\n",
        "    )"
      ],
      "execution_count": null,
      "outputs": []
    },
    {
      "cell_type": "code",
      "metadata": {
        "id": "ozU7FB_-3uIt"
      },
      "source": [
        "best_model_f1 = None\n",
        "best_model_roc_auc = None\n",
        "best_result_f1 = 0\n",
        "best_result_roc_auc = 0\n",
        "for est in range(1, 81, 10):\n",
        "    for depth in range (1, 21):\n",
        "        model_forest = RandomForestClassifier(random_state=12345, n_estimators=est, max_depth=depth)\n",
        "        model_forest.fit(features_train, target_train)\n",
        "        predictions_valid = model_forest.predict(features_valid)\n",
        "        result_f1 = f1_score(target_valid, predictions_valid)\n",
        "        if result_f1 > best_result_f1:\n",
        "            best_model_f1 = model_forest\n",
        "            best_result_f1 = result_f1\n",
        "            best_depth_f1 = depth\n",
        "            best_est_f1 = est\n",
        "        probabilities_valid = model_forest.predict_proba(features_valid)\n",
        "        probabilities_one_valid = probabilities_valid[:, 1]\n",
        "        result_roc_auc = roc_auc_score(target_valid, probabilities_one_valid, average=\"macro\", sample_weight=None)\n",
        "        if result_roc_auc > best_result_roc_auc:\n",
        "            best_model_roc_auc = model_forest\n",
        "            best_result_roc_auc = result_roc_auc \n",
        "            best_depth_roc_auc = depth\n",
        "            best_est_roc_auc = est\n",
        "print(\n",
        "    \"F1 лучшей модели:\", best_result_f1, '\\n',\n",
        "    \"Количество деревьев:\", best_est_f1, '\\n',\n",
        "    \"Глубина дерева:\", best_depth_f1, '\\n',\n",
        "    \"AUC-ROC лучшей модели:\", best_result_roc_auc, '\\n',\n",
        "    \"Количество деревьев:\", best_est_roc_auc, '\\n',\n",
        "    \"Глубина дерева:\", best_depth_roc_auc)"
      ],
      "execution_count": null,
      "outputs": []
    },
    {
      "cell_type": "markdown",
      "metadata": {
        "id": "gU20p52Z3uIt"
      },
      "source": [
        "**Наилучшие результаты у модели \"Случайный лес\" -**\n",
        "\n",
        "**F1: 0.533,**\n",
        "\n",
        "**AUC-ROC: 0.831**"
      ]
    },
    {
      "cell_type": "markdown",
      "metadata": {
        "id": "fiSk8qhn3uIu"
      },
      "source": [
        "## Борьба с дисбалансом"
      ]
    },
    {
      "cell_type": "markdown",
      "metadata": {
        "id": "wmuYj3HJ3uIu"
      },
      "source": [
        "**Избавимся от дисбаланса класса методом увеличения и уменьшения выборки**"
      ]
    },
    {
      "cell_type": "markdown",
      "metadata": {
        "id": "88iLBRqd3uIu"
      },
      "source": [
        "**Увеличим выборку методом upsample**"
      ]
    },
    {
      "cell_type": "code",
      "metadata": {
        "id": "iHhdY3PN3uIu"
      },
      "source": [
        "def upsample(features, target, repeat):\n",
        "    features_zeros = features[target == 0]\n",
        "    features_ones = features[target == 1]\n",
        "    target_zeros = target[target == 0]\n",
        "    target_ones = target[target == 1]\n",
        "    features_upsampled = pd.concat([features_zeros] + [features_ones] * repeat)\n",
        "    target_upsampled = pd.concat([target_zeros] + [target_ones] * repeat)\n",
        "    features_upsampled, target_upsampled = shuffle(\n",
        "        features_upsampled, target_upsampled, random_state=12345)\n",
        "    return features_upsampled, target_upsampled"
      ],
      "execution_count": null,
      "outputs": []
    },
    {
      "cell_type": "markdown",
      "metadata": {
        "id": "-NrPjzNa3uIv"
      },
      "source": [
        "**Увеличим обучающую выборку:**"
      ]
    },
    {
      "cell_type": "code",
      "metadata": {
        "id": "p-qQRTHZ3uIv"
      },
      "source": [
        "features_upsampled, target_upsampled = upsample(features_train, target_train, 4)"
      ],
      "execution_count": null,
      "outputs": []
    },
    {
      "cell_type": "markdown",
      "metadata": {
        "id": "r5FC8hWr3uIw"
      },
      "source": [
        "**Проверим размер выборке после увеличения:**"
      ]
    },
    {
      "cell_type": "code",
      "metadata": {
        "id": "e-DlZFLA3uIw"
      },
      "source": [
        "features_zeros = features_upsampled[target_upsampled == 0]\n",
        "features_ones = features_upsampled[target_upsampled == 1]\n",
        "target_zeros = target_upsampled[target_upsampled == 0]\n",
        "target_ones = target_upsampled[target_upsampled == 1]"
      ],
      "execution_count": null,
      "outputs": []
    },
    {
      "cell_type": "code",
      "metadata": {
        "id": "zFGCOgJM3uIw"
      },
      "source": [
        "features_zeros.shape[0]"
      ],
      "execution_count": null,
      "outputs": []
    },
    {
      "cell_type": "code",
      "metadata": {
        "id": "AwIZdG6U3uIw"
      },
      "source": [
        "features_ones.shape[0]"
      ],
      "execution_count": null,
      "outputs": []
    },
    {
      "cell_type": "markdown",
      "metadata": {
        "id": "Qzl82joA3uIx"
      },
      "source": [
        "**Уменьшим выборку методом downsample**"
      ]
    },
    {
      "cell_type": "code",
      "metadata": {
        "id": "JUJyK5j13uIx"
      },
      "source": [
        "def downsample(features, target, fraction):\n",
        "    features_zeros = features[target == 0]\n",
        "    features_ones = features[target == 1]\n",
        "    target_zeros = target[target == 0]\n",
        "    target_ones = target[target == 1]\n",
        "    features_downsampled = pd.concat(\n",
        "        [features_zeros.sample(frac=fraction, random_state=12345)] + [features_ones])\n",
        "    target_downsampled = pd.concat(\n",
        "        [target_zeros.sample(frac=fraction, random_state=12345)] + [target_ones])\n",
        "    features_downsampled, target_downsampled = shuffle(\n",
        "        features_downsampled, target_downsampled, random_state=12345)\n",
        "    return features_downsampled, target_downsampled"
      ],
      "execution_count": null,
      "outputs": []
    },
    {
      "cell_type": "markdown",
      "metadata": {
        "id": "4GEIUCms3uIy"
      },
      "source": [
        "**Уменьшим обучающую выборку:**"
      ]
    },
    {
      "cell_type": "code",
      "metadata": {
        "id": "MCtavt3E3uIy"
      },
      "source": [
        "features_downsampled, target_downsampled = downsample(features_train, target_train, 0.25)"
      ],
      "execution_count": null,
      "outputs": []
    },
    {
      "cell_type": "markdown",
      "metadata": {
        "id": "jGlGO-W83uI0"
      },
      "source": [
        "**Проверим размер выборке после уменьшения:**"
      ]
    },
    {
      "cell_type": "code",
      "metadata": {
        "id": "8EmVJhUu3uI1"
      },
      "source": [
        "features_zeros = features_downsampled[target_downsampled == 0]\n",
        "features_ones = features_downsampled[target_downsampled == 1]\n",
        "target_zeros = target_downsampled[target_downsampled == 0]\n",
        "target_ones = target_downsampled[target_downsampled == 1]"
      ],
      "execution_count": null,
      "outputs": []
    },
    {
      "cell_type": "code",
      "metadata": {
        "id": "vofgPiqZ3uI1"
      },
      "source": [
        "features_zeros.shape[0]"
      ],
      "execution_count": null,
      "outputs": []
    },
    {
      "cell_type": "code",
      "metadata": {
        "id": "vMDgzOe_3uI1"
      },
      "source": [
        "features_ones.shape[0]"
      ],
      "execution_count": null,
      "outputs": []
    },
    {
      "cell_type": "markdown",
      "metadata": {
        "id": "OtTAYziD3uI1"
      },
      "source": [
        "**Обучим и проверим модели на сбалансированных данных**"
      ]
    },
    {
      "cell_type": "code",
      "metadata": {
        "id": "iS2gJz3V3uI2"
      },
      "source": [
        "model = LogisticRegression(random_state=12345, solver='liblinear', class_weight='balanced')\n",
        "model.fit(features_downsampled, target_downsampled)\n",
        "predicted_valid = model.predict(features_valid)\n",
        "probabilities_valid = model.predict_proba(features_valid)\n",
        "probabilities_one_valid = probabilities_valid[:, 1]\n",
        "print(\"F1:\", f1_score(target_valid, predicted_valid),'\\n',\n",
        "      \"AUC-ROC:\", roc_auc_score(target_valid, probabilities_one_valid, average=\"macro\", sample_weight=None))"
      ],
      "execution_count": null,
      "outputs": []
    },
    {
      "cell_type": "code",
      "metadata": {
        "id": "iKYPnML23uI2"
      },
      "source": [
        "model = LogisticRegression(random_state=12345, solver='liblinear', class_weight='balanced')\n",
        "model.fit(features_upsampled, target_upsampled)\n",
        "predicted_valid = model.predict(features_valid)\n",
        "probabilities_valid = model.predict_proba(features_valid)\n",
        "probabilities_one_valid = probabilities_valid[:, 1]\n",
        "print(\"F1:\", f1_score(target_valid, predicted_valid),'\\n',\n",
        "      \"AUC-ROC:\", roc_auc_score(target_valid, probabilities_one_valid, average=\"macro\", sample_weight=None))"
      ],
      "execution_count": null,
      "outputs": []
    },
    {
      "cell_type": "code",
      "metadata": {
        "id": "8CTtNJhV3uI3"
      },
      "source": [
        "best_model_f1 = None\n",
        "best_model_roc_auc = None\n",
        "best_result_f1 = 0\n",
        "best_result_roc_auc = 0\n",
        "for depth in range(1, 11):\n",
        "    model_tree = DecisionTreeClassifier(random_state=12345, max_depth=depth)\n",
        "    model_tree.fit(features_downsampled, target_downsampled)\n",
        "    predictions_valid = model_tree.predict(features_valid)\n",
        "    result_f1 = f1_score(target_valid, predictions_valid)\n",
        "    if result_f1 > best_result_f1:\n",
        "        best_model_f1 = model_tree\n",
        "        best_result_f1 = result_f1\n",
        "        best_depth_f1 = depth\n",
        "    probabilities_valid = model_tree.predict_proba(features_valid)\n",
        "    probabilities_one_valid = probabilities_valid[:, 1]\n",
        "    result_roc_auc = roc_auc_score(target_valid, probabilities_one_valid, average=\"macro\", sample_weight=None)\n",
        "    if result_roc_auc > best_result_roc_auc:\n",
        "        best_model_roc_auc = model_tree\n",
        "        best_result_roc_auc = result_roc_auc\n",
        "        best_depth_roc_auc = depth\n",
        "print(\n",
        "    \"F1 лучшей модели:\", best_result_f1, '\\n',\n",
        "    \"Глубина дерева:\", best_depth_f1, '\\n',\n",
        "    \"AUC-ROC лучшей модели:\", best_result_roc_auc, '\\n',\n",
        "    \"Глубина дерева:\", best_depth_roc_auc,\n",
        "    )"
      ],
      "execution_count": null,
      "outputs": []
    },
    {
      "cell_type": "code",
      "metadata": {
        "id": "N4pKj1Gt3uI4"
      },
      "source": [
        "best_model_f1 = None\n",
        "best_model_roc_auc = None\n",
        "best_result_f1 = 0\n",
        "best_result_roc_auc = 0\n",
        "for depth in range(1, 11):\n",
        "    model_tree = DecisionTreeClassifier(random_state=12345, max_depth=depth)\n",
        "    model_tree.fit(features_upsampled, target_upsampled)\n",
        "    predictions_valid = model_tree.predict(features_valid)\n",
        "    result_f1 = f1_score(target_valid, predictions_valid)\n",
        "    if result_f1 > best_result_f1:\n",
        "        best_model_f1 = model_tree\n",
        "        best_result_f1 = result_f1\n",
        "        best_depth_f1 = depth\n",
        "    probabilities_valid = model_tree.predict_proba(features_valid)\n",
        "    probabilities_one_valid = probabilities_valid[:, 1]\n",
        "    result_roc_auc = roc_auc_score(target_valid, probabilities_one_valid, average=\"macro\", sample_weight=None)\n",
        "    if result_roc_auc > best_result_roc_auc:\n",
        "        best_model_roc_auc = model_tree\n",
        "        best_result_roc_auc = result_roc_auc\n",
        "        best_depth_roc_auc = depth\n",
        "print(\n",
        "    \"F1 лучшей модели:\", best_result_f1, '\\n',\n",
        "    \"Глубина дерева:\", best_depth_f1, '\\n',\n",
        "    \"AUC-ROC лучшей модели:\", best_result_roc_auc, '\\n',\n",
        "    \"Глубина дерева:\", best_depth_roc_auc,\n",
        "    )"
      ],
      "execution_count": null,
      "outputs": []
    },
    {
      "cell_type": "code",
      "metadata": {
        "id": "T7x1jwNC3uI5"
      },
      "source": [
        "best_model_f1 = None\n",
        "best_model_roc_auc = None\n",
        "best_result_f1 = 0\n",
        "best_result_roc_auc = 0\n",
        "for est in range(1, 121, 10):\n",
        "    for depth in range (1, 31):\n",
        "        model_forest = RandomForestClassifier(random_state=12345, n_estimators=est, max_depth=depth)\n",
        "        model_forest.fit(features_downsampled, target_downsampled)\n",
        "        predictions_valid = model_forest.predict(features_valid)\n",
        "        result_f1 = f1_score(target_valid, predictions_valid)\n",
        "        if result_f1 > best_result_f1:\n",
        "            best_model_f1 = model_forest\n",
        "            best_result_f1 = result_f1\n",
        "            best_depth_f1 = depth\n",
        "            best_est_f1 = est\n",
        "        probabilities_valid = model_forest.predict_proba(features_valid)\n",
        "        probabilities_one_valid = probabilities_valid[:, 1]\n",
        "        result_roc_auc = roc_auc_score(target_valid, probabilities_one_valid, average=\"macro\", sample_weight=None)\n",
        "        if result_roc_auc > best_result_roc_auc:\n",
        "            best_model_roc_auc = model_forest\n",
        "            best_result_roc_auc = result_roc_auc \n",
        "            best_depth_roc_auc = depth\n",
        "            best_est_roc_auc = est\n",
        "print(\n",
        "    \"F1 лучшей модели:\", best_result_f1, '\\n',\n",
        "    \"Количество деревьев:\", best_est_f1, '\\n',\n",
        "    \"Глубина дерева:\", best_depth_f1, '\\n',\n",
        "    \"AUC-ROC лучшей модели:\", best_result_roc_auc, '\\n',\n",
        "    \"Количество деревьев:\", best_est_roc_auc, '\\n',\n",
        "    \"Глубина дерева:\", best_depth_roc_auc)"
      ],
      "execution_count": null,
      "outputs": []
    },
    {
      "cell_type": "code",
      "metadata": {
        "scrolled": true,
        "id": "Ow25CRWk3uI5"
      },
      "source": [
        "best_model_f1 = None\n",
        "best_model_roc_auc = None\n",
        "best_result_f1 = 0\n",
        "best_result_roc_auc = 0\n",
        "for est in range(1, 181, 10):\n",
        "    for depth in range (1, 31):\n",
        "        model_forest = RandomForestClassifier(random_state=12345, n_estimators=est, max_depth=depth)\n",
        "        model_forest.fit(features_upsampled, target_upsampled)\n",
        "        predictions_valid = model_forest.predict(features_valid)\n",
        "        result_f1 = f1_score(target_valid, predictions_valid)\n",
        "        if result_f1 > best_result_f1:\n",
        "            best_model_f1 = model_forest\n",
        "            best_result_f1 = result_f1\n",
        "            best_depth_f1 = depth\n",
        "            best_est_f1 = est\n",
        "        probabilities_valid = model_forest.predict_proba(features_valid)\n",
        "        probabilities_one_valid = probabilities_valid[:, 1]\n",
        "        result_roc_auc = roc_auc_score(target_valid, probabilities_one_valid, average=\"macro\", sample_weight=None)\n",
        "        if result_roc_auc > best_result_roc_auc:\n",
        "            best_model_roc_auc = model_forest\n",
        "            best_result_roc_auc = result_roc_auc \n",
        "            best_depth_roc_auc = depth\n",
        "            best_est_roc_auc = est\n",
        "print(\n",
        "    \"F1 лучшей модели:\", best_result_f1, '\\n',\n",
        "    \"Количество деревьев:\", best_est_f1, '\\n',\n",
        "    \"Глубина дерева:\", best_depth_f1, '\\n',\n",
        "    \"AUC-ROC лучшей модели:\", best_result_roc_auc, '\\n',\n",
        "    \"Количество деревьев:\", best_est_roc_auc, '\\n',\n",
        "    \"Глубина дерева:\", best_depth_roc_auc)"
      ],
      "execution_count": null,
      "outputs": []
    },
    {
      "cell_type": "markdown",
      "metadata": {
        "id": "nYobcxS_3uI6"
      },
      "source": [
        "## Тестирование модели"
      ]
    },
    {
      "cell_type": "code",
      "metadata": {
        "id": "uTVa7mfY3uI6"
      },
      "source": [
        "model_forest = RandomForestClassifier(random_state=12345, n_estimators=101, max_depth=11)\n",
        "model_forest.fit(features_upsampled, target_upsampled)\n",
        "predictions_test = model_forest.predict(features_test)\n",
        "result_f1 = f1_score(target_test, predictions_test)\n",
        "probabilities_test = model_forest.predict_proba(features_test)\n",
        "probabilities_one_test = probabilities_test[:, 1]\n",
        "result_roc_auc = roc_auc_score(target_test, probabilities_one_test, average=\"macro\", sample_weight=None)\n",
        "print(\n",
        "    \"F1 лучшей модели:\", result_f1, '\\n',   \n",
        "    \"AUC-ROC лучшей модели:\", result_roc_auc)"
      ],
      "execution_count": null,
      "outputs": []
    },
    {
      "cell_type": "markdown",
      "metadata": {
        "id": "USSo3Sh33uI7"
      },
      "source": [
        "**Проверим модель на адекватность с помощью DummyClassifier.**"
      ]
    },
    {
      "cell_type": "code",
      "metadata": {
        "id": "zR33M-se3uI7"
      },
      "source": [
        "dummy_clf = DummyClassifier(strategy=\"most_frequent\", random_state=12345)\n",
        "dummy_clf.fit(features_upsampled, target_upsampled)\n",
        "predictions_dummy_test = dummy_clf.predict(features_test)\n",
        "print(\n",
        "    'dummy_score:', dummy_clf.score(features_test, target_test), '\\n',\n",
        "    'f1_score:', f1_score(target_test, predictions_dummy_test)\n",
        ")"
      ],
      "execution_count": null,
      "outputs": []
    },
    {
      "cell_type": "markdown",
      "metadata": {
        "id": "Edc7GkJr3uI7"
      },
      "source": [
        "**Для понимания, какие факторы влияют на работу модели, воспользуемся методом feature_importances_ и выведем график**"
      ]
    },
    {
      "cell_type": "code",
      "metadata": {
        "id": "LQgfh1iG3uI8"
      },
      "source": [
        "feature_importances = pd.Series(model_forest.feature_importances_, index=features.columns)\n",
        "feature_importances.nlargest(25).plot(kind='barh')\n",
        "plt.show"
      ],
      "execution_count": null,
      "outputs": []
    },
    {
      "cell_type": "markdown",
      "metadata": {
        "id": "-2PeUEdc3uI8"
      },
      "source": [
        "**Наиболее слабыми признаками являются \"наличие кредитной карты\", \"активность клиента\" и \"сколько лет человек является клиентом банка\"**"
      ]
    },
    {
      "cell_type": "markdown",
      "metadata": {
        "id": "8ejTfpMU3uI8"
      },
      "source": [
        "**Построим ROC-кривую по результатам предсказания модели**"
      ]
    },
    {
      "cell_type": "code",
      "metadata": {
        "id": "MOcTJXC13uI9"
      },
      "source": [
        "model_forest = RandomForestClassifier(random_state=12345, n_estimators=21, max_depth=7)\n",
        "model_forest.fit(features_upsampled, target_upsampled)\n",
        "\n",
        "probabilities_test = model_forest.predict_proba(features_test)\n",
        "probabilities_one_test = probabilities_test[:, 1]\n",
        "\n",
        "fpr, tpr, thresholds = roc_curve(target_test, probabilities_one_test)\n",
        "\n",
        "plt.figure()\n",
        "\n",
        "plt.plot(fpr, tpr, linestyle='--')\n",
        "plt.plot([0, 1], [0, 1], linestyle='--')\n",
        "\n",
        "plt.xlim([0, 1])\n",
        "plt.ylim([0, 1])\n",
        "\n",
        "plt.xlabel('False Positive Rate')\n",
        "plt.ylabel('True Positive Rate')\n",
        "\n",
        "plt.title('ROC-кривая')\n",
        "plt.show()"
      ],
      "execution_count": null,
      "outputs": []
    },
    {
      "cell_type": "markdown",
      "metadata": {
        "id": "zTdIdffi3uI9"
      },
      "source": [
        "**Выведем средние значения тестовой и обучающей выборки по целевому признаку \"Exited\"**"
      ]
    },
    {
      "cell_type": "code",
      "metadata": {
        "id": "Y7DZPjgR3uI9"
      },
      "source": [
        "print(\n",
        "'Среднее значение целевого признака:', target.mean(), '\\n',\n",
        "'Среднее значение предсказаний тестовой модели:', probabilities_one_test.mean())"
      ],
      "execution_count": null,
      "outputs": []
    },
    {
      "cell_type": "markdown",
      "metadata": {
        "id": "b2EPeaHz3uI-"
      },
      "source": [
        "# Вывод\n",
        "\n",
        "**В данном проекте мы рассмотрели работу нескольких обучающих моделей - наилучший показатель у модели \"Случайный лес\" - F1 тестовой модели: 0.593, AUC-ROC тестовой модели: 0.843.**\n",
        "\n",
        "**Если сравнивать в количественном выражении работу модели, то она далека от идеала, поскольку среднее значение целевого признака исходной выборки составляет 0.2037, а среднее значение предсказаний тестовой модели составляет 0.412.**\n",
        "\n",
        "**Но это также может говорить о том, что риск ухода клиента возрастает и менеджерам банка необходимо предпринимать действия для удержания клиентов.**"
      ]
    },
    {
      "cell_type": "markdown",
      "metadata": {
        "id": "IEZP3C1V3uI_"
      },
      "source": [
        "## Чек-лист готовности проекта"
      ]
    },
    {
      "cell_type": "markdown",
      "metadata": {
        "id": "MPqcGw-m3uI_"
      },
      "source": [
        "Поставьте 'x' в выполненных пунктах. Далее нажмите Shift+Enter."
      ]
    },
    {
      "cell_type": "markdown",
      "metadata": {
        "id": "mKPdPTj73uJA"
      },
      "source": [
        "- [x]  Jupyter Notebook открыт\n",
        "- [ ]  Весь код выполняется без ошибок\n",
        "- [ ]  Ячейки с кодом расположены в порядке исполнения\n",
        "- [ ]  Выполнен шаг 1: данные подготовлены\n",
        "- [ ]  Выполнен шаг 2: задача исследована\n",
        "    - [ ]  Исследован баланс классов\n",
        "    - [ ]  Изучены модели без учёта дисбаланса\n",
        "    - [ ]  Написаны выводы по результатам исследования\n",
        "- [ ]  Выполнен шаг 3: учтён дисбаланс\n",
        "    - [ ]  Применено несколько способов борьбы с дисбалансом\n",
        "    - [ ]  Написаны выводы по результатам исследования\n",
        "- [ ]  Выполнен шаг 4: проведено тестирование\n",
        "- [ ]  Удалось достичь *F1*-меры не менее 0.59\n",
        "- [ ]  Исследована метрика *AUC-ROC*"
      ]
    },
    {
      "cell_type": "code",
      "metadata": {
        "id": "Mj9eLKtW3uJA"
      },
      "source": [
        ""
      ],
      "execution_count": null,
      "outputs": []
    }
  ]
}