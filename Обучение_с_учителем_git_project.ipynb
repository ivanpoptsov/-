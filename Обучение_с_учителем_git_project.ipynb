{
  "nbformat": 4,
  "nbformat_minor": 0,
  "metadata": {
    "ExecuteTimeLog": [
      {
        "duration": 1107,
        "start_time": "2021-11-06T17:43:28.350Z"
      },
      {
        "duration": 30,
        "start_time": "2021-11-06T17:44:33.680Z"
      },
      {
        "duration": 32,
        "start_time": "2021-11-06T17:47:29.560Z"
      },
      {
        "duration": 6831,
        "start_time": "2021-11-06T17:47:39.321Z"
      },
      {
        "duration": 390,
        "start_time": "2021-11-06T19:59:29.332Z"
      },
      {
        "duration": 1091,
        "start_time": "2021-11-06T19:59:33.695Z"
      },
      {
        "duration": 37,
        "start_time": "2021-11-06T19:59:37.236Z"
      },
      {
        "duration": 23,
        "start_time": "2021-11-06T19:59:40.346Z"
      },
      {
        "duration": 10,
        "start_time": "2021-11-06T20:03:29.323Z"
      },
      {
        "duration": 9,
        "start_time": "2021-11-06T20:10:53.571Z"
      },
      {
        "duration": 4,
        "start_time": "2021-11-06T20:11:14.875Z"
      },
      {
        "duration": 6,
        "start_time": "2021-11-06T20:11:21.624Z"
      },
      {
        "duration": 6,
        "start_time": "2021-11-06T20:11:49.971Z"
      },
      {
        "duration": 13,
        "start_time": "2021-11-06T20:12:08.963Z"
      },
      {
        "duration": 4,
        "start_time": "2021-11-06T20:12:23.353Z"
      },
      {
        "duration": 9,
        "start_time": "2021-11-06T20:12:25.973Z"
      },
      {
        "duration": 1122,
        "start_time": "2021-11-06T20:13:00.366Z"
      },
      {
        "duration": 29,
        "start_time": "2021-11-06T20:13:01.490Z"
      },
      {
        "duration": 22,
        "start_time": "2021-11-06T20:13:01.521Z"
      },
      {
        "duration": 3,
        "start_time": "2021-11-06T20:13:01.544Z"
      },
      {
        "duration": 27,
        "start_time": "2021-11-06T20:13:01.548Z"
      },
      {
        "duration": 14,
        "start_time": "2021-11-06T20:13:01.578Z"
      },
      {
        "duration": 8,
        "start_time": "2021-11-06T20:13:25.472Z"
      },
      {
        "duration": 8,
        "start_time": "2021-11-06T20:13:46.601Z"
      },
      {
        "duration": 9,
        "start_time": "2021-11-06T20:13:57.111Z"
      },
      {
        "duration": 9,
        "start_time": "2021-11-06T20:14:01.102Z"
      },
      {
        "duration": 1122,
        "start_time": "2021-11-06T20:14:20.762Z"
      },
      {
        "duration": 29,
        "start_time": "2021-11-06T20:14:21.886Z"
      },
      {
        "duration": 21,
        "start_time": "2021-11-06T20:14:21.917Z"
      },
      {
        "duration": 9,
        "start_time": "2021-11-06T20:14:21.940Z"
      },
      {
        "duration": 25,
        "start_time": "2021-11-06T20:14:21.950Z"
      },
      {
        "duration": 17,
        "start_time": "2021-11-06T20:14:21.977Z"
      },
      {
        "duration": 2,
        "start_time": "2021-11-06T20:14:38.841Z"
      },
      {
        "duration": 6,
        "start_time": "2021-11-06T20:14:53.263Z"
      },
      {
        "duration": 5,
        "start_time": "2021-11-06T20:15:07.031Z"
      },
      {
        "duration": 5,
        "start_time": "2021-11-06T20:15:23.040Z"
      },
      {
        "duration": 9,
        "start_time": "2021-11-06T20:15:24.692Z"
      },
      {
        "duration": 10,
        "start_time": "2021-11-06T20:15:56.083Z"
      },
      {
        "duration": 24788,
        "start_time": "2021-11-06T20:18:25.790Z"
      },
      {
        "duration": 13,
        "start_time": "2021-11-06T20:25:23.062Z"
      },
      {
        "duration": 9,
        "start_time": "2021-11-06T20:25:25.680Z"
      },
      {
        "duration": 5,
        "start_time": "2021-11-06T20:25:27.611Z"
      },
      {
        "duration": 4,
        "start_time": "2021-11-06T20:25:29.261Z"
      },
      {
        "duration": 4,
        "start_time": "2021-11-06T20:25:30.461Z"
      },
      {
        "duration": 12,
        "start_time": "2021-11-06T20:25:41.401Z"
      },
      {
        "duration": 9,
        "start_time": "2021-11-06T20:25:42.702Z"
      },
      {
        "duration": 5,
        "start_time": "2021-11-06T20:25:43.971Z"
      },
      {
        "duration": 4,
        "start_time": "2021-11-06T20:25:45.121Z"
      },
      {
        "duration": 4,
        "start_time": "2021-11-06T20:25:46.361Z"
      },
      {
        "duration": 16,
        "start_time": "2021-11-06T20:28:11.802Z"
      },
      {
        "duration": 342,
        "start_time": "2021-11-06T20:28:17.282Z"
      },
      {
        "duration": 259,
        "start_time": "2021-11-06T20:30:23.984Z"
      },
      {
        "duration": 22,
        "start_time": "2021-11-06T20:31:37.391Z"
      },
      {
        "duration": 251,
        "start_time": "2021-11-06T20:32:33.281Z"
      },
      {
        "duration": 256,
        "start_time": "2021-11-06T20:32:49.649Z"
      },
      {
        "duration": 3,
        "start_time": "2021-11-06T20:32:59.591Z"
      },
      {
        "duration": 3,
        "start_time": "2021-11-06T20:33:05.541Z"
      },
      {
        "duration": 240,
        "start_time": "2021-11-06T20:33:15.900Z"
      },
      {
        "duration": 258,
        "start_time": "2021-11-06T20:33:21.939Z"
      },
      {
        "duration": 239,
        "start_time": "2021-11-06T20:35:10.364Z"
      },
      {
        "duration": 15,
        "start_time": "2021-11-06T20:36:31.519Z"
      },
      {
        "duration": 15,
        "start_time": "2021-11-06T20:37:06.102Z"
      },
      {
        "duration": 9,
        "start_time": "2021-11-06T20:37:08.005Z"
      },
      {
        "duration": 10,
        "start_time": "2021-11-06T20:37:09.381Z"
      },
      {
        "duration": 275,
        "start_time": "2021-11-06T20:37:13.109Z"
      },
      {
        "duration": 13,
        "start_time": "2021-11-06T20:37:33.234Z"
      },
      {
        "duration": 9,
        "start_time": "2021-11-06T20:37:35.034Z"
      },
      {
        "duration": 8,
        "start_time": "2021-11-06T20:37:36.401Z"
      },
      {
        "duration": 101,
        "start_time": "2021-11-06T20:37:39.761Z"
      },
      {
        "duration": 253,
        "start_time": "2021-11-06T20:43:40.621Z"
      },
      {
        "duration": 265,
        "start_time": "2021-11-06T20:43:51.041Z"
      },
      {
        "duration": 24,
        "start_time": "2021-11-06T20:45:18.309Z"
      },
      {
        "duration": 138,
        "start_time": "2021-11-06T20:45:23.649Z"
      },
      {
        "duration": 19569,
        "start_time": "2021-11-06T20:45:26.794Z"
      },
      {
        "duration": 24880,
        "start_time": "2021-11-06T20:46:43.618Z"
      },
      {
        "duration": 326,
        "start_time": "2021-11-09T06:03:26.519Z"
      },
      {
        "duration": 1623,
        "start_time": "2021-11-09T06:03:36.687Z"
      },
      {
        "duration": 36,
        "start_time": "2021-11-09T06:03:38.313Z"
      },
      {
        "duration": 39,
        "start_time": "2021-11-09T06:03:38.352Z"
      },
      {
        "duration": 7,
        "start_time": "2021-11-09T06:03:38.394Z"
      },
      {
        "duration": 13,
        "start_time": "2021-11-09T06:03:38.430Z"
      },
      {
        "duration": 63,
        "start_time": "2021-11-09T06:03:38.446Z"
      },
      {
        "duration": 35212,
        "start_time": "2021-11-09T06:03:38.511Z"
      },
      {
        "duration": 21,
        "start_time": "2021-11-09T06:04:13.728Z"
      },
      {
        "duration": 14,
        "start_time": "2021-11-09T06:04:13.754Z"
      },
      {
        "duration": 11,
        "start_time": "2021-11-09T06:04:13.771Z"
      },
      {
        "duration": 47,
        "start_time": "2021-11-09T06:04:13.784Z"
      },
      {
        "duration": 29,
        "start_time": "2021-11-09T06:04:13.833Z"
      },
      {
        "duration": 25,
        "start_time": "2021-11-09T06:04:13.865Z"
      },
      {
        "duration": 596,
        "start_time": "2021-11-09T06:04:13.892Z"
      },
      {
        "duration": 6363,
        "start_time": "2021-11-09T06:04:08.128Z"
      },
      {
        "duration": 6362,
        "start_time": "2021-11-09T06:04:08.130Z"
      },
      {
        "duration": 64,
        "start_time": "2021-11-09T06:04:57.869Z"
      },
      {
        "duration": 5,
        "start_time": "2021-11-09T06:05:53.012Z"
      },
      {
        "duration": 127,
        "start_time": "2021-11-09T06:06:03.209Z"
      },
      {
        "duration": 299,
        "start_time": "2021-11-09T06:09:49.811Z"
      },
      {
        "duration": 210,
        "start_time": "2021-11-09T06:10:04.542Z"
      },
      {
        "duration": 212,
        "start_time": "2021-11-09T06:15:34.768Z"
      },
      {
        "duration": 16114,
        "start_time": "2021-11-09T06:15:58.676Z"
      },
      {
        "duration": 40490,
        "start_time": "2021-11-09T06:16:18.042Z"
      },
      {
        "duration": 19483,
        "start_time": "2021-11-09T06:18:18.336Z"
      },
      {
        "duration": 40518,
        "start_time": "2021-11-09T06:18:41.682Z"
      },
      {
        "duration": 39023,
        "start_time": "2021-11-09T06:20:39.206Z"
      },
      {
        "duration": 39203,
        "start_time": "2021-11-09T07:35:26.333Z"
      },
      {
        "duration": 378,
        "start_time": "2021-11-09T07:49:35.989Z"
      },
      {
        "duration": 7202,
        "start_time": "2021-11-09T07:49:58.348Z"
      },
      {
        "duration": 8,
        "start_time": "2021-11-09T07:50:18.819Z"
      },
      {
        "duration": 9,
        "start_time": "2021-11-09T07:50:59.309Z"
      },
      {
        "duration": 263,
        "start_time": "2021-11-09T07:51:25.394Z"
      },
      {
        "duration": 14,
        "start_time": "2021-11-09T07:51:31.394Z"
      },
      {
        "duration": 53,
        "start_time": "2021-11-09T07:55:37.924Z"
      },
      {
        "duration": 271,
        "start_time": "2021-11-09T07:56:09.484Z"
      },
      {
        "duration": 6,
        "start_time": "2021-11-09T07:56:13.977Z"
      },
      {
        "duration": 50,
        "start_time": "2021-11-09T07:56:20.714Z"
      },
      {
        "duration": 236,
        "start_time": "2021-11-09T07:57:41.829Z"
      },
      {
        "duration": 212,
        "start_time": "2021-11-09T07:58:26.511Z"
      },
      {
        "duration": 39790,
        "start_time": "2021-11-09T07:58:57.555Z"
      },
      {
        "duration": 107,
        "start_time": "2021-11-09T10:02:37.395Z"
      },
      {
        "duration": 1414,
        "start_time": "2021-11-09T10:10:32.946Z"
      },
      {
        "duration": 34,
        "start_time": "2021-11-09T10:10:34.363Z"
      },
      {
        "duration": 42,
        "start_time": "2021-11-09T10:10:34.400Z"
      },
      {
        "duration": 4,
        "start_time": "2021-11-09T10:10:34.445Z"
      },
      {
        "duration": 18,
        "start_time": "2021-11-09T10:10:34.452Z"
      },
      {
        "duration": 31,
        "start_time": "2021-11-09T10:10:34.473Z"
      },
      {
        "duration": 37731,
        "start_time": "2021-11-09T10:10:34.530Z"
      },
      {
        "duration": 19,
        "start_time": "2021-11-09T10:11:12.264Z"
      },
      {
        "duration": 49,
        "start_time": "2021-11-09T10:11:12.287Z"
      },
      {
        "duration": 10,
        "start_time": "2021-11-09T10:11:12.340Z"
      },
      {
        "duration": 7,
        "start_time": "2021-11-09T10:11:12.353Z"
      },
      {
        "duration": 10,
        "start_time": "2021-11-09T10:11:12.363Z"
      },
      {
        "duration": 7,
        "start_time": "2021-11-09T10:11:12.375Z"
      },
      {
        "duration": 80,
        "start_time": "2021-11-09T10:11:12.384Z"
      },
      {
        "duration": 74,
        "start_time": "2021-11-09T10:11:12.467Z"
      },
      {
        "duration": 374,
        "start_time": "2021-11-09T10:11:12.544Z"
      },
      {
        "duration": 40437,
        "start_time": "2021-11-09T10:11:12.930Z"
      },
      {
        "duration": 5,
        "start_time": "2021-11-09T10:11:53.370Z"
      },
      {
        "duration": 730,
        "start_time": "2021-11-09T10:11:53.378Z"
      },
      {
        "duration": -220,
        "start_time": "2021-11-09T10:11:54.330Z"
      },
      {
        "duration": -240,
        "start_time": "2021-11-09T10:11:54.352Z"
      },
      {
        "duration": -274,
        "start_time": "2021-11-09T10:11:54.387Z"
      },
      {
        "duration": -278,
        "start_time": "2021-11-09T10:11:54.393Z"
      },
      {
        "duration": -284,
        "start_time": "2021-11-09T10:11:54.400Z"
      },
      {
        "duration": -287,
        "start_time": "2021-11-09T10:11:54.404Z"
      },
      {
        "duration": -291,
        "start_time": "2021-11-09T10:11:54.409Z"
      },
      {
        "duration": -299,
        "start_time": "2021-11-09T10:11:54.419Z"
      },
      {
        "duration": 6,
        "start_time": "2021-11-09T10:12:53.204Z"
      },
      {
        "duration": 680,
        "start_time": "2021-11-09T10:12:57.406Z"
      },
      {
        "duration": 5,
        "start_time": "2021-11-09T10:14:03.935Z"
      },
      {
        "duration": 18,
        "start_time": "2021-11-09T10:14:13.470Z"
      },
      {
        "duration": 9,
        "start_time": "2021-11-09T10:14:16.330Z"
      },
      {
        "duration": 5,
        "start_time": "2021-11-09T10:14:17.885Z"
      },
      {
        "duration": 6,
        "start_time": "2021-11-09T10:14:19.405Z"
      },
      {
        "duration": 6,
        "start_time": "2021-11-09T10:14:25.622Z"
      },
      {
        "duration": 14,
        "start_time": "2021-11-09T10:14:28.632Z"
      },
      {
        "duration": 9,
        "start_time": "2021-11-09T10:14:30.186Z"
      },
      {
        "duration": 5,
        "start_time": "2021-11-09T10:14:31.587Z"
      },
      {
        "duration": 5,
        "start_time": "2021-11-09T10:14:33.630Z"
      },
      {
        "duration": 1454,
        "start_time": "2021-11-09T10:32:35.710Z"
      },
      {
        "duration": 35,
        "start_time": "2021-11-09T10:32:37.167Z"
      },
      {
        "duration": 38,
        "start_time": "2021-11-09T10:32:37.205Z"
      },
      {
        "duration": 5,
        "start_time": "2021-11-09T10:32:37.246Z"
      },
      {
        "duration": 17,
        "start_time": "2021-11-09T10:32:37.253Z"
      },
      {
        "duration": 60,
        "start_time": "2021-11-09T10:32:37.272Z"
      },
      {
        "duration": 36493,
        "start_time": "2021-11-09T10:32:37.334Z"
      },
      {
        "duration": 18,
        "start_time": "2021-11-09T10:33:13.831Z"
      },
      {
        "duration": 12,
        "start_time": "2021-11-09T10:33:13.853Z"
      },
      {
        "duration": 11,
        "start_time": "2021-11-09T10:33:13.867Z"
      },
      {
        "duration": 49,
        "start_time": "2021-11-09T10:33:13.880Z"
      },
      {
        "duration": 5,
        "start_time": "2021-11-09T10:33:13.932Z"
      },
      {
        "duration": 17,
        "start_time": "2021-11-09T10:33:13.940Z"
      },
      {
        "duration": 69,
        "start_time": "2021-11-09T10:33:13.959Z"
      },
      {
        "duration": 99,
        "start_time": "2021-11-09T10:33:14.031Z"
      },
      {
        "duration": 323,
        "start_time": "2021-11-09T10:33:14.137Z"
      },
      {
        "duration": 39375,
        "start_time": "2021-11-09T10:33:14.463Z"
      },
      {
        "duration": 6,
        "start_time": "2021-11-09T10:33:53.840Z"
      },
      {
        "duration": 40,
        "start_time": "2021-11-09T10:33:53.848Z"
      },
      {
        "duration": 10,
        "start_time": "2021-11-09T10:33:53.890Z"
      },
      {
        "duration": 21,
        "start_time": "2021-11-09T10:33:53.903Z"
      },
      {
        "duration": 8,
        "start_time": "2021-11-09T10:33:53.928Z"
      },
      {
        "duration": 10,
        "start_time": "2021-11-09T10:33:53.940Z"
      },
      {
        "duration": 19,
        "start_time": "2021-11-09T10:33:53.953Z"
      },
      {
        "duration": 9,
        "start_time": "2021-11-09T10:33:53.975Z"
      },
      {
        "duration": 9,
        "start_time": "2021-11-09T10:33:53.987Z"
      },
      {
        "duration": 35,
        "start_time": "2021-11-09T10:33:53.999Z"
      },
      {
        "duration": 104,
        "start_time": "2021-11-09T10:34:32.229Z"
      },
      {
        "duration": 226,
        "start_time": "2021-11-09T10:38:26.181Z"
      },
      {
        "duration": 228,
        "start_time": "2021-11-09T10:38:36.890Z"
      },
      {
        "duration": 40183,
        "start_time": "2021-11-09T10:40:44.497Z"
      },
      {
        "duration": 256,
        "start_time": "2021-11-09T10:42:07.767Z"
      },
      {
        "duration": 42514,
        "start_time": "2021-11-09T11:11:16.841Z"
      },
      {
        "duration": 230169,
        "start_time": "2021-11-09T11:13:50.695Z"
      },
      {
        "duration": 103733,
        "start_time": "2021-11-09T11:22:51.662Z"
      },
      {
        "duration": 347,
        "start_time": "2021-11-09T11:24:56.015Z"
      },
      {
        "duration": 1026,
        "start_time": "2021-11-09T11:25:26.795Z"
      },
      {
        "duration": 141,
        "start_time": "2021-11-09T11:26:55.583Z"
      },
      {
        "duration": 310,
        "start_time": "2021-11-09T11:28:53.282Z"
      },
      {
        "duration": 73,
        "start_time": "2021-11-09T11:30:11.256Z"
      },
      {
        "duration": 121,
        "start_time": "2021-11-09T11:30:13.111Z"
      },
      {
        "duration": 736485,
        "start_time": "2021-11-09T11:31:09.712Z"
      },
      {
        "duration": 13,
        "start_time": "2021-11-09T12:07:15.824Z"
      },
      {
        "duration": 11,
        "start_time": "2021-11-09T12:07:17.065Z"
      },
      {
        "duration": 5,
        "start_time": "2021-11-09T12:07:17.969Z"
      },
      {
        "duration": 5,
        "start_time": "2021-11-09T12:07:18.924Z"
      },
      {
        "duration": 5,
        "start_time": "2021-11-09T12:07:21.091Z"
      },
      {
        "duration": 1431,
        "start_time": "2021-11-09T12:07:29.248Z"
      },
      {
        "duration": 36,
        "start_time": "2021-11-09T12:07:30.682Z"
      },
      {
        "duration": 36,
        "start_time": "2021-11-09T12:07:30.721Z"
      },
      {
        "duration": 82,
        "start_time": "2021-11-09T12:07:30.760Z"
      },
      {
        "duration": 85,
        "start_time": "2021-11-09T12:07:30.845Z"
      },
      {
        "duration": 33,
        "start_time": "2021-11-09T12:07:30.933Z"
      },
      {
        "duration": 37062,
        "start_time": "2021-11-09T12:07:30.968Z"
      },
      {
        "duration": 18,
        "start_time": "2021-11-09T12:08:08.034Z"
      },
      {
        "duration": 14,
        "start_time": "2021-11-09T12:08:08.055Z"
      },
      {
        "duration": 11,
        "start_time": "2021-11-09T12:08:08.072Z"
      },
      {
        "duration": 45,
        "start_time": "2021-11-09T12:08:08.086Z"
      },
      {
        "duration": 7,
        "start_time": "2021-11-09T12:08:08.134Z"
      },
      {
        "duration": 13,
        "start_time": "2021-11-09T12:08:08.144Z"
      },
      {
        "duration": 73,
        "start_time": "2021-11-09T12:08:08.159Z"
      },
      {
        "duration": 103,
        "start_time": "2021-11-09T12:08:08.234Z"
      },
      {
        "duration": 309,
        "start_time": "2021-11-09T12:08:08.435Z"
      },
      {
        "duration": 46536,
        "start_time": "2021-11-09T12:08:08.746Z"
      },
      {
        "duration": 5,
        "start_time": "2021-11-09T12:08:55.285Z"
      },
      {
        "duration": 41,
        "start_time": "2021-11-09T12:08:55.292Z"
      },
      {
        "duration": 9,
        "start_time": "2021-11-09T12:08:55.336Z"
      },
      {
        "duration": 5,
        "start_time": "2021-11-09T12:08:55.347Z"
      },
      {
        "duration": 9,
        "start_time": "2021-11-09T12:08:55.354Z"
      },
      {
        "duration": 6,
        "start_time": "2021-11-09T12:08:55.369Z"
      },
      {
        "duration": 19,
        "start_time": "2021-11-09T12:08:55.378Z"
      },
      {
        "duration": 10,
        "start_time": "2021-11-09T12:08:55.430Z"
      },
      {
        "duration": 6,
        "start_time": "2021-11-09T12:08:55.442Z"
      },
      {
        "duration": 9,
        "start_time": "2021-11-09T12:08:55.451Z"
      },
      {
        "duration": 167,
        "start_time": "2021-11-09T12:08:55.462Z"
      },
      {
        "duration": 295,
        "start_time": "2021-11-09T12:08:55.633Z"
      },
      {
        "duration": 169,
        "start_time": "2021-11-09T12:08:55.933Z"
      },
      {
        "duration": 337,
        "start_time": "2021-11-09T12:08:56.106Z"
      },
      {
        "duration": 98220,
        "start_time": "2021-11-09T12:08:56.445Z"
      },
      {
        "duration": 262295,
        "start_time": "2021-11-09T12:10:34.668Z"
      },
      {
        "duration": 602361,
        "start_time": "2021-11-09T12:14:56.966Z"
      },
      {
        "duration": 9463,
        "start_time": "2021-11-09T12:29:53.215Z"
      },
      {
        "duration": 158709,
        "start_time": "2021-11-09T12:30:12.550Z"
      },
      {
        "duration": 1403,
        "start_time": "2021-11-09T18:59:34.866Z"
      },
      {
        "duration": 34,
        "start_time": "2021-11-09T18:59:36.272Z"
      },
      {
        "duration": 34,
        "start_time": "2021-11-09T18:59:36.310Z"
      },
      {
        "duration": 4,
        "start_time": "2021-11-09T18:59:36.347Z"
      },
      {
        "duration": 13,
        "start_time": "2021-11-09T18:59:36.353Z"
      },
      {
        "duration": 31,
        "start_time": "2021-11-09T18:59:36.368Z"
      },
      {
        "duration": 37783,
        "start_time": "2021-11-09T18:59:36.429Z"
      },
      {
        "duration": 28,
        "start_time": "2021-11-09T19:00:14.215Z"
      },
      {
        "duration": 12,
        "start_time": "2021-11-09T19:00:14.247Z"
      },
      {
        "duration": 16,
        "start_time": "2021-11-09T19:00:14.261Z"
      },
      {
        "duration": 4,
        "start_time": "2021-11-09T19:00:14.280Z"
      },
      {
        "duration": 44,
        "start_time": "2021-11-09T19:00:14.286Z"
      },
      {
        "duration": 5,
        "start_time": "2021-11-09T19:00:14.332Z"
      },
      {
        "duration": 51,
        "start_time": "2021-11-09T19:00:14.339Z"
      },
      {
        "duration": 144,
        "start_time": "2021-11-09T19:00:14.392Z"
      },
      {
        "duration": 352,
        "start_time": "2021-11-09T19:00:14.539Z"
      },
      {
        "duration": 45747,
        "start_time": "2021-11-09T19:00:14.893Z"
      },
      {
        "duration": 6,
        "start_time": "2021-11-09T19:01:00.642Z"
      },
      {
        "duration": 44,
        "start_time": "2021-11-09T19:01:00.650Z"
      },
      {
        "duration": 27,
        "start_time": "2021-11-09T19:01:00.696Z"
      },
      {
        "duration": 33,
        "start_time": "2021-11-09T19:01:00.726Z"
      },
      {
        "duration": 27,
        "start_time": "2021-11-09T19:01:00.762Z"
      },
      {
        "duration": 28,
        "start_time": "2021-11-09T19:01:00.792Z"
      },
      {
        "duration": 43,
        "start_time": "2021-11-09T19:01:00.823Z"
      },
      {
        "duration": 25,
        "start_time": "2021-11-09T19:01:00.869Z"
      },
      {
        "duration": 30,
        "start_time": "2021-11-09T19:01:00.897Z"
      },
      {
        "duration": 30,
        "start_time": "2021-11-09T19:01:00.934Z"
      },
      {
        "duration": 66,
        "start_time": "2021-11-09T19:01:00.968Z"
      },
      {
        "duration": 391,
        "start_time": "2021-11-09T19:01:01.038Z"
      },
      {
        "duration": 203,
        "start_time": "2021-11-09T19:01:01.432Z"
      },
      {
        "duration": 343,
        "start_time": "2021-11-09T19:01:01.637Z"
      },
      {
        "duration": 98207,
        "start_time": "2021-11-09T19:01:01.982Z"
      },
      {
        "duration": 253142,
        "start_time": "2021-11-09T19:02:40.191Z"
      },
      {
        "duration": 150429,
        "start_time": "2021-11-09T19:06:53.335Z"
      },
      {
        "duration": 430,
        "start_time": "2021-11-09T19:24:05.191Z"
      },
      {
        "duration": 4,
        "start_time": "2021-11-09T19:24:32.158Z"
      },
      {
        "duration": 7,
        "start_time": "2021-11-09T19:24:37.098Z"
      },
      {
        "duration": 91,
        "start_time": "2021-11-09T19:28:46.731Z"
      },
      {
        "duration": 331,
        "start_time": "2021-11-09T19:28:52.820Z"
      },
      {
        "duration": 13,
        "start_time": "2021-11-09T19:29:14.646Z"
      },
      {
        "duration": 105,
        "start_time": "2021-11-09T19:32:24.865Z"
      },
      {
        "duration": 275,
        "start_time": "2021-11-09T19:35:42.088Z"
      },
      {
        "duration": 890,
        "start_time": "2021-11-09T19:41:28.625Z"
      },
      {
        "duration": 4,
        "start_time": "2021-11-09T19:41:48.976Z"
      },
      {
        "duration": 471,
        "start_time": "2021-11-09T19:41:53.870Z"
      },
      {
        "duration": 466,
        "start_time": "2021-11-09T19:42:52.195Z"
      },
      {
        "duration": 9,
        "start_time": "2021-11-09T19:46:44.651Z"
      },
      {
        "duration": 7,
        "start_time": "2021-11-09T19:47:07.256Z"
      },
      {
        "duration": 10,
        "start_time": "2021-11-09T19:50:09.908Z"
      },
      {
        "duration": 7,
        "start_time": "2021-11-09T19:50:19.151Z"
      },
      {
        "duration": 330,
        "start_time": "2021-11-10T07:05:11.860Z"
      },
      {
        "duration": 1182,
        "start_time": "2021-11-10T07:05:18.742Z"
      },
      {
        "duration": 31,
        "start_time": "2021-11-10T07:05:19.925Z"
      },
      {
        "duration": 23,
        "start_time": "2021-11-10T07:05:19.958Z"
      },
      {
        "duration": 3,
        "start_time": "2021-11-10T07:05:19.983Z"
      },
      {
        "duration": 12,
        "start_time": "2021-11-10T07:05:19.988Z"
      },
      {
        "duration": 22,
        "start_time": "2021-11-10T07:05:20.002Z"
      },
      {
        "duration": 22791,
        "start_time": "2021-11-10T07:05:20.026Z"
      },
      {
        "duration": 13,
        "start_time": "2021-11-10T07:05:42.820Z"
      },
      {
        "duration": 29,
        "start_time": "2021-11-10T07:05:42.835Z"
      },
      {
        "duration": 9,
        "start_time": "2021-11-10T07:05:42.865Z"
      },
      {
        "duration": 4,
        "start_time": "2021-11-10T07:05:42.875Z"
      },
      {
        "duration": 6,
        "start_time": "2021-11-10T07:05:42.881Z"
      },
      {
        "duration": 5,
        "start_time": "2021-11-10T07:05:42.888Z"
      },
      {
        "duration": 32,
        "start_time": "2021-11-10T07:05:42.895Z"
      },
      {
        "duration": 61,
        "start_time": "2021-11-10T07:05:42.929Z"
      },
      {
        "duration": 268,
        "start_time": "2021-11-10T07:05:43.067Z"
      },
      {
        "duration": 29677,
        "start_time": "2021-11-10T07:05:43.337Z"
      },
      {
        "duration": 4,
        "start_time": "2021-11-10T07:06:13.015Z"
      },
      {
        "duration": 17,
        "start_time": "2021-11-10T07:06:13.021Z"
      },
      {
        "duration": 24,
        "start_time": "2021-11-10T07:06:13.039Z"
      },
      {
        "duration": 5,
        "start_time": "2021-11-10T07:06:13.065Z"
      },
      {
        "duration": 9,
        "start_time": "2021-11-10T07:06:13.071Z"
      },
      {
        "duration": 5,
        "start_time": "2021-11-10T07:06:13.084Z"
      },
      {
        "duration": 17,
        "start_time": "2021-11-10T07:06:13.092Z"
      },
      {
        "duration": 8,
        "start_time": "2021-11-10T07:06:13.111Z"
      },
      {
        "duration": 7,
        "start_time": "2021-11-10T07:06:13.121Z"
      },
      {
        "duration": 38,
        "start_time": "2021-11-10T07:06:13.131Z"
      },
      {
        "duration": 97,
        "start_time": "2021-11-10T07:06:13.171Z"
      },
      {
        "duration": 206,
        "start_time": "2021-11-10T07:06:13.270Z"
      },
      {
        "duration": 291,
        "start_time": "2021-11-10T07:06:13.478Z"
      },
      {
        "duration": 229,
        "start_time": "2021-11-10T07:06:13.771Z"
      },
      {
        "duration": 64434,
        "start_time": "2021-11-10T07:06:14.002Z"
      },
      {
        "duration": 162092,
        "start_time": "2021-11-10T07:07:18.438Z"
      },
      {
        "duration": 502,
        "start_time": "2021-11-10T07:10:00.532Z"
      },
      {
        "duration": 8,
        "start_time": "2021-11-10T07:10:01.036Z"
      },
      {
        "duration": 181,
        "start_time": "2021-11-10T07:10:01.045Z"
      },
      {
        "duration": 293,
        "start_time": "2021-11-10T07:10:01.228Z"
      },
      {
        "duration": 4,
        "start_time": "2021-11-10T07:10:01.523Z"
      },
      {
        "duration": 748,
        "start_time": "2021-11-10T08:16:23.018Z"
      },
      {
        "duration": 192,
        "start_time": "2021-11-10T08:16:28.959Z"
      },
      {
        "duration": 701,
        "start_time": "2021-11-10T08:16:45.029Z"
      },
      {
        "duration": 795,
        "start_time": "2021-11-10T08:17:10.032Z"
      },
      {
        "duration": 871,
        "start_time": "2021-11-10T08:17:16.797Z"
      },
      {
        "duration": 185,
        "start_time": "2021-11-10T08:17:24.187Z"
      },
      {
        "duration": 799,
        "start_time": "2021-11-10T08:17:31.987Z"
      },
      {
        "duration": 182,
        "start_time": "2021-11-10T08:32:49.488Z"
      },
      {
        "duration": 783,
        "start_time": "2021-11-10T08:32:56.671Z"
      },
      {
        "duration": 1228,
        "start_time": "2021-11-10T08:34:03.066Z"
      },
      {
        "duration": 32,
        "start_time": "2021-11-10T08:34:04.296Z"
      },
      {
        "duration": 24,
        "start_time": "2021-11-10T08:34:04.330Z"
      },
      {
        "duration": 4,
        "start_time": "2021-11-10T08:34:04.364Z"
      },
      {
        "duration": 12,
        "start_time": "2021-11-10T08:34:04.370Z"
      },
      {
        "duration": 25,
        "start_time": "2021-11-10T08:34:04.385Z"
      },
      {
        "duration": 22963,
        "start_time": "2021-11-10T08:34:04.412Z"
      },
      {
        "duration": 13,
        "start_time": "2021-11-10T08:34:27.378Z"
      },
      {
        "duration": 10,
        "start_time": "2021-11-10T08:34:27.394Z"
      },
      {
        "duration": 9,
        "start_time": "2021-11-10T08:34:27.405Z"
      },
      {
        "duration": 9,
        "start_time": "2021-11-10T08:34:27.415Z"
      },
      {
        "duration": 39,
        "start_time": "2021-11-10T08:34:27.426Z"
      },
      {
        "duration": 8,
        "start_time": "2021-11-10T08:34:27.466Z"
      },
      {
        "duration": 40,
        "start_time": "2021-11-10T08:34:27.476Z"
      },
      {
        "duration": 54,
        "start_time": "2021-11-10T08:34:27.518Z"
      },
      {
        "duration": 281,
        "start_time": "2021-11-10T08:34:27.670Z"
      },
      {
        "duration": 30795,
        "start_time": "2021-11-10T08:34:27.954Z"
      },
      {
        "duration": 12,
        "start_time": "2021-11-10T08:34:58.751Z"
      },
      {
        "duration": 21,
        "start_time": "2021-11-10T08:34:58.765Z"
      },
      {
        "duration": 9,
        "start_time": "2021-11-10T08:34:58.788Z"
      },
      {
        "duration": 5,
        "start_time": "2021-11-10T08:34:58.799Z"
      },
      {
        "duration": 5,
        "start_time": "2021-11-10T08:34:58.806Z"
      },
      {
        "duration": 6,
        "start_time": "2021-11-10T08:34:58.815Z"
      },
      {
        "duration": 43,
        "start_time": "2021-11-10T08:34:58.823Z"
      },
      {
        "duration": 8,
        "start_time": "2021-11-10T08:34:58.868Z"
      },
      {
        "duration": 4,
        "start_time": "2021-11-10T08:34:58.878Z"
      },
      {
        "duration": 8,
        "start_time": "2021-11-10T08:34:58.884Z"
      },
      {
        "duration": 78,
        "start_time": "2021-11-10T08:34:58.894Z"
      },
      {
        "duration": 108,
        "start_time": "2021-11-10T08:34:59.064Z"
      },
      {
        "duration": 289,
        "start_time": "2021-11-10T08:34:59.175Z"
      },
      {
        "duration": 237,
        "start_time": "2021-11-10T08:34:59.466Z"
      },
      {
        "duration": 65540,
        "start_time": "2021-11-10T08:34:59.705Z"
      },
      {
        "duration": 42761,
        "start_time": "2021-11-10T08:36:05.246Z"
      },
      {
        "duration": -212,
        "start_time": "2021-11-10T08:36:48.221Z"
      },
      {
        "duration": -214,
        "start_time": "2021-11-10T08:36:48.224Z"
      },
      {
        "duration": -215,
        "start_time": "2021-11-10T08:36:48.226Z"
      },
      {
        "duration": -216,
        "start_time": "2021-11-10T08:36:48.228Z"
      },
      {
        "duration": -219,
        "start_time": "2021-11-10T08:36:48.232Z"
      },
      {
        "duration": 384453,
        "start_time": "2021-11-10T08:36:59.061Z"
      },
      {
        "duration": 863,
        "start_time": "2021-11-10T08:43:31.789Z"
      },
      {
        "duration": 10,
        "start_time": "2021-11-10T08:43:35.781Z"
      },
      {
        "duration": 175,
        "start_time": "2021-11-10T08:43:37.989Z"
      },
      {
        "duration": 288,
        "start_time": "2021-11-10T08:43:39.659Z"
      },
      {
        "duration": 5,
        "start_time": "2021-11-10T08:43:42.081Z"
      }
    ],
    "kernelspec": {
      "display_name": "Python 3",
      "language": "python",
      "name": "python3"
    },
    "language_info": {
      "codemirror_mode": {
        "name": "ipython",
        "version": 3
      },
      "file_extension": ".py",
      "mimetype": "text/x-python",
      "name": "python",
      "nbconvert_exporter": "python",
      "pygments_lexer": "ipython3",
      "version": "3.7.8"
    },
    "toc": {
      "base_numbering": 1,
      "nav_menu": {},
      "number_sections": true,
      "sideBar": true,
      "skip_h1_title": true,
      "title_cell": "Содержание",
      "title_sidebar": "Contents",
      "toc_cell": true,
      "toc_position": {},
      "toc_section_display": true,
      "toc_window_display": false
    },
    "colab": {
      "name": "Обучение с учителем_v2_final.ipynb",
      "provenance": [],
      "include_colab_link": true
    }
  },
  "cells": [
    {
      "cell_type": "markdown",
      "metadata": {
        "id": "view-in-github",
        "colab_type": "text"
      },
      "source": [
        "<a href=\"https://colab.research.google.com/github/ivanpoptsov/learning_with_a_teacher/blob/main/%D0%9E%D0%B1%D1%83%D1%87%D0%B5%D0%BD%D0%B8%D0%B5_%D1%81_%D1%83%D1%87%D0%B8%D1%82%D0%B5%D0%BB%D0%B5%D0%BC_git_project.ipynb\" target=\"_parent\"><img src=\"https://colab.research.google.com/assets/colab-badge.svg\" alt=\"Open In Colab\"/></a>"
      ]
    },
    {
      "cell_type": "markdown",
      "metadata": {
        "toc": true,
        "id": "f1NFwWcO3uIU"
      },
      "source": [
        "<h1>Содержание<span class=\"tocSkip\"></span></h1>\n",
        "<div class=\"toc\"><ul class=\"toc-item\"><li><ul class=\"toc-item\"><li><span><a href=\"#Общее-впечатление\" data-toc-modified-id=\"Общее-впечатление-0.1\"><span class=\"toc-item-num\">0.1&nbsp;&nbsp;</span><font color=\"orange\">Общее впечатление</font></a></span></li><li><span><a href=\"#Общее-впечатление-(ревью-2)\" data-toc-modified-id=\"Общее-впечатление-(ревью-2)-0.2\"><span class=\"toc-item-num\">0.2&nbsp;&nbsp;</span><font color=\"orange\">Общее впечатление (ревью 2)</font></a></span></li></ul></li><li><span><a href=\"#Подготовка-данных\" data-toc-modified-id=\"Подготовка-данных-1\"><span class=\"toc-item-num\">1&nbsp;&nbsp;</span>Подготовка данных</a></span></li><li><span><a href=\"#Исследование-задачи\" data-toc-modified-id=\"Исследование-задачи-2\"><span class=\"toc-item-num\">2&nbsp;&nbsp;</span>Исследование задачи</a></span></li><li><span><a href=\"#Борьба-с-дисбалансом\" data-toc-modified-id=\"Борьба-с-дисбалансом-3\"><span class=\"toc-item-num\">3&nbsp;&nbsp;</span>Борьба с дисбалансом</a></span></li><li><span><a href=\"#Тестирование-модели\" data-toc-modified-id=\"Тестирование-модели-4\"><span class=\"toc-item-num\">4&nbsp;&nbsp;</span>Тестирование модели</a></span></li><li><span><a href=\"#Чек-лист-готовности-проекта\" data-toc-modified-id=\"Чек-лист-готовности-проекта-5\"><span class=\"toc-item-num\">5&nbsp;&nbsp;</span>Чек-лист готовности проекта</a></span></li></ul></div>"
      ]
    },
    {
      "cell_type": "markdown",
      "metadata": {
        "id": "0cnP17ZD3uIV"
      },
      "source": [
        "# Отток клиентов"
      ]
    },
    {
      "cell_type": "markdown",
      "metadata": {
        "id": "S4dmGISH3uIV"
      },
      "source": [
        "Из «Бета-Банка» стали уходить клиенты. Каждый месяц. Немного, но заметно. Банковские маркетологи посчитали: сохранять текущих клиентов дешевле, чем привлекать новых.\n",
        "\n",
        "Нужно спрогнозировать, уйдёт клиент из банка в ближайшее время или нет. Вам предоставлены исторические данные о поведении клиентов и расторжении договоров с банком. \n",
        "\n",
        "Постройте модель с предельно большим значением *F1*-меры. Чтобы сдать проект успешно, нужно довести метрику до 0.59. Проверьте *F1*-меру на тестовой выборке самостоятельно.\n",
        "\n",
        "Дополнительно измеряйте *AUC-ROC*, сравнивайте её значение с *F1*-мерой.\n",
        "\n",
        "Источник данных: [https://www.kaggle.com/barelydedicated/bank-customer-churn-modeling](https://www.kaggle.com/barelydedicated/bank-customer-churn-modeling)"
      ]
    },
    {
      "cell_type": "markdown",
      "metadata": {
        "id": "0lz6i4Ad3uIW"
      },
      "source": [
        "## Подготовка данных"
      ]
    },
    {
      "cell_type": "code",
      "metadata": {
        "id": "3rLN4jIW3uIY"
      },
      "source": [
        "import pandas as pd\n",
        "import matplotlib.pyplot as plt\n",
        "from sklearn.model_selection import train_test_split\n",
        "from sklearn.linear_model import LogisticRegression\n",
        "from sklearn.ensemble import RandomForestClassifier\n",
        "from sklearn.tree import DecisionTreeClassifier\n",
        "from sklearn.metrics import f1_score\n",
        "from sklearn.metrics import roc_auc_score\n",
        "from sklearn.metrics import roc_curve\n",
        "from sklearn.utils import shuffle\n",
        "from sklearn.dummy import DummyClassifier"
      ],
      "execution_count": 2,
      "outputs": []
    },
    {
      "cell_type": "code",
      "metadata": {
        "id": "MzEQRtUW3uIb"
      },
      "source": [
        "data = pd.read_csv('https://code.s3.yandex.net/datasets/Churn.csv')"
      ],
      "execution_count": 3,
      "outputs": []
    },
    {
      "cell_type": "code",
      "metadata": {
        "scrolled": false,
        "id": "z_QysKYy3uIc",
        "outputId": "dc655fdf-a607-49fb-bb9c-443790eaab4f",
        "colab": {
          "base_uri": "https://localhost:8080/",
          "height": 588
        }
      },
      "source": [
        "display(data.info())\n",
        "display(data.head())"
      ],
      "execution_count": 4,
      "outputs": [
        {
          "output_type": "stream",
          "name": "stdout",
          "text": [
            "<class 'pandas.core.frame.DataFrame'>\n",
            "RangeIndex: 10000 entries, 0 to 9999\n",
            "Data columns (total 14 columns):\n",
            " #   Column           Non-Null Count  Dtype  \n",
            "---  ------           --------------  -----  \n",
            " 0   RowNumber        10000 non-null  int64  \n",
            " 1   CustomerId       10000 non-null  int64  \n",
            " 2   Surname          10000 non-null  object \n",
            " 3   CreditScore      10000 non-null  int64  \n",
            " 4   Geography        10000 non-null  object \n",
            " 5   Gender           10000 non-null  object \n",
            " 6   Age              10000 non-null  int64  \n",
            " 7   Tenure           9091 non-null   float64\n",
            " 8   Balance          10000 non-null  float64\n",
            " 9   NumOfProducts    10000 non-null  int64  \n",
            " 10  HasCrCard        10000 non-null  int64  \n",
            " 11  IsActiveMember   10000 non-null  int64  \n",
            " 12  EstimatedSalary  10000 non-null  float64\n",
            " 13  Exited           10000 non-null  int64  \n",
            "dtypes: float64(3), int64(8), object(3)\n",
            "memory usage: 1.1+ MB\n"
          ]
        },
        {
          "output_type": "display_data",
          "data": {
            "text/plain": [
              "None"
            ]
          },
          "metadata": {}
        },
        {
          "output_type": "display_data",
          "data": {
            "text/html": [
              "\n",
              "  <div id=\"df-6e1102aa-9613-495d-8e04-d9bccd833551\">\n",
              "    <div class=\"colab-df-container\">\n",
              "      <div>\n",
              "<style scoped>\n",
              "    .dataframe tbody tr th:only-of-type {\n",
              "        vertical-align: middle;\n",
              "    }\n",
              "\n",
              "    .dataframe tbody tr th {\n",
              "        vertical-align: top;\n",
              "    }\n",
              "\n",
              "    .dataframe thead th {\n",
              "        text-align: right;\n",
              "    }\n",
              "</style>\n",
              "<table border=\"1\" class=\"dataframe\">\n",
              "  <thead>\n",
              "    <tr style=\"text-align: right;\">\n",
              "      <th></th>\n",
              "      <th>RowNumber</th>\n",
              "      <th>CustomerId</th>\n",
              "      <th>Surname</th>\n",
              "      <th>CreditScore</th>\n",
              "      <th>Geography</th>\n",
              "      <th>Gender</th>\n",
              "      <th>Age</th>\n",
              "      <th>Tenure</th>\n",
              "      <th>Balance</th>\n",
              "      <th>NumOfProducts</th>\n",
              "      <th>HasCrCard</th>\n",
              "      <th>IsActiveMember</th>\n",
              "      <th>EstimatedSalary</th>\n",
              "      <th>Exited</th>\n",
              "    </tr>\n",
              "  </thead>\n",
              "  <tbody>\n",
              "    <tr>\n",
              "      <th>0</th>\n",
              "      <td>1</td>\n",
              "      <td>15634602</td>\n",
              "      <td>Hargrave</td>\n",
              "      <td>619</td>\n",
              "      <td>France</td>\n",
              "      <td>Female</td>\n",
              "      <td>42</td>\n",
              "      <td>2.0</td>\n",
              "      <td>0.00</td>\n",
              "      <td>1</td>\n",
              "      <td>1</td>\n",
              "      <td>1</td>\n",
              "      <td>101348.88</td>\n",
              "      <td>1</td>\n",
              "    </tr>\n",
              "    <tr>\n",
              "      <th>1</th>\n",
              "      <td>2</td>\n",
              "      <td>15647311</td>\n",
              "      <td>Hill</td>\n",
              "      <td>608</td>\n",
              "      <td>Spain</td>\n",
              "      <td>Female</td>\n",
              "      <td>41</td>\n",
              "      <td>1.0</td>\n",
              "      <td>83807.86</td>\n",
              "      <td>1</td>\n",
              "      <td>0</td>\n",
              "      <td>1</td>\n",
              "      <td>112542.58</td>\n",
              "      <td>0</td>\n",
              "    </tr>\n",
              "    <tr>\n",
              "      <th>2</th>\n",
              "      <td>3</td>\n",
              "      <td>15619304</td>\n",
              "      <td>Onio</td>\n",
              "      <td>502</td>\n",
              "      <td>France</td>\n",
              "      <td>Female</td>\n",
              "      <td>42</td>\n",
              "      <td>8.0</td>\n",
              "      <td>159660.80</td>\n",
              "      <td>3</td>\n",
              "      <td>1</td>\n",
              "      <td>0</td>\n",
              "      <td>113931.57</td>\n",
              "      <td>1</td>\n",
              "    </tr>\n",
              "    <tr>\n",
              "      <th>3</th>\n",
              "      <td>4</td>\n",
              "      <td>15701354</td>\n",
              "      <td>Boni</td>\n",
              "      <td>699</td>\n",
              "      <td>France</td>\n",
              "      <td>Female</td>\n",
              "      <td>39</td>\n",
              "      <td>1.0</td>\n",
              "      <td>0.00</td>\n",
              "      <td>2</td>\n",
              "      <td>0</td>\n",
              "      <td>0</td>\n",
              "      <td>93826.63</td>\n",
              "      <td>0</td>\n",
              "    </tr>\n",
              "    <tr>\n",
              "      <th>4</th>\n",
              "      <td>5</td>\n",
              "      <td>15737888</td>\n",
              "      <td>Mitchell</td>\n",
              "      <td>850</td>\n",
              "      <td>Spain</td>\n",
              "      <td>Female</td>\n",
              "      <td>43</td>\n",
              "      <td>2.0</td>\n",
              "      <td>125510.82</td>\n",
              "      <td>1</td>\n",
              "      <td>1</td>\n",
              "      <td>1</td>\n",
              "      <td>79084.10</td>\n",
              "      <td>0</td>\n",
              "    </tr>\n",
              "  </tbody>\n",
              "</table>\n",
              "</div>\n",
              "      <button class=\"colab-df-convert\" onclick=\"convertToInteractive('df-6e1102aa-9613-495d-8e04-d9bccd833551')\"\n",
              "              title=\"Convert this dataframe to an interactive table.\"\n",
              "              style=\"display:none;\">\n",
              "        \n",
              "  <svg xmlns=\"http://www.w3.org/2000/svg\" height=\"24px\"viewBox=\"0 0 24 24\"\n",
              "       width=\"24px\">\n",
              "    <path d=\"M0 0h24v24H0V0z\" fill=\"none\"/>\n",
              "    <path d=\"M18.56 5.44l.94 2.06.94-2.06 2.06-.94-2.06-.94-.94-2.06-.94 2.06-2.06.94zm-11 1L8.5 8.5l.94-2.06 2.06-.94-2.06-.94L8.5 2.5l-.94 2.06-2.06.94zm10 10l.94 2.06.94-2.06 2.06-.94-2.06-.94-.94-2.06-.94 2.06-2.06.94z\"/><path d=\"M17.41 7.96l-1.37-1.37c-.4-.4-.92-.59-1.43-.59-.52 0-1.04.2-1.43.59L10.3 9.45l-7.72 7.72c-.78.78-.78 2.05 0 2.83L4 21.41c.39.39.9.59 1.41.59.51 0 1.02-.2 1.41-.59l7.78-7.78 2.81-2.81c.8-.78.8-2.07 0-2.86zM5.41 20L4 18.59l7.72-7.72 1.47 1.35L5.41 20z\"/>\n",
              "  </svg>\n",
              "      </button>\n",
              "      \n",
              "  <style>\n",
              "    .colab-df-container {\n",
              "      display:flex;\n",
              "      flex-wrap:wrap;\n",
              "      gap: 12px;\n",
              "    }\n",
              "\n",
              "    .colab-df-convert {\n",
              "      background-color: #E8F0FE;\n",
              "      border: none;\n",
              "      border-radius: 50%;\n",
              "      cursor: pointer;\n",
              "      display: none;\n",
              "      fill: #1967D2;\n",
              "      height: 32px;\n",
              "      padding: 0 0 0 0;\n",
              "      width: 32px;\n",
              "    }\n",
              "\n",
              "    .colab-df-convert:hover {\n",
              "      background-color: #E2EBFA;\n",
              "      box-shadow: 0px 1px 2px rgba(60, 64, 67, 0.3), 0px 1px 3px 1px rgba(60, 64, 67, 0.15);\n",
              "      fill: #174EA6;\n",
              "    }\n",
              "\n",
              "    [theme=dark] .colab-df-convert {\n",
              "      background-color: #3B4455;\n",
              "      fill: #D2E3FC;\n",
              "    }\n",
              "\n",
              "    [theme=dark] .colab-df-convert:hover {\n",
              "      background-color: #434B5C;\n",
              "      box-shadow: 0px 1px 3px 1px rgba(0, 0, 0, 0.15);\n",
              "      filter: drop-shadow(0px 1px 2px rgba(0, 0, 0, 0.3));\n",
              "      fill: #FFFFFF;\n",
              "    }\n",
              "  </style>\n",
              "\n",
              "      <script>\n",
              "        const buttonEl =\n",
              "          document.querySelector('#df-6e1102aa-9613-495d-8e04-d9bccd833551 button.colab-df-convert');\n",
              "        buttonEl.style.display =\n",
              "          google.colab.kernel.accessAllowed ? 'block' : 'none';\n",
              "\n",
              "        async function convertToInteractive(key) {\n",
              "          const element = document.querySelector('#df-6e1102aa-9613-495d-8e04-d9bccd833551');\n",
              "          const dataTable =\n",
              "            await google.colab.kernel.invokeFunction('convertToInteractive',\n",
              "                                                     [key], {});\n",
              "          if (!dataTable) return;\n",
              "\n",
              "          const docLinkHtml = 'Like what you see? Visit the ' +\n",
              "            '<a target=\"_blank\" href=https://colab.research.google.com/notebooks/data_table.ipynb>data table notebook</a>'\n",
              "            + ' to learn more about interactive tables.';\n",
              "          element.innerHTML = '';\n",
              "          dataTable['output_type'] = 'display_data';\n",
              "          await google.colab.output.renderOutput(dataTable, element);\n",
              "          const docLink = document.createElement('div');\n",
              "          docLink.innerHTML = docLinkHtml;\n",
              "          element.appendChild(docLink);\n",
              "        }\n",
              "      </script>\n",
              "    </div>\n",
              "  </div>\n",
              "  "
            ],
            "text/plain": [
              "   RowNumber  CustomerId   Surname  ...  IsActiveMember EstimatedSalary Exited\n",
              "0          1    15634602  Hargrave  ...               1       101348.88      1\n",
              "1          2    15647311      Hill  ...               1       112542.58      0\n",
              "2          3    15619304      Onio  ...               0       113931.57      1\n",
              "3          4    15701354      Boni  ...               0        93826.63      0\n",
              "4          5    15737888  Mitchell  ...               1        79084.10      0\n",
              "\n",
              "[5 rows x 14 columns]"
            ]
          },
          "metadata": {}
        }
      ]
    },
    {
      "cell_type": "markdown",
      "metadata": {
        "id": "KA7lgIpk3uIe"
      },
      "source": [
        "**Заполним пропуски в столбце Tenure (сколько лет человек является клиентом банка) - если нет значения, то скорее всего человек является клиентом банка менее года - значит, значение может быть равно \"0\"**"
      ]
    },
    {
      "cell_type": "code",
      "metadata": {
        "id": "pjR3nPW53uIf"
      },
      "source": [
        "data['Tenure'] = data['Tenure'].fillna(0)"
      ],
      "execution_count": 5,
      "outputs": []
    },
    {
      "cell_type": "code",
      "metadata": {
        "scrolled": false,
        "id": "-jHoGRbi3uIg",
        "outputId": "4d7e413a-dcc7-4216-f8bf-ca0895ee526a",
        "colab": {
          "base_uri": "https://localhost:8080/"
        }
      },
      "source": [
        "data.info()"
      ],
      "execution_count": 6,
      "outputs": [
        {
          "output_type": "stream",
          "name": "stdout",
          "text": [
            "<class 'pandas.core.frame.DataFrame'>\n",
            "RangeIndex: 10000 entries, 0 to 9999\n",
            "Data columns (total 14 columns):\n",
            " #   Column           Non-Null Count  Dtype  \n",
            "---  ------           --------------  -----  \n",
            " 0   RowNumber        10000 non-null  int64  \n",
            " 1   CustomerId       10000 non-null  int64  \n",
            " 2   Surname          10000 non-null  object \n",
            " 3   CreditScore      10000 non-null  int64  \n",
            " 4   Geography        10000 non-null  object \n",
            " 5   Gender           10000 non-null  object \n",
            " 6   Age              10000 non-null  int64  \n",
            " 7   Tenure           10000 non-null  float64\n",
            " 8   Balance          10000 non-null  float64\n",
            " 9   NumOfProducts    10000 non-null  int64  \n",
            " 10  HasCrCard        10000 non-null  int64  \n",
            " 11  IsActiveMember   10000 non-null  int64  \n",
            " 12  EstimatedSalary  10000 non-null  float64\n",
            " 13  Exited           10000 non-null  int64  \n",
            "dtypes: float64(3), int64(8), object(3)\n",
            "memory usage: 1.1+ MB\n"
          ]
        }
      ]
    },
    {
      "cell_type": "markdown",
      "metadata": {
        "id": "-Uh76j4L3uIi"
      },
      "source": [
        "**Определим категорийные столбцы методом nunique**"
      ]
    },
    {
      "cell_type": "code",
      "metadata": {
        "id": "684sXfaq3uIj",
        "outputId": "5d0f851d-1e68-429b-e591-2d81a35a293a",
        "colab": {
          "base_uri": "https://localhost:8080/"
        }
      },
      "source": [
        "data.nunique()"
      ],
      "execution_count": 7,
      "outputs": [
        {
          "output_type": "execute_result",
          "data": {
            "text/plain": [
              "RowNumber          10000\n",
              "CustomerId         10000\n",
              "Surname             2932\n",
              "CreditScore          460\n",
              "Geography              3\n",
              "Gender                 2\n",
              "Age                   70\n",
              "Tenure                11\n",
              "Balance             6382\n",
              "NumOfProducts          4\n",
              "HasCrCard              2\n",
              "IsActiveMember         2\n",
              "EstimatedSalary     9999\n",
              "Exited                 2\n",
              "dtype: int64"
            ]
          },
          "metadata": {},
          "execution_count": 7
        }
      ]
    },
    {
      "cell_type": "markdown",
      "metadata": {
        "id": "8ndCO90w3uIk"
      },
      "source": [
        "**Проверим данные на мультиколлинерность построением графика scatter_matrix**"
      ]
    },
    {
      "cell_type": "code",
      "metadata": {
        "id": "DzXnYhLf3uIk",
        "outputId": "41398efb-3e44-4543-a3a1-5ed18e2fbe85",
        "colab": {
          "base_uri": "https://localhost:8080/",
          "height": 753
        }
      },
      "source": [
        "pd.plotting.scatter_matrix(data,figsize=(12,12))\n",
        "plt.show"
      ],
      "execution_count": 8,
      "outputs": [
        {
          "output_type": "execute_result",
          "data": {
            "text/plain": [
              "<function matplotlib.pyplot.show>"
            ]
          },
          "metadata": {},
          "execution_count": 8
        },
        {
          "output_type": "display_data",
          "data": {
            "image/png": "[encoded data removed]",
            "text/plain": [
              "<Figure size 864x864 with 121 Axes>"
            ]
          },
          "metadata": {
            "needs_background": "light"
          }
        }
      ]
    },
    {
      "cell_type": "markdown",
      "metadata": {
        "id": "qkW-RAmK3uIl"
      },
      "source": [
        "**На диаграммах не зафиксированна мультиколлинерность данных, поэтому используем все интересующие нас столбцы**"
      ]
    },
    {
      "cell_type": "code",
      "metadata": {
        "id": "zKDVfZLV3uIl",
        "outputId": "272cd3b7-de75-4a8a-8a05-6d12b8864571",
        "colab": {
          "base_uri": "https://localhost:8080/",
          "height": 310
        }
      },
      "source": [
        "target = data['Exited']\n",
        "features = data.drop(['Exited', 'RowNumber', 'CustomerId', 'Gender', 'Surname', 'Geography'], axis=1)\n",
        "display(target.head())\n",
        "display(features.head())"
      ],
      "execution_count": 9,
      "outputs": [
        {
          "output_type": "display_data",
          "data": {
            "text/plain": [
              "0    1\n",
              "1    0\n",
              "2    1\n",
              "3    0\n",
              "4    0\n",
              "Name: Exited, dtype: int64"
            ]
          },
          "metadata": {}
        },
        {
          "output_type": "display_data",
          "data": {
            "text/html": [
              "\n",
              "  <div id=\"df-6c42eead-5212-4edb-9f21-e5186d9587f3\">\n",
              "    <div class=\"colab-df-container\">\n",
              "      <div>\n",
              "<style scoped>\n",
              "    .dataframe tbody tr th:only-of-type {\n",
              "        vertical-align: middle;\n",
              "    }\n",
              "\n",
              "    .dataframe tbody tr th {\n",
              "        vertical-align: top;\n",
              "    }\n",
              "\n",
              "    .dataframe thead th {\n",
              "        text-align: right;\n",
              "    }\n",
              "</style>\n",
              "<table border=\"1\" class=\"dataframe\">\n",
              "  <thead>\n",
              "    <tr style=\"text-align: right;\">\n",
              "      <th></th>\n",
              "      <th>CreditScore</th>\n",
              "      <th>Age</th>\n",
              "      <th>Tenure</th>\n",
              "      <th>Balance</th>\n",
              "      <th>NumOfProducts</th>\n",
              "      <th>HasCrCard</th>\n",
              "      <th>IsActiveMember</th>\n",
              "      <th>EstimatedSalary</th>\n",
              "    </tr>\n",
              "  </thead>\n",
              "  <tbody>\n",
              "    <tr>\n",
              "      <th>0</th>\n",
              "      <td>619</td>\n",
              "      <td>42</td>\n",
              "      <td>2.0</td>\n",
              "      <td>0.00</td>\n",
              "      <td>1</td>\n",
              "      <td>1</td>\n",
              "      <td>1</td>\n",
              "      <td>101348.88</td>\n",
              "    </tr>\n",
              "    <tr>\n",
              "      <th>1</th>\n",
              "      <td>608</td>\n",
              "      <td>41</td>\n",
              "      <td>1.0</td>\n",
              "      <td>83807.86</td>\n",
              "      <td>1</td>\n",
              "      <td>0</td>\n",
              "      <td>1</td>\n",
              "      <td>112542.58</td>\n",
              "    </tr>\n",
              "    <tr>\n",
              "      <th>2</th>\n",
              "      <td>502</td>\n",
              "      <td>42</td>\n",
              "      <td>8.0</td>\n",
              "      <td>159660.80</td>\n",
              "      <td>3</td>\n",
              "      <td>1</td>\n",
              "      <td>0</td>\n",
              "      <td>113931.57</td>\n",
              "    </tr>\n",
              "    <tr>\n",
              "      <th>3</th>\n",
              "      <td>699</td>\n",
              "      <td>39</td>\n",
              "      <td>1.0</td>\n",
              "      <td>0.00</td>\n",
              "      <td>2</td>\n",
              "      <td>0</td>\n",
              "      <td>0</td>\n",
              "      <td>93826.63</td>\n",
              "    </tr>\n",
              "    <tr>\n",
              "      <th>4</th>\n",
              "      <td>850</td>\n",
              "      <td>43</td>\n",
              "      <td>2.0</td>\n",
              "      <td>125510.82</td>\n",
              "      <td>1</td>\n",
              "      <td>1</td>\n",
              "      <td>1</td>\n",
              "      <td>79084.10</td>\n",
              "    </tr>\n",
              "  </tbody>\n",
              "</table>\n",
              "</div>\n",
              "      <button class=\"colab-df-convert\" onclick=\"convertToInteractive('df-6c42eead-5212-4edb-9f21-e5186d9587f3')\"\n",
              "              title=\"Convert this dataframe to an interactive table.\"\n",
              "              style=\"display:none;\">\n",
              "        \n",
              "  <svg xmlns=\"http://www.w3.org/2000/svg\" height=\"24px\"viewBox=\"0 0 24 24\"\n",
              "       width=\"24px\">\n",
              "    <path d=\"M0 0h24v24H0V0z\" fill=\"none\"/>\n",
              "    <path d=\"M18.56 5.44l.94 2.06.94-2.06 2.06-.94-2.06-.94-.94-2.06-.94 2.06-2.06.94zm-11 1L8.5 8.5l.94-2.06 2.06-.94-2.06-.94L8.5 2.5l-.94 2.06-2.06.94zm10 10l.94 2.06.94-2.06 2.06-.94-2.06-.94-.94-2.06-.94 2.06-2.06.94z\"/><path d=\"M17.41 7.96l-1.37-1.37c-.4-.4-.92-.59-1.43-.59-.52 0-1.04.2-1.43.59L10.3 9.45l-7.72 7.72c-.78.78-.78 2.05 0 2.83L4 21.41c.39.39.9.59 1.41.59.51 0 1.02-.2 1.41-.59l7.78-7.78 2.81-2.81c.8-.78.8-2.07 0-2.86zM5.41 20L4 18.59l7.72-7.72 1.47 1.35L5.41 20z\"/>\n",
              "  </svg>\n",
              "      </button>\n",
              "      \n",
              "  <style>\n",
              "    .colab-df-container {\n",
              "      display:flex;\n",
              "      flex-wrap:wrap;\n",
              "      gap: 12px;\n",
              "    }\n",
              "\n",
              "    .colab-df-convert {\n",
              "      background-color: #E8F0FE;\n",
              "      border: none;\n",
              "      border-radius: 50%;\n",
              "      cursor: pointer;\n",
              "      display: none;\n",
              "      fill: #1967D2;\n",
              "      height: 32px;\n",
              "      padding: 0 0 0 0;\n",
              "      width: 32px;\n",
              "    }\n",
              "\n",
              "    .colab-df-convert:hover {\n",
              "      background-color: #E2EBFA;\n",
              "      box-shadow: 0px 1px 2px rgba(60, 64, 67, 0.3), 0px 1px 3px 1px rgba(60, 64, 67, 0.15);\n",
              "      fill: #174EA6;\n",
              "    }\n",
              "\n",
              "    [theme=dark] .colab-df-convert {\n",
              "      background-color: #3B4455;\n",
              "      fill: #D2E3FC;\n",
              "    }\n",
              "\n",
              "    [theme=dark] .colab-df-convert:hover {\n",
              "      background-color: #434B5C;\n",
              "      box-shadow: 0px 1px 3px 1px rgba(0, 0, 0, 0.15);\n",
              "      filter: drop-shadow(0px 1px 2px rgba(0, 0, 0, 0.3));\n",
              "      fill: #FFFFFF;\n",
              "    }\n",
              "  </style>\n",
              "\n",
              "      <script>\n",
              "        const buttonEl =\n",
              "          document.querySelector('#df-6c42eead-5212-4edb-9f21-e5186d9587f3 button.colab-df-convert');\n",
              "        buttonEl.style.display =\n",
              "          google.colab.kernel.accessAllowed ? 'block' : 'none';\n",
              "\n",
              "        async function convertToInteractive(key) {\n",
              "          const element = document.querySelector('#df-6c42eead-5212-4edb-9f21-e5186d9587f3');\n",
              "          const dataTable =\n",
              "            await google.colab.kernel.invokeFunction('convertToInteractive',\n",
              "                                                     [key], {});\n",
              "          if (!dataTable) return;\n",
              "\n",
              "          const docLinkHtml = 'Like what you see? Visit the ' +\n",
              "            '<a target=\"_blank\" href=https://colab.research.google.com/notebooks/data_table.ipynb>data table notebook</a>'\n",
              "            + ' to learn more about interactive tables.';\n",
              "          element.innerHTML = '';\n",
              "          dataTable['output_type'] = 'display_data';\n",
              "          await google.colab.output.renderOutput(dataTable, element);\n",
              "          const docLink = document.createElement('div');\n",
              "          docLink.innerHTML = docLinkHtml;\n",
              "          element.appendChild(docLink);\n",
              "        }\n",
              "      </script>\n",
              "    </div>\n",
              "  </div>\n",
              "  "
            ],
            "text/plain": [
              "   CreditScore  Age  Tenure  ...  HasCrCard  IsActiveMember  EstimatedSalary\n",
              "0          619   42     2.0  ...          1               1        101348.88\n",
              "1          608   41     1.0  ...          0               1        112542.58\n",
              "2          502   42     8.0  ...          1               0        113931.57\n",
              "3          699   39     1.0  ...          0               0         93826.63\n",
              "4          850   43     2.0  ...          1               1         79084.10\n",
              "\n",
              "[5 rows x 8 columns]"
            ]
          },
          "metadata": {}
        }
      ]
    },
    {
      "cell_type": "code",
      "metadata": {
        "id": "-0DHaRUC3uIm"
      },
      "source": [
        "features_train, features_test, target_train, target_test = (\n",
        "    train_test_split(\n",
        "        features, target, test_size=0.2, random_state=12345, stratify=target\n",
        "    )\n",
        ")"
      ],
      "execution_count": 10,
      "outputs": []
    },
    {
      "cell_type": "code",
      "metadata": {
        "id": "ITUo8KJC3uIo"
      },
      "source": [
        "features_train, features_valid, target_train, target_valid = (\n",
        "    train_test_split(\n",
        "        features_train, target_train, test_size=0.2, random_state=12345, stratify=target_train\n",
        "    )\n",
        ")"
      ],
      "execution_count": 11,
      "outputs": []
    },
    {
      "cell_type": "markdown",
      "metadata": {
        "id": "1C7VRks53uIo"
      },
      "source": [
        "**Проверим разбивку по их длине**"
      ]
    },
    {
      "cell_type": "code",
      "metadata": {
        "id": "lphIlbiP3uIo",
        "outputId": "451321dc-3493-4601-da98-8bcbd2883a9a",
        "colab": {
          "base_uri": "https://localhost:8080/"
        }
      },
      "source": [
        "len(features_train)"
      ],
      "execution_count": 12,
      "outputs": [
        {
          "output_type": "execute_result",
          "data": {
            "text/plain": [
              "6400"
            ]
          },
          "metadata": {},
          "execution_count": 12
        }
      ]
    },
    {
      "cell_type": "code",
      "metadata": {
        "id": "ReHXNQ0U3uIp",
        "outputId": "c470d01b-913a-4bdd-9b45-5f5905535973",
        "colab": {
          "base_uri": "https://localhost:8080/"
        }
      },
      "source": [
        "len(features_test)"
      ],
      "execution_count": 13,
      "outputs": [
        {
          "output_type": "execute_result",
          "data": {
            "text/plain": [
              "2000"
            ]
          },
          "metadata": {},
          "execution_count": 13
        }
      ]
    },
    {
      "cell_type": "code",
      "metadata": {
        "id": "LLj-JiQc3uIp",
        "outputId": "e7890cd0-2186-45fe-919f-f741c8929d47",
        "colab": {
          "base_uri": "https://localhost:8080/"
        }
      },
      "source": [
        "len(features_valid)"
      ],
      "execution_count": 14,
      "outputs": [
        {
          "output_type": "execute_result",
          "data": {
            "text/plain": [
              "1600"
            ]
          },
          "metadata": {},
          "execution_count": 14
        }
      ]
    },
    {
      "cell_type": "markdown",
      "metadata": {
        "id": "UF5lsq983uIq"
      },
      "source": [
        "## Исследование задачи"
      ]
    },
    {
      "cell_type": "markdown",
      "metadata": {
        "id": "jg2ig3Tf3uIq"
      },
      "source": [
        "**Проверим полученную выборку на дисбаланс классов, для этого выведем на экран крайние значения столбцов методом describe**"
      ]
    },
    {
      "cell_type": "code",
      "metadata": {
        "id": "rm8kTSRj3uIq",
        "outputId": "a6953e2d-2a2f-4b4e-ef5a-e65fc45e0346",
        "colab": {
          "base_uri": "https://localhost:8080/",
          "height": 300
        }
      },
      "source": [
        "features.describe()"
      ],
      "execution_count": 15,
      "outputs": [
        {
          "output_type": "execute_result",
          "data": {
            "text/html": [
              "\n",
              "  <div id=\"df-6f645c2f-8c5e-4070-a19d-e7283ab0bbe1\">\n",
              "    <div class=\"colab-df-container\">\n",
              "      <div>\n",
              "<style scoped>\n",
              "    .dataframe tbody tr th:only-of-type {\n",
              "        vertical-align: middle;\n",
              "    }\n",
              "\n",
              "    .dataframe tbody tr th {\n",
              "        vertical-align: top;\n",
              "    }\n",
              "\n",
              "    .dataframe thead th {\n",
              "        text-align: right;\n",
              "    }\n",
              "</style>\n",
              "<table border=\"1\" class=\"dataframe\">\n",
              "  <thead>\n",
              "    <tr style=\"text-align: right;\">\n",
              "      <th></th>\n",
              "      <th>CreditScore</th>\n",
              "      <th>Age</th>\n",
              "      <th>Tenure</th>\n",
              "      <th>Balance</th>\n",
              "      <th>NumOfProducts</th>\n",
              "      <th>HasCrCard</th>\n",
              "      <th>IsActiveMember</th>\n",
              "      <th>EstimatedSalary</th>\n",
              "    </tr>\n",
              "  </thead>\n",
              "  <tbody>\n",
              "    <tr>\n",
              "      <th>count</th>\n",
              "      <td>10000.000000</td>\n",
              "      <td>10000.000000</td>\n",
              "      <td>10000.000000</td>\n",
              "      <td>10000.000000</td>\n",
              "      <td>10000.000000</td>\n",
              "      <td>10000.00000</td>\n",
              "      <td>10000.000000</td>\n",
              "      <td>10000.000000</td>\n",
              "    </tr>\n",
              "    <tr>\n",
              "      <th>mean</th>\n",
              "      <td>650.528800</td>\n",
              "      <td>38.921800</td>\n",
              "      <td>4.543400</td>\n",
              "      <td>76485.889288</td>\n",
              "      <td>1.530200</td>\n",
              "      <td>0.70550</td>\n",
              "      <td>0.515100</td>\n",
              "      <td>100090.239881</td>\n",
              "    </tr>\n",
              "    <tr>\n",
              "      <th>std</th>\n",
              "      <td>96.653299</td>\n",
              "      <td>10.487806</td>\n",
              "      <td>3.111573</td>\n",
              "      <td>62397.405202</td>\n",
              "      <td>0.581654</td>\n",
              "      <td>0.45584</td>\n",
              "      <td>0.499797</td>\n",
              "      <td>57510.492818</td>\n",
              "    </tr>\n",
              "    <tr>\n",
              "      <th>min</th>\n",
              "      <td>350.000000</td>\n",
              "      <td>18.000000</td>\n",
              "      <td>0.000000</td>\n",
              "      <td>0.000000</td>\n",
              "      <td>1.000000</td>\n",
              "      <td>0.00000</td>\n",
              "      <td>0.000000</td>\n",
              "      <td>11.580000</td>\n",
              "    </tr>\n",
              "    <tr>\n",
              "      <th>25%</th>\n",
              "      <td>584.000000</td>\n",
              "      <td>32.000000</td>\n",
              "      <td>2.000000</td>\n",
              "      <td>0.000000</td>\n",
              "      <td>1.000000</td>\n",
              "      <td>0.00000</td>\n",
              "      <td>0.000000</td>\n",
              "      <td>51002.110000</td>\n",
              "    </tr>\n",
              "    <tr>\n",
              "      <th>50%</th>\n",
              "      <td>652.000000</td>\n",
              "      <td>37.000000</td>\n",
              "      <td>4.000000</td>\n",
              "      <td>97198.540000</td>\n",
              "      <td>1.000000</td>\n",
              "      <td>1.00000</td>\n",
              "      <td>1.000000</td>\n",
              "      <td>100193.915000</td>\n",
              "    </tr>\n",
              "    <tr>\n",
              "      <th>75%</th>\n",
              "      <td>718.000000</td>\n",
              "      <td>44.000000</td>\n",
              "      <td>7.000000</td>\n",
              "      <td>127644.240000</td>\n",
              "      <td>2.000000</td>\n",
              "      <td>1.00000</td>\n",
              "      <td>1.000000</td>\n",
              "      <td>149388.247500</td>\n",
              "    </tr>\n",
              "    <tr>\n",
              "      <th>max</th>\n",
              "      <td>850.000000</td>\n",
              "      <td>92.000000</td>\n",
              "      <td>10.000000</td>\n",
              "      <td>250898.090000</td>\n",
              "      <td>4.000000</td>\n",
              "      <td>1.00000</td>\n",
              "      <td>1.000000</td>\n",
              "      <td>199992.480000</td>\n",
              "    </tr>\n",
              "  </tbody>\n",
              "</table>\n",
              "</div>\n",
              "      <button class=\"colab-df-convert\" onclick=\"convertToInteractive('df-6f645c2f-8c5e-4070-a19d-e7283ab0bbe1')\"\n",
              "              title=\"Convert this dataframe to an interactive table.\"\n",
              "              style=\"display:none;\">\n",
              "        \n",
              "  <svg xmlns=\"http://www.w3.org/2000/svg\" height=\"24px\"viewBox=\"0 0 24 24\"\n",
              "       width=\"24px\">\n",
              "    <path d=\"M0 0h24v24H0V0z\" fill=\"none\"/>\n",
              "    <path d=\"M18.56 5.44l.94 2.06.94-2.06 2.06-.94-2.06-.94-.94-2.06-.94 2.06-2.06.94zm-11 1L8.5 8.5l.94-2.06 2.06-.94-2.06-.94L8.5 2.5l-.94 2.06-2.06.94zm10 10l.94 2.06.94-2.06 2.06-.94-2.06-.94-.94-2.06-.94 2.06-2.06.94z\"/><path d=\"M17.41 7.96l-1.37-1.37c-.4-.4-.92-.59-1.43-.59-.52 0-1.04.2-1.43.59L10.3 9.45l-7.72 7.72c-.78.78-.78 2.05 0 2.83L4 21.41c.39.39.9.59 1.41.59.51 0 1.02-.2 1.41-.59l7.78-7.78 2.81-2.81c.8-.78.8-2.07 0-2.86zM5.41 20L4 18.59l7.72-7.72 1.47 1.35L5.41 20z\"/>\n",
              "  </svg>\n",
              "      </button>\n",
              "      \n",
              "  <style>\n",
              "    .colab-df-container {\n",
              "      display:flex;\n",
              "      flex-wrap:wrap;\n",
              "      gap: 12px;\n",
              "    }\n",
              "\n",
              "    .colab-df-convert {\n",
              "      background-color: #E8F0FE;\n",
              "      border: none;\n",
              "      border-radius: 50%;\n",
              "      cursor: pointer;\n",
              "      display: none;\n",
              "      fill: #1967D2;\n",
              "      height: 32px;\n",
              "      padding: 0 0 0 0;\n",
              "      width: 32px;\n",
              "    }\n",
              "\n",
              "    .colab-df-convert:hover {\n",
              "      background-color: #E2EBFA;\n",
              "      box-shadow: 0px 1px 2px rgba(60, 64, 67, 0.3), 0px 1px 3px 1px rgba(60, 64, 67, 0.15);\n",
              "      fill: #174EA6;\n",
              "    }\n",
              "\n",
              "    [theme=dark] .colab-df-convert {\n",
              "      background-color: #3B4455;\n",
              "      fill: #D2E3FC;\n",
              "    }\n",
              "\n",
              "    [theme=dark] .colab-df-convert:hover {\n",
              "      background-color: #434B5C;\n",
              "      box-shadow: 0px 1px 3px 1px rgba(0, 0, 0, 0.15);\n",
              "      filter: drop-shadow(0px 1px 2px rgba(0, 0, 0, 0.3));\n",
              "      fill: #FFFFFF;\n",
              "    }\n",
              "  </style>\n",
              "\n",
              "      <script>\n",
              "        const buttonEl =\n",
              "          document.querySelector('#df-6f645c2f-8c5e-4070-a19d-e7283ab0bbe1 button.colab-df-convert');\n",
              "        buttonEl.style.display =\n",
              "          google.colab.kernel.accessAllowed ? 'block' : 'none';\n",
              "\n",
              "        async function convertToInteractive(key) {\n",
              "          const element = document.querySelector('#df-6f645c2f-8c5e-4070-a19d-e7283ab0bbe1');\n",
              "          const dataTable =\n",
              "            await google.colab.kernel.invokeFunction('convertToInteractive',\n",
              "                                                     [key], {});\n",
              "          if (!dataTable) return;\n",
              "\n",
              "          const docLinkHtml = 'Like what you see? Visit the ' +\n",
              "            '<a target=\"_blank\" href=https://colab.research.google.com/notebooks/data_table.ipynb>data table notebook</a>'\n",
              "            + ' to learn more about interactive tables.';\n",
              "          element.innerHTML = '';\n",
              "          dataTable['output_type'] = 'display_data';\n",
              "          await google.colab.output.renderOutput(dataTable, element);\n",
              "          const docLink = document.createElement('div');\n",
              "          docLink.innerHTML = docLinkHtml;\n",
              "          element.appendChild(docLink);\n",
              "        }\n",
              "      </script>\n",
              "    </div>\n",
              "  </div>\n",
              "  "
            ],
            "text/plain": [
              "        CreditScore           Age  ...  IsActiveMember  EstimatedSalary\n",
              "count  10000.000000  10000.000000  ...    10000.000000     10000.000000\n",
              "mean     650.528800     38.921800  ...        0.515100    100090.239881\n",
              "std       96.653299     10.487806  ...        0.499797     57510.492818\n",
              "min      350.000000     18.000000  ...        0.000000        11.580000\n",
              "25%      584.000000     32.000000  ...        0.000000     51002.110000\n",
              "50%      652.000000     37.000000  ...        1.000000    100193.915000\n",
              "75%      718.000000     44.000000  ...        1.000000    149388.247500\n",
              "max      850.000000     92.000000  ...        1.000000    199992.480000\n",
              "\n",
              "[8 rows x 8 columns]"
            ]
          },
          "metadata": {},
          "execution_count": 15
        }
      ]
    },
    {
      "cell_type": "markdown",
      "metadata": {
        "id": "ZLlVNTCQ3uIr"
      },
      "source": [
        "**Как видно из полученной таблицы - у нас наблюдается дисбаланс классов.**\n",
        "\n",
        "**Для начала посчитаем метрики на несбалансированных классах.**"
      ]
    },
    {
      "cell_type": "code",
      "metadata": {
        "id": "rTfTTVOk3uIr",
        "outputId": "594eaf05-a68f-4878-e117-0dcf2fbd6849",
        "colab": {
          "base_uri": "https://localhost:8080/"
        }
      },
      "source": [
        "model = LogisticRegression(random_state=12345, solver='liblinear', class_weight='balanced')\n",
        "model.fit(features_train, target_train)\n",
        "predicted_valid = model.predict(features_valid)\n",
        "probabilities_valid = model.predict_proba(features_valid)\n",
        "probabilities_one_valid = probabilities_valid[:, 1]\n",
        "print(\"F1:\", f1_score(target_valid, predicted_valid),'\\n',\n",
        "      \"AUC-ROC:\", roc_auc_score(target_valid, probabilities_one_valid, average=\"macro\", sample_weight=None))"
      ],
      "execution_count": 16,
      "outputs": [
        {
          "output_type": "stream",
          "name": "stdout",
          "text": [
            "F1: 0.44975124378109455 \n",
            " AUC-ROC: 0.7291295470524217\n"
          ]
        }
      ]
    },
    {
      "cell_type": "code",
      "metadata": {
        "id": "BrUe_Xhj3uIs",
        "outputId": "17600d5f-7202-4ece-fa63-cc640c466b2b",
        "colab": {
          "base_uri": "https://localhost:8080/"
        }
      },
      "source": [
        "best_model_f1 = None\n",
        "best_model_roc_auc = None\n",
        "best_result_f1 = 0\n",
        "best_result_roc_auc = 0\n",
        "for depth in range(1, 21):\n",
        "    model_tree = DecisionTreeClassifier(random_state=12345, max_depth=depth)\n",
        "    model_tree.fit(features_train, target_train) \n",
        "    predictions_valid = model_tree.predict(features_valid)\n",
        "    result_f1 = f1_score(target_valid, predictions_valid)\n",
        "    if result_f1 > best_result_f1:\n",
        "        best_model_f1 = model_tree\n",
        "        best_result_f1 = result_f1\n",
        "        best_depth_f1 = depth\n",
        "    probabilities_valid = model_tree.predict_proba(features_valid)\n",
        "    probabilities_one_valid = probabilities_valid[:, 1]\n",
        "    result_roc_auc = roc_auc_score(target_valid, probabilities_one_valid, average=\"macro\", sample_weight=None)\n",
        "    if result_roc_auc > best_result_roc_auc:\n",
        "        best_model_roc_auc = model_tree\n",
        "        best_result_roc_auc = result_roc_auc\n",
        "        best_depth_roc_auc = depth\n",
        "print(\n",
        "    \"F1 лучшей модели:\", best_result_f1, '\\n',\n",
        "    \"Глубина дерева:\", best_depth_f1, '\\n',\n",
        "    \"AUC-ROC лучшей модели:\", best_result_roc_auc, '\\n',\n",
        "    \"Глубина дерева:\", best_depth_roc_auc,\n",
        "    )"
      ],
      "execution_count": 17,
      "outputs": [
        {
          "output_type": "stream",
          "name": "stdout",
          "text": [
            "F1 лучшей модели: 0.530214424951267 \n",
            " Глубина дерева: 5 \n",
            " AUC-ROC лучшей модели: 0.8289287399716848 \n",
            " Глубина дерева: 6\n"
          ]
        }
      ]
    },
    {
      "cell_type": "code",
      "metadata": {
        "id": "ozU7FB_-3uIt",
        "outputId": "3f443567-7709-4e01-ab41-52690799bb4f",
        "colab": {
          "base_uri": "https://localhost:8080/"
        }
      },
      "source": [
        "best_model_f1 = None\n",
        "best_model_roc_auc = None\n",
        "best_result_f1 = 0\n",
        "best_result_roc_auc = 0\n",
        "for est in range(1, 71, 10):\n",
        "    for depth in range (1, 11):\n",
        "        model_forest = RandomForestClassifier(random_state=12345, n_estimators=est, max_depth=depth)\n",
        "        model_forest.fit(features_train, target_train)\n",
        "        predictions_valid = model_forest.predict(features_valid)\n",
        "        result_f1 = f1_score(target_valid, predictions_valid)\n",
        "        if result_f1 > best_result_f1:\n",
        "            best_model_f1 = model_forest\n",
        "            best_result_f1 = result_f1\n",
        "            best_depth_f1 = depth\n",
        "            best_est_f1 = est\n",
        "        probabilities_valid = model_forest.predict_proba(features_valid)\n",
        "        probabilities_one_valid = probabilities_valid[:, 1]\n",
        "        result_roc_auc = roc_auc_score(target_valid, probabilities_one_valid, average=\"macro\", sample_weight=None)\n",
        "        if result_roc_auc > best_result_roc_auc:\n",
        "            best_model_roc_auc = model_forest\n",
        "            best_result_roc_auc = result_roc_auc \n",
        "            best_depth_roc_auc = depth\n",
        "            best_est_roc_auc = est\n",
        "print(\n",
        "    \"F1 лучшей модели:\", best_result_f1, '\\n',\n",
        "    \"Количество деревьев:\", best_est_f1, '\\n',\n",
        "    \"Глубина дерева:\", best_depth_f1, '\\n',\n",
        "    \"AUC-ROC лучшей модели:\", best_result_roc_auc, '\\n',\n",
        "    \"Количество деревьев:\", best_est_roc_auc, '\\n',\n",
        "    \"Глубина дерева:\", best_depth_roc_auc)"
      ],
      "execution_count": 18,
      "outputs": [
        {
          "output_type": "stream",
          "name": "stdout",
          "text": [
            "F1 лучшей модели: 0.5238095238095238 \n",
            " Количество деревьев: 1 \n",
            " Глубина дерева: 3 \n",
            " AUC-ROC лучшей модели: 0.8535865974516282 \n",
            " Количество деревьев: 61 \n",
            " Глубина дерева: 8\n"
          ]
        }
      ]
    },
    {
      "cell_type": "markdown",
      "metadata": {
        "id": "gU20p52Z3uIt"
      },
      "source": [
        "**Наилучшие результаты у модели \"Случайный лес\" -**\n",
        "\n",
        "**F1: 0.533,**\n",
        "\n",
        "**AUC-ROC: 0.831**"
      ]
    },
    {
      "cell_type": "markdown",
      "metadata": {
        "id": "fiSk8qhn3uIu"
      },
      "source": [
        "## Борьба с дисбалансом"
      ]
    },
    {
      "cell_type": "markdown",
      "metadata": {
        "id": "wmuYj3HJ3uIu"
      },
      "source": [
        "**Избавимся от дисбаланса класса методом увеличения и уменьшения выборки**"
      ]
    },
    {
      "cell_type": "markdown",
      "metadata": {
        "id": "88iLBRqd3uIu"
      },
      "source": [
        "**Увеличим выборку методом upsample**"
      ]
    },
    {
      "cell_type": "code",
      "metadata": {
        "id": "iHhdY3PN3uIu"
      },
      "source": [
        "def upsample(features, target, repeat):\n",
        "    features_zeros = features[target == 0]\n",
        "    features_ones = features[target == 1]\n",
        "    target_zeros = target[target == 0]\n",
        "    target_ones = target[target == 1]\n",
        "    features_upsampled = pd.concat([features_zeros] + [features_ones] * repeat)\n",
        "    target_upsampled = pd.concat([target_zeros] + [target_ones] * repeat)\n",
        "    features_upsampled, target_upsampled = shuffle(\n",
        "        features_upsampled, target_upsampled, random_state=12345)\n",
        "    return features_upsampled, target_upsampled"
      ],
      "execution_count": 19,
      "outputs": []
    },
    {
      "cell_type": "markdown",
      "metadata": {
        "id": "-NrPjzNa3uIv"
      },
      "source": [
        "**Увеличим обучающую выборку:**"
      ]
    },
    {
      "cell_type": "code",
      "metadata": {
        "id": "p-qQRTHZ3uIv"
      },
      "source": [
        "features_upsampled, target_upsampled = upsample(features_train, target_train, 4)"
      ],
      "execution_count": 20,
      "outputs": []
    },
    {
      "cell_type": "markdown",
      "metadata": {
        "id": "r5FC8hWr3uIw"
      },
      "source": [
        "**Проверим размер выборке после увеличения:**"
      ]
    },
    {
      "cell_type": "code",
      "metadata": {
        "id": "e-DlZFLA3uIw"
      },
      "source": [
        "features_zeros = features_upsampled[target_upsampled == 0]\n",
        "features_ones = features_upsampled[target_upsampled == 1]\n",
        "target_zeros = target_upsampled[target_upsampled == 0]\n",
        "target_ones = target_upsampled[target_upsampled == 1]"
      ],
      "execution_count": 21,
      "outputs": []
    },
    {
      "cell_type": "code",
      "metadata": {
        "id": "zFGCOgJM3uIw",
        "outputId": "eded2396-8a9c-41e7-b325-d5c8451e4f5a",
        "colab": {
          "base_uri": "https://localhost:8080/"
        }
      },
      "source": [
        "features_zeros.shape[0]"
      ],
      "execution_count": 22,
      "outputs": [
        {
          "output_type": "execute_result",
          "data": {
            "text/plain": [
              "5096"
            ]
          },
          "metadata": {},
          "execution_count": 22
        }
      ]
    },
    {
      "cell_type": "code",
      "metadata": {
        "id": "AwIZdG6U3uIw",
        "outputId": "93a43560-21d2-4559-8a1e-8d0783b0f882",
        "colab": {
          "base_uri": "https://localhost:8080/"
        }
      },
      "source": [
        "features_ones.shape[0]"
      ],
      "execution_count": 23,
      "outputs": [
        {
          "output_type": "execute_result",
          "data": {
            "text/plain": [
              "5216"
            ]
          },
          "metadata": {},
          "execution_count": 23
        }
      ]
    },
    {
      "cell_type": "markdown",
      "metadata": {
        "id": "Qzl82joA3uIx"
      },
      "source": [
        "**Уменьшим выборку методом downsample**"
      ]
    },
    {
      "cell_type": "code",
      "metadata": {
        "id": "JUJyK5j13uIx"
      },
      "source": [
        "def downsample(features, target, fraction):\n",
        "    features_zeros = features[target == 0]\n",
        "    features_ones = features[target == 1]\n",
        "    target_zeros = target[target == 0]\n",
        "    target_ones = target[target == 1]\n",
        "    features_downsampled = pd.concat(\n",
        "        [features_zeros.sample(frac=fraction, random_state=12345)] + [features_ones])\n",
        "    target_downsampled = pd.concat(\n",
        "        [target_zeros.sample(frac=fraction, random_state=12345)] + [target_ones])\n",
        "    features_downsampled, target_downsampled = shuffle(\n",
        "        features_downsampled, target_downsampled, random_state=12345)\n",
        "    return features_downsampled, target_downsampled"
      ],
      "execution_count": 24,
      "outputs": []
    },
    {
      "cell_type": "markdown",
      "metadata": {
        "id": "4GEIUCms3uIy"
      },
      "source": [
        "**Уменьшим обучающую выборку:**"
      ]
    },
    {
      "cell_type": "code",
      "metadata": {
        "id": "MCtavt3E3uIy"
      },
      "source": [
        "features_downsampled, target_downsampled = downsample(features_train, target_train, 0.25)"
      ],
      "execution_count": 25,
      "outputs": []
    },
    {
      "cell_type": "markdown",
      "metadata": {
        "id": "jGlGO-W83uI0"
      },
      "source": [
        "**Проверим размер выборке после уменьшения:**"
      ]
    },
    {
      "cell_type": "code",
      "metadata": {
        "id": "8EmVJhUu3uI1"
      },
      "source": [
        "features_zeros = features_downsampled[target_downsampled == 0]\n",
        "features_ones = features_downsampled[target_downsampled == 1]\n",
        "target_zeros = target_downsampled[target_downsampled == 0]\n",
        "target_ones = target_downsampled[target_downsampled == 1]"
      ],
      "execution_count": 26,
      "outputs": []
    },
    {
      "cell_type": "code",
      "metadata": {
        "id": "vofgPiqZ3uI1",
        "outputId": "5ac22fe3-746b-4b5c-e034-7e6d280fe594",
        "colab": {
          "base_uri": "https://localhost:8080/"
        }
      },
      "source": [
        "features_zeros.shape[0]"
      ],
      "execution_count": 27,
      "outputs": [
        {
          "output_type": "execute_result",
          "data": {
            "text/plain": [
              "1274"
            ]
          },
          "metadata": {},
          "execution_count": 27
        }
      ]
    },
    {
      "cell_type": "code",
      "metadata": {
        "id": "vMDgzOe_3uI1",
        "outputId": "50ac1209-84d5-4f0e-864e-d45492f1669e",
        "colab": {
          "base_uri": "https://localhost:8080/"
        }
      },
      "source": [
        "features_ones.shape[0]"
      ],
      "execution_count": 28,
      "outputs": [
        {
          "output_type": "execute_result",
          "data": {
            "text/plain": [
              "1304"
            ]
          },
          "metadata": {},
          "execution_count": 28
        }
      ]
    },
    {
      "cell_type": "markdown",
      "metadata": {
        "id": "OtTAYziD3uI1"
      },
      "source": [
        "**Обучим и проверим модели на сбалансированных данных**"
      ]
    },
    {
      "cell_type": "code",
      "metadata": {
        "id": "iS2gJz3V3uI2",
        "outputId": "c212f3f0-5fe3-4af8-b081-16ebcedab8da",
        "colab": {
          "base_uri": "https://localhost:8080/"
        }
      },
      "source": [
        "model = LogisticRegression(random_state=12345, solver='liblinear', class_weight='balanced')\n",
        "model.fit(features_downsampled, target_downsampled)\n",
        "predicted_valid = model.predict(features_valid)\n",
        "probabilities_valid = model.predict_proba(features_valid)\n",
        "probabilities_one_valid = probabilities_valid[:, 1]\n",
        "print(\"F1:\", f1_score(target_valid, predicted_valid),'\\n',\n",
        "      \"AUC-ROC:\", roc_auc_score(target_valid, probabilities_one_valid, average=\"macro\", sample_weight=None))"
      ],
      "execution_count": 29,
      "outputs": [
        {
          "output_type": "stream",
          "name": "stdout",
          "text": [
            "F1: 0.4530168150346192 \n",
            " AUC-ROC: 0.7255949571900492\n"
          ]
        }
      ]
    },
    {
      "cell_type": "code",
      "metadata": {
        "id": "iKYPnML23uI2",
        "outputId": "2f6da071-3608-4f3b-96c5-5ada4c50e5e0",
        "colab": {
          "base_uri": "https://localhost:8080/"
        }
      },
      "source": [
        "model = LogisticRegression(random_state=12345, solver='liblinear', class_weight='balanced')\n",
        "model.fit(features_upsampled, target_upsampled)\n",
        "predicted_valid = model.predict(features_valid)\n",
        "probabilities_valid = model.predict_proba(features_valid)\n",
        "probabilities_one_valid = probabilities_valid[:, 1]\n",
        "print(\"F1:\", f1_score(target_valid, predicted_valid),'\\n',\n",
        "      \"AUC-ROC:\", roc_auc_score(target_valid, probabilities_one_valid, average=\"macro\", sample_weight=None))"
      ],
      "execution_count": 30,
      "outputs": [
        {
          "output_type": "stream",
          "name": "stdout",
          "text": [
            "F1: 0.44975124378109455 \n",
            " AUC-ROC: 0.7291295470524217\n"
          ]
        }
      ]
    },
    {
      "cell_type": "code",
      "metadata": {
        "id": "8CTtNJhV3uI3",
        "outputId": "ed5a96dd-d6c6-4e5f-efd6-d58bc5ab8661",
        "colab": {
          "base_uri": "https://localhost:8080/"
        }
      },
      "source": [
        "best_model_f1 = None\n",
        "best_model_roc_auc = None\n",
        "best_result_f1 = 0\n",
        "best_result_roc_auc = 0\n",
        "for depth in range(1, 21):\n",
        "    model_tree = DecisionTreeClassifier(random_state=12345, max_depth=depth)\n",
        "    model_tree.fit(features_downsampled, target_downsampled)\n",
        "    predictions_valid = model_tree.predict(features_valid)\n",
        "    result_f1 = f1_score(target_valid, predictions_valid)\n",
        "    if result_f1 > best_result_f1:\n",
        "        best_model_f1 = model_tree\n",
        "        best_result_f1 = result_f1\n",
        "        best_depth_f1 = depth\n",
        "    probabilities_valid = model_tree.predict_proba(features_valid)\n",
        "    probabilities_one_valid = probabilities_valid[:, 1]\n",
        "    result_roc_auc = roc_auc_score(target_valid, probabilities_one_valid, average=\"macro\", sample_weight=None)\n",
        "    if result_roc_auc > best_result_roc_auc:\n",
        "        best_model_roc_auc = model_tree\n",
        "        best_result_roc_auc = result_roc_auc\n",
        "        best_depth_roc_auc = depth\n",
        "print(\n",
        "    \"F1 лучшей модели:\", best_result_f1, '\\n',\n",
        "    \"Глубина дерева:\", best_depth_f1, '\\n',\n",
        "    \"AUC-ROC лучшей модели:\", best_result_roc_auc, '\\n',\n",
        "    \"Глубина дерева:\", best_depth_roc_auc,\n",
        "    )"
      ],
      "execution_count": 31,
      "outputs": [
        {
          "output_type": "stream",
          "name": "stdout",
          "text": [
            "F1 лучшей модели: 0.5461441213653603 \n",
            " Глубина дерева: 6 \n",
            " AUC-ROC лучшей модели: 0.8311270237212394 \n",
            " Глубина дерева: 5\n"
          ]
        }
      ]
    },
    {
      "cell_type": "code",
      "metadata": {
        "id": "N4pKj1Gt3uI4",
        "outputId": "1a12d12d-b743-4969-e45e-8a0e7c4886ca",
        "colab": {
          "base_uri": "https://localhost:8080/"
        }
      },
      "source": [
        "best_model_f1 = None\n",
        "best_model_roc_auc = None\n",
        "best_result_f1 = 0\n",
        "best_result_roc_auc = 0\n",
        "for depth in range(1, 21):\n",
        "    model_tree = DecisionTreeClassifier(random_state=12345, max_depth=depth)\n",
        "    model_tree.fit(features_upsampled, target_upsampled)\n",
        "    predictions_valid = model_tree.predict(features_valid)\n",
        "    result_f1 = f1_score(target_valid, predictions_valid)\n",
        "    if result_f1 > best_result_f1:\n",
        "        best_model_f1 = model_tree\n",
        "        best_result_f1 = result_f1\n",
        "        best_depth_f1 = depth\n",
        "    probabilities_valid = model_tree.predict_proba(features_valid)\n",
        "    probabilities_one_valid = probabilities_valid[:, 1]\n",
        "    result_roc_auc = roc_auc_score(target_valid, probabilities_one_valid, average=\"macro\", sample_weight=None)\n",
        "    if result_roc_auc > best_result_roc_auc:\n",
        "        best_model_roc_auc = model_tree\n",
        "        best_result_roc_auc = result_roc_auc\n",
        "        best_depth_roc_auc = depth\n",
        "print(\n",
        "    \"F1 лучшей модели:\", best_result_f1, '\\n',\n",
        "    \"Глубина дерева:\", best_depth_f1, '\\n',\n",
        "    \"AUC-ROC лучшей модели:\", best_result_roc_auc, '\\n',\n",
        "    \"Глубина дерева:\", best_depth_roc_auc,\n",
        "    )"
      ],
      "execution_count": 32,
      "outputs": [
        {
          "output_type": "stream",
          "name": "stdout",
          "text": [
            "F1 лучшей модели: 0.577373211963589 \n",
            " Глубина дерева: 5 \n",
            " AUC-ROC лучшей модели: 0.831741002205507 \n",
            " Глубина дерева: 5\n"
          ]
        }
      ]
    },
    {
      "cell_type": "code",
      "metadata": {
        "id": "T7x1jwNC3uI5",
        "outputId": "8294df70-4bf1-45a6-d532-5f8c693f27ef",
        "colab": {
          "base_uri": "https://localhost:8080/"
        }
      },
      "source": [
        "best_model_f1 = None\n",
        "best_model_roc_auc = None\n",
        "best_result_f1 = 0\n",
        "best_result_roc_auc = 0\n",
        "for est in range(1, 71, 10):\n",
        "    for depth in range (1, 11):\n",
        "        model_forest = RandomForestClassifier(random_state=12345, n_estimators=est, max_depth=depth)\n",
        "        model_forest.fit(features_downsampled, target_downsampled)\n",
        "        predictions_valid = model_forest.predict(features_valid)\n",
        "        result_f1 = f1_score(target_valid, predictions_valid)\n",
        "        if result_f1 > best_result_f1:\n",
        "            best_model_f1 = model_forest\n",
        "            best_result_f1 = result_f1\n",
        "            best_depth_f1 = depth\n",
        "            best_est_f1 = est\n",
        "        probabilities_valid = model_forest.predict_proba(features_valid)\n",
        "        probabilities_one_valid = probabilities_valid[:, 1]\n",
        "        result_roc_auc = roc_auc_score(target_valid, probabilities_one_valid, average=\"macro\", sample_weight=None)\n",
        "        if result_roc_auc > best_result_roc_auc:\n",
        "            best_model_roc_auc = model_forest\n",
        "            best_result_roc_auc = result_roc_auc \n",
        "            best_depth_roc_auc = depth\n",
        "            best_est_roc_auc = est\n",
        "print(\n",
        "    \"F1 лучшей модели:\", best_result_f1, '\\n',\n",
        "    \"Количество деревьев:\", best_est_f1, '\\n',\n",
        "    \"Глубина дерева:\", best_depth_f1, '\\n',\n",
        "    \"AUC-ROC лучшей модели:\", best_result_roc_auc, '\\n',\n",
        "    \"Количество деревьев:\", best_est_roc_auc, '\\n',\n",
        "    \"Глубина дерева:\", best_depth_roc_auc)"
      ],
      "execution_count": 33,
      "outputs": [
        {
          "output_type": "stream",
          "name": "stdout",
          "text": [
            "F1 лучшей модели: 0.5886990801576872 \n",
            " Количество деревьев: 61 \n",
            " Глубина дерева: 6 \n",
            " AUC-ROC лучшей модели: 0.8489540695938592 \n",
            " Количество деревьев: 61 \n",
            " Глубина дерева: 6\n"
          ]
        }
      ]
    },
    {
      "cell_type": "code",
      "metadata": {
        "scrolled": true,
        "id": "Ow25CRWk3uI5",
        "outputId": "d326df3c-4f8c-4bab-9f59-f23006366684",
        "colab": {
          "base_uri": "https://localhost:8080/"
        }
      },
      "source": [
        "best_model_f1 = None\n",
        "best_model_roc_auc = None\n",
        "best_result_f1 = 0\n",
        "best_result_roc_auc = 0\n",
        "for est in range(1, 71, 10):\n",
        "    for depth in range (1, 11):\n",
        "        model_forest = RandomForestClassifier(random_state=12345, n_estimators=est, max_depth=depth)\n",
        "        model_forest.fit(features_upsampled, target_upsampled)\n",
        "        predictions_valid = model_forest.predict(features_valid)\n",
        "        result_f1 = f1_score(target_valid, predictions_valid)\n",
        "        if result_f1 > best_result_f1:\n",
        "            best_model_f1 = model_forest\n",
        "            best_result_f1 = result_f1\n",
        "            best_depth_f1 = depth\n",
        "            best_est_f1 = est\n",
        "        probabilities_valid = model_forest.predict_proba(features_valid)\n",
        "        probabilities_one_valid = probabilities_valid[:, 1]\n",
        "        result_roc_auc = roc_auc_score(target_valid, probabilities_one_valid, average=\"macro\", sample_weight=None)\n",
        "        if result_roc_auc > best_result_roc_auc:\n",
        "            best_model_roc_auc = model_forest\n",
        "            best_result_roc_auc = result_roc_auc \n",
        "            best_depth_roc_auc = depth\n",
        "            best_est_roc_auc = est\n",
        "print(\n",
        "    \"F1 лучшей модели:\", best_result_f1, '\\n',\n",
        "    \"Количество деревьев:\", best_est_f1, '\\n',\n",
        "    \"Глубина дерева:\", best_depth_f1, '\\n',\n",
        "    \"AUC-ROC лучшей модели:\", best_result_roc_auc, '\\n',\n",
        "    \"Количество деревьев:\", best_est_roc_auc, '\\n',\n",
        "    \"Глубина дерева:\", best_depth_roc_auc)"
      ],
      "execution_count": 34,
      "outputs": [
        {
          "output_type": "stream",
          "name": "stdout",
          "text": [
            "F1 лучшей модели: 0.5854922279792747 \n",
            " Количество деревьев: 21 \n",
            " Глубина дерева: 8 \n",
            " AUC-ROC лучшей модели: 0.8492405928865175 \n",
            " Количество деревьев: 41 \n",
            " Глубина дерева: 8\n"
          ]
        }
      ]
    },
    {
      "cell_type": "markdown",
      "metadata": {
        "id": "nYobcxS_3uI6"
      },
      "source": [
        "## Тестирование модели"
      ]
    },
    {
      "cell_type": "code",
      "metadata": {
        "id": "uTVa7mfY3uI6",
        "outputId": "9013899e-b380-4f87-973a-1ca50b92bc12",
        "colab": {
          "base_uri": "https://localhost:8080/"
        }
      },
      "source": [
        "model_forest = RandomForestClassifier(random_state=12345, n_estimators=101, max_depth=11)\n",
        "model_forest.fit(features_upsampled, target_upsampled)\n",
        "predictions_test = model_forest.predict(features_test)\n",
        "result_f1 = f1_score(target_test, predictions_test)\n",
        "probabilities_test = model_forest.predict_proba(features_test)\n",
        "probabilities_one_test = probabilities_test[:, 1]\n",
        "result_roc_auc = roc_auc_score(target_test, probabilities_one_test, average=\"macro\", sample_weight=None)\n",
        "print(\n",
        "    \"F1 лучшей модели:\", result_f1, '\\n',   \n",
        "    \"AUC-ROC лучшей модели:\", result_roc_auc)"
      ],
      "execution_count": 35,
      "outputs": [
        {
          "output_type": "stream",
          "name": "stdout",
          "text": [
            "F1 лучшей модели: 0.5929978118161926 \n",
            " AUC-ROC лучшей модели: 0.8430603176365888\n"
          ]
        }
      ]
    },
    {
      "cell_type": "markdown",
      "metadata": {
        "id": "USSo3Sh33uI7"
      },
      "source": [
        "**Проверим модель на адекватность с помощью DummyClassifier.**"
      ]
    },
    {
      "cell_type": "code",
      "metadata": {
        "id": "zR33M-se3uI7",
        "outputId": "7c66d915-2fdb-49c6-faf8-30e22a3d10f4",
        "colab": {
          "base_uri": "https://localhost:8080/"
        }
      },
      "source": [
        "dummy_clf = DummyClassifier(strategy=\"most_frequent\", random_state=12345)\n",
        "dummy_clf.fit(features_upsampled, target_upsampled)\n",
        "predictions_dummy_test = dummy_clf.predict(features_test)\n",
        "print(\n",
        "    'dummy_score:', dummy_clf.score(features_test, target_test), '\\n',\n",
        "    'f1_score:', f1_score(target_test, predictions_dummy_test)\n",
        ")"
      ],
      "execution_count": 36,
      "outputs": [
        {
          "output_type": "stream",
          "name": "stdout",
          "text": [
            "dummy_score: 0.2035 \n",
            " f1_score: 0.3381803074366431\n"
          ]
        }
      ]
    },
    {
      "cell_type": "markdown",
      "metadata": {
        "id": "Edc7GkJr3uI7"
      },
      "source": [
        "**Для понимания, какие факторы влияют на работу модели, воспользуемся методом feature_importances_ и выведем график**"
      ]
    },
    {
      "cell_type": "code",
      "metadata": {
        "id": "LQgfh1iG3uI8",
        "outputId": "dbbbe53c-f934-4de9-d7b1-03d4dbea67de",
        "colab": {
          "base_uri": "https://localhost:8080/",
          "height": 282
        }
      },
      "source": [
        "feature_importances = pd.Series(model_forest.feature_importances_, index=features.columns)\n",
        "feature_importances.nlargest(25).plot(kind='barh')\n",
        "plt.show"
      ],
      "execution_count": 37,
      "outputs": [
        {
          "output_type": "execute_result",
          "data": {
            "text/plain": [
              "<function matplotlib.pyplot.show>"
            ]
          },
          "metadata": {},
          "execution_count": 37
        },
        {
          "output_type": "display_data",
          "data": {
            "image/png": "[encoded data removed]",
            "text/plain": [
              "<Figure size 432x288 with 1 Axes>"
            ]
          },
          "metadata": {
            "needs_background": "light"
          }
        }
      ]
    },
    {
      "cell_type": "markdown",
      "metadata": {
        "id": "-2PeUEdc3uI8"
      },
      "source": [
        "**Наиболее слабыми признаками являются \"наличие кредитной карты\", \"активность клиента\" и \"сколько лет человек является клиентом банка\"**"
      ]
    },
    {
      "cell_type": "markdown",
      "metadata": {
        "id": "8ejTfpMU3uI8"
      },
      "source": [
        "**Построим ROC-кривую по результатам предсказания модели**"
      ]
    },
    {
      "cell_type": "code",
      "metadata": {
        "id": "MOcTJXC13uI9",
        "outputId": "90e9094c-7b1c-46c4-cbdb-1353ee25e071",
        "colab": {
          "base_uri": "https://localhost:8080/",
          "height": 295
        }
      },
      "source": [
        "model_forest = RandomForestClassifier(random_state=12345, n_estimators=21, max_depth=7)\n",
        "model_forest.fit(features_upsampled, target_upsampled)\n",
        "\n",
        "probabilities_test = model_forest.predict_proba(features_test)\n",
        "probabilities_one_test = probabilities_test[:, 1]\n",
        "\n",
        "fpr, tpr, thresholds = roc_curve(target_test, probabilities_one_test)\n",
        "\n",
        "plt.figure()\n",
        "\n",
        "plt.plot(fpr, tpr, linestyle='--')\n",
        "plt.plot([0, 1], [0, 1], linestyle='--')\n",
        "\n",
        "plt.xlim([0, 1])\n",
        "plt.ylim([0, 1])\n",
        "\n",
        "plt.xlabel('False Positive Rate')\n",
        "plt.ylabel('True Positive Rate')\n",
        "\n",
        "plt.title('ROC-кривая')\n",
        "plt.show()"
      ],
      "execution_count": 38,
      "outputs": [
        {
          "output_type": "display_data",
          "data": {
            "image/png": "[encoded data removed]",
            "text/plain": [
              "<Figure size 432x288 with 1 Axes>"
            ]
          },
          "metadata": {
            "needs_background": "light"
          }
        }
      ]
    },
    {
      "cell_type": "markdown",
      "metadata": {
        "id": "zTdIdffi3uI9"
      },
      "source": [
        "**Выведем средние значения тестовой и обучающей выборки по целевому признаку \"Exited\"**"
      ]
    },
    {
      "cell_type": "code",
      "metadata": {
        "id": "Y7DZPjgR3uI9",
        "outputId": "d5998a56-90ac-4540-d356-4bafc165dcca",
        "colab": {
          "base_uri": "https://localhost:8080/"
        }
      },
      "source": [
        "print(\n",
        "'Среднее значение целевого признака:', target.mean(), '\\n',\n",
        "'Среднее значение предсказаний тестовой модели:', probabilities_one_test.mean())"
      ],
      "execution_count": 39,
      "outputs": [
        {
          "output_type": "stream",
          "name": "stdout",
          "text": [
            "Среднее значение целевого признака: 0.2037 \n",
            " Среднее значение предсказаний тестовой модели: 0.41210345040602486\n"
          ]
        }
      ]
    },
    {
      "cell_type": "markdown",
      "metadata": {
        "id": "b2EPeaHz3uI-"
      },
      "source": [
        "# Вывод\n",
        "\n",
        "**В данном проекте мы рассмотрели работу нескольких обучающих моделей - наилучший показатель у модели \"Случайный лес\" - F1 тестовой модели: 0.593, AUC-ROC тестовой модели: 0.843.**\n",
        "\n",
        "**Если сравнивать в количественном выражении работу модели, то она далека от идеала, поскольку среднее значение целевого признака исходной выборки составляет 0.2037, а среднее значение предсказаний тестовой модели составляет 0.412.**\n",
        "\n",
        "**Но это также может говорить о том, что риск ухода клиента возрастает и менеджерам банка необходимо предпринимать действия для удержания клиентов.**"
      ]
    },
    {
      "cell_type": "markdown",
      "metadata": {
        "id": "IEZP3C1V3uI_"
      },
      "source": [
        "## Чек-лист готовности проекта"
      ]
    },
    {
      "cell_type": "markdown",
      "metadata": {
        "id": "MPqcGw-m3uI_"
      },
      "source": [
        "Поставьте 'x' в выполненных пунктах. Далее нажмите Shift+Enter."
      ]
    },
    {
      "cell_type": "markdown",
      "metadata": {
        "id": "mKPdPTj73uJA"
      },
      "source": [
        "- [x]  Jupyter Notebook открыт\n",
        "- [ ]  Весь код выполняется без ошибок\n",
        "- [ ]  Ячейки с кодом расположены в порядке исполнения\n",
        "- [ ]  Выполнен шаг 1: данные подготовлены\n",
        "- [ ]  Выполнен шаг 2: задача исследована\n",
        "    - [ ]  Исследован баланс классов\n",
        "    - [ ]  Изучены модели без учёта дисбаланса\n",
        "    - [ ]  Написаны выводы по результатам исследования\n",
        "- [ ]  Выполнен шаг 3: учтён дисбаланс\n",
        "    - [ ]  Применено несколько способов борьбы с дисбалансом\n",
        "    - [ ]  Написаны выводы по результатам исследования\n",
        "- [ ]  Выполнен шаг 4: проведено тестирование\n",
        "- [ ]  Удалось достичь *F1*-меры не менее 0.59\n",
        "- [ ]  Исследована метрика *AUC-ROC*"
      ]
    },
    {
      "cell_type": "code",
      "metadata": {
        "id": "Mj9eLKtW3uJA"
      },
      "source": [
        ""
      ],
      "execution_count": 39,
      "outputs": []
    }
  ]
}